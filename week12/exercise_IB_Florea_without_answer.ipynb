{
 "cells": [
  {
   "cell_type": "markdown",
   "metadata": {},
   "source": [
    "Extra Exercise (List Comprehensions)\n",
    "\n",
    "Instantiate a list named list_of_numbers containing all integers multiple of 3 and 4 in the interval [1,100] using list comprehensions.\n",
    "\n",
    "Example output:\n",
    "\n",
    "All integers multiple of 3 and 4 in the interval [1,100]: \n",
    "\n",
    "[12, 24, 36, 48, 60, 72, 84, 96]\n"
   ]
  }
 ],
 "metadata": {
  "kernelspec": {
   "display_name": "Python 3.10.5 64-bit",
   "language": "python",
   "name": "python3"
  },
  "language_info": {
   "name": "python",
   "version": "3.10.5"
  },
  "orig_nbformat": 4,
  "vscode": {
   "interpreter": {
    "hash": "aee8b7b246df8f9039afb4144a1f6fd8d2ca17a180786b69acc140d282b71a49"
   }
  }
 },
 "nbformat": 4,
 "nbformat_minor": 2
}
