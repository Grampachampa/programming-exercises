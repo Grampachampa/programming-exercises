{
 "cells": [
  {
   "cell_type": "markdown",
   "id": "7f754285",
   "metadata": {},
   "source": [
    "# Supplementary Exercises Week 12 - Gergo Pandurcsek"
   ]
  },
  {
   "cell_type": "markdown",
   "id": "4e3df61e",
   "metadata": {},
   "source": [
    "## Dungeons and Dragons\n",
    "\n",
    "Based on the given example class of a _monster_, create a class named _hero_ which inherits the same attributes and attribute values. For this class define a method called <pre>add_weapon</pre>  (no input arguments needed), it adds +5 to the _damage_ attribute and a method called <pre>remove_weapon</pre> which does the opposite. After that create 1 instance of monster and hero each and add a weapon to the hero, then make them fight by first removing the hero's _damage_ from the monster's _health_, then vice-versa. Repeat this round until the health of one drops to zero, then announce (print) out the winner and also how many turns it took.\n",
    "\n",
    "\n",
    "\n",
    "**Example:**  \n",
    "*Given:*\n",
    "<pre>\n",
    "class monster():\n",
    "    def __init__(self):\n",
    "        self.health : int = 100\n",
    "        self.damage : int = 10\n",
    "</pre>\n",
    "*Input:*  \n",
    "\n",
    "<pre>\n",
    "</pre>\n",
    "\n",
    "*Output:*  \n",
    "<pre>\n",
    "The winner is the hero! It took 7 turns.\n",
    "</pre>"
   ]
  },
  {
   "cell_type": "code",
   "execution_count": 2,
   "id": "e889dc27",
   "metadata": {},
   "outputs": [],
   "source": [
    "#optional definitions\n",
    "class monster():\n",
    "    def __init__(self):\n",
    "        self.health : int = 100\n",
    "        self.damage : int = 10\n",
    "        \n",
    "#// BEGIN_TODO\n",
    "\n",
    "\n",
    "#// END_TODO"
   ]
  }
 ],
 "metadata": {
  "kernelspec": {
   "display_name": "Python 3 (ipykernel)",
   "language": "python",
   "name": "python3"
  },
  "language_info": {
   "codemirror_mode": {
    "name": "ipython",
    "version": 3
   },
   "file_extension": ".py",
   "mimetype": "text/x-python",
   "name": "python",
   "nbconvert_exporter": "python",
   "pygments_lexer": "ipython3",
   "version": "3.8.10"
  }
 },
 "nbformat": 4,
 "nbformat_minor": 5
}
