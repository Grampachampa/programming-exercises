{
 "cells": [
  {
   "cell_type": "markdown",
   "id": "fd40ce40",
   "metadata": {},
   "source": [
    "## Extra Exercise week 12"
   ]
  },
  {
   "cell_type": "markdown",
   "id": "d09c76cb",
   "metadata": {},
   "source": [
    "Given a nested list `players` where each tuple is the name of the player and the corresponding bowling score, **use list comprehension** to output the names of the players which score is at least 100."
   ]
  },
  {
   "cell_type": "markdown",
   "id": "0511fec8",
   "metadata": {},
   "source": [
    "Input:\n",
    "`players = [('John', 99), ('Fred', 50), ('Samantha',102), ('Erica', 34), ('Vic', 199),('Max',300)]`\n",
    "\n",
    "Output:\n",
    "`['Samantha', 'Vic', 'Max']`"
   ]
  },
  {
   "cell_type": "code",
   "execution_count": 3,
   "id": "318800ed",
   "metadata": {},
   "outputs": [
    {
     "data": {
      "text/plain": [
       "['Samantha', 'Vic', 'Max']"
      ]
     },
     "execution_count": 3,
     "metadata": {},
     "output_type": "execute_result"
    }
   ],
   "source": [
    "players = [('John', 99), ('Fred', 50), ('Samantha',102), ('Erica', 34), ('Vic', 199),('Max',300)]\n",
    "winners = [i[0] for i in players if i[1] > 100]\n",
    "winners"
   ]
  }
 ],
 "metadata": {
  "kernelspec": {
   "display_name": "Python 3 (ipykernel)",
   "language": "python",
   "name": "python3"
  },
  "language_info": {
   "codemirror_mode": {
    "name": "ipython",
    "version": 3
   },
   "file_extension": ".py",
   "mimetype": "text/x-python",
   "name": "python",
   "nbconvert_exporter": "python",
   "pygments_lexer": "ipython3",
   "version": "3.9.4"
  }
 },
 "nbformat": 4,
 "nbformat_minor": 5
}
