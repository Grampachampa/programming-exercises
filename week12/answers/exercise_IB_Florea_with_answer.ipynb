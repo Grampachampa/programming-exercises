{
 "cells": [
  {
   "cell_type": "markdown",
   "metadata": {},
   "source": [
    "Extra Exercise (List Comprehensions)\n",
    "\n",
    "Instantiate a list named list_of_numbers containing all integers multiple of 3 and 4 in the interval [1,100] using list comprehensions. Print all elements in the list.\n",
    "\n",
    "Example output:\n",
    "\n",
    "All integers multiple of 3 and 4 in the interval [1,100]: \n",
    "\n",
    "[12, 24, 36, 48, 60, 72, 84, 96]"
   ]
  },
  {
   "cell_type": "code",
   "execution_count": 8,
   "metadata": {},
   "outputs": [
    {
     "name": "stdout",
     "output_type": "stream",
     "text": [
      "All integers multiple of 3 and 4 in the interval [1,100]: \n",
      "[12, 24, 36, 48, 60, 72, 84, 96]\n"
     ]
    }
   ],
   "source": [
    "list_of_numbers: list[int] = [n for n in range(1,101) if (n % 3 == 0) and (n % 4 == 0)]\n",
    "\n",
    "print(\"All integers multiple of 3 and 4 in the interval [1,100]: \")\n",
    "print(list_of_numbers)"
   ]
  }
 ],
 "metadata": {
  "kernelspec": {
   "display_name": "Python 3.10.5 64-bit",
   "language": "python",
   "name": "python3"
  },
  "language_info": {
   "codemirror_mode": {
    "name": "ipython",
    "version": 3
   },
   "file_extension": ".py",
   "mimetype": "text/x-python",
   "name": "python",
   "nbconvert_exporter": "python",
   "pygments_lexer": "ipython3",
   "version": "3.10.5"
  },
  "orig_nbformat": 4,
  "vscode": {
   "interpreter": {
    "hash": "aee8b7b246df8f9039afb4144a1f6fd8d2ca17a180786b69acc140d282b71a49"
   }
  }
 },
 "nbformat": 4,
 "nbformat_minor": 2
}
