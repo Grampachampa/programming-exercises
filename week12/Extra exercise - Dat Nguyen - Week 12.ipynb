{
 "cells": [
  {
   "cell_type": "markdown",
   "id": "50127655",
   "metadata": {},
   "source": [
    "## List comprehension with custom function, the lambda statement.\n",
    "\n",
    "You are asked to create a list of dictionary of students, along with the pass/fail result of a certain course. The input would be a list of student name, along with another nested list that has the grades corresponding to the students. Your output should be in the form of a List[Dict(name, \"pass\"/\"fail\")]; a student passes if their average grade is >= 5.5 (do not round). Some students may have more grades than another, so make sure to make your function generalizable.\n",
    "\n",
    "Do this by using list comprehension in 2 way:\n",
    "- Make a separate function to calculate the pass/fail status based on the grade\n",
    "- Use the lambda statement as a short function.\n",
    "\n",
    "The 2 methods should return the same final result.\n",
    "\n",
    "*Input:*  \n",
    "\n",
    "<pre>\n",
    "\n",
    "Student_names = [\"Dan\", \"Yasuo\", \"Joe\", \"Stewie2k\"]\n",
    "Grades = [[9, 7, 4, 0, 1, 4, 8.5], [2, 4, 6, 7, 0, 5], [10, 10, 9, 7, 8.5, 9], [0]]\n",
    "\n",
    "\n",
    "</pre>\n",
    "\n",
    "*Output:*  \n",
    "<pre>\n",
    "Method 1: [{'Dan': 'Fail'}, {'Yasuo': 'Fail'}, {'Joe': 'Pass'}, {'Stewie2k': 'Fail'}]\n",
    "Method 2: [{'Dan': 'Fail'}, {'Yasuo': 'Fail'}, {'Joe': 'Pass'}, {'Stewie2k': 'Fail'}]\n",
    "\n",
    "</pre>"
   ]
  },
  {
   "cell_type": "code",
   "execution_count": 12,
   "id": "ab13c2ed",
   "metadata": {},
   "outputs": [
    {
     "name": "stdout",
     "output_type": "stream",
     "text": [
      "Method 1: [{'Dan': 'Fail'}, {'Yasuo': 'Fail'}, {'Joe': 'Pass'}, {'Stewie2k': 'Fail'}]\n",
      "Method 2: [{'Dan': 'Fail'}, {'Yasuo': 'Fail'}, {'Joe': 'Pass'}, {'Stewie2k': 'Fail'}]\n"
     ]
    }
   ],
   "source": [
    "Student_names = [\"Dan\", \"Yasuo\", \"Joe\", \"Stewie2k\"]\n",
    "Grades = [[9, 7, 4, 0, 1, 4, 8.5], [2, 4, 6, 7, 0, 5], [10, 10, 9, 7, 8.5, 9], [0]]\n",
    "\n",
    "#Method 1:\n",
    "def get_result(grades):\n",
    "    total = 0\n",
    "    nr = len(grades)\n",
    "    for grade in grades:\n",
    "        total += grade\n",
    "    average = total / nr\n",
    "    return \"Pass\" if average >= 5.5 else \"Fail\"\n",
    "\n",
    "result1 = [{x:get_result(y)} for x, y in zip(Student_names, Grades)]\n",
    "print(f\"Method 1: {result1}\")    \n",
    "\n",
    "#Method 2:\n",
    "short_func = lambda x, y: {x: \"Pass\"} if sum(y)/len(y) >= 5.5 else {x: \"Fail\"}\n",
    "result2 = [short_func(x, y) for x, y in zip(Student_names, Grades)]\n",
    "print(f\"Method 2: {result2}\")   "
   ]
  }
 ],
 "metadata": {
  "kernelspec": {
   "display_name": "Python 3 (ipykernel)",
   "language": "python",
   "name": "python3"
  },
  "language_info": {
   "codemirror_mode": {
    "name": "ipython",
    "version": 3
   },
   "file_extension": ".py",
   "mimetype": "text/x-python",
   "name": "python",
   "nbconvert_exporter": "python",
   "pygments_lexer": "ipython3",
   "version": "3.9.7"
  }
 },
 "nbformat": 4,
 "nbformat_minor": 5
}
