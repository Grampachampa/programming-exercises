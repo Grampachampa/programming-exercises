{
 "cells": [
  {
   "cell_type": "markdown",
   "id": "dbcde6d8",
   "metadata": {},
   "source": [
    "### Week 12 -  Ariana \n",
    "Create a function that will read the contents on the file and organize the number of goals per country. It should ask which country is the user interested in and it should print the number of goals from that country within the function. \n",
    "Example input: Enter country:germany\n",
    "Example output: Germany scored 2 goal(s) in the 2018 world cup.\n"
   ]
  },
  {
   "cell_type": "code",
   "execution_count": 2,
   "id": "218b2d03",
   "metadata": {},
   "outputs": [
    {
     "name": "stdout",
     "output_type": "stream",
     "text": [
      "> Enter country:italy\n",
      "\n",
      "> Italy scored 0 goal(s) in the 2018 world cup.\n"
     ]
    }
   ],
   "source": [
    "def goalsPerCountry():\n",
    "  userInput = input(\"> Enter country:\").title()\n",
    "  \n",
    "  file = open(\"goals.txt\",\"r\")\n",
    "  goals = 0\n",
    "  for line in file:\n",
    "    data = line.split(\";\")\n",
    "    player = data[0]\n",
    "    country = data[1]\n",
    "    minutes = int(data[2])\n",
    "    if country == userInput:\n",
    "       goals = goals + 1\n",
    "  file.close()\n",
    "  print(\"\\n> \" + userInput + \" scored \" + str(goals) + \" goal(s) in the 2018 world cup.\")\n",
    "\n",
    "goalsPerCountry()"
   ]
  },
  {
   "cell_type": "code",
   "execution_count": null,
   "id": "859f85e3",
   "metadata": {},
   "outputs": [],
   "source": []
  }
 ],
 "metadata": {
  "kernelspec": {
   "display_name": "Python 3 (ipykernel)",
   "language": "python",
   "name": "python3"
  },
  "language_info": {
   "codemirror_mode": {
    "name": "ipython",
    "version": 3
   },
   "file_extension": ".py",
   "mimetype": "text/x-python",
   "name": "python",
   "nbconvert_exporter": "python",
   "pygments_lexer": "ipython3",
   "version": "3.9.12"
  }
 },
 "nbformat": 4,
 "nbformat_minor": 5
}
