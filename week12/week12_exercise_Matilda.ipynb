{
 "cells": [
  {
   "cell_type": "markdown",
   "id": "7f754285",
   "metadata": {},
   "source": [
    "# Supplementary Exercises Week 12"
   ]
  },
  {
   "cell_type": "markdown",
   "id": "4e3df61e",
   "metadata": {},
   "source": [
    "## Making a grade dictionary\n",
    "\n",
    "You want to help organise the grades for students. At the moment, the grades are stored in a nested list with two elements. The first sublist has the names of all students as strings. The second sublist has the grades for the students in floats. The grades are already ordered, so the first grade belongs to the student whose name is first in the list. To help organise the grades, you want to write the function make_grade_dict, which takes the nested list as an integer and returns a dictionary with the names as keys and the grades as values. Moreover, the function should print out the average, highest and lowest grade.\n",
    "\n",
    "**Notes:**\n",
    "Try to use the zip function and a dictionary comprehension\n",
    "\n",
    "\n",
    "</pre>\n",
    "*Input:*  \n",
    "\n",
    "<pre>\n",
    "grade_list = [[\"Tim\", \"Koen\", \"Maria\", \"Hanna\"], [7.0, 6.5, 5.6, 8.0]]\n",
    "\n",
    "</pre>\n",
    "\n",
    "*Output:*  \n",
    "<pre>\n",
    "{'Tim': 7.0, 'Koen': 6.5, 'Maria': 5.6, 'Hanna': 8.0}\n",
    "</pre>"
   ]
  },
  {
   "cell_type": "code",
   "execution_count": 5,
   "id": "e889dc27",
   "metadata": {},
   "outputs": [
    {
     "name": "stdout",
     "output_type": "stream",
     "text": [
      "The average grade for this exam was: 6.775\n",
      "The highest grade for this exam was: 8.0\n",
      "The lowest grade for this exam was: 5.6\n"
     ]
    },
    {
     "data": {
      "text/plain": [
       "{'Tim': 7.0, 'Koen': 6.5, 'Maria': 5.6, 'Hanna': 8.0}"
      ]
     },
     "execution_count": 5,
     "metadata": {},
     "output_type": "execute_result"
    }
   ],
   "source": [
    "#optional definitions\n",
    "from typing import List, Dict\n",
    "import numpy as np\n",
    "\n",
    "#// BEGIN_TODO\n",
    "\n",
    "def make_grade_dict(grade_list: List[List]) -> Dict[str, float]:\n",
    "    print(f\"The average grade for this exam was: {np.mean(grade_list[1])}\")\n",
    "    print(f\"The highest grade for this exam was: {max(grade_list[1])}\")\n",
    "    print(f\"The lowest grade for this exam was: {min(grade_list[1])}\")\n",
    "\n",
    "    return {name:grade for name,grade in zip(grade_list[0], grade_list[1])}\n",
    "    \n",
    "\n",
    "grade_list = [[\"Tim\", \"Koen\", \"Maria\", \"Hanna\"], [7.0, 6.5, 5.6, 8.0]]\n",
    "\n",
    "make_grade_dict(grade_list=grade_list)\n",
    "\n",
    "#// END_TODO"
   ]
  }
 ],
 "metadata": {
  "kernelspec": {
   "display_name": "Python 3.10.4 ('advancedMachineLearning')",
   "language": "python",
   "name": "python3"
  },
  "language_info": {
   "codemirror_mode": {
    "name": "ipython",
    "version": 3
   },
   "file_extension": ".py",
   "mimetype": "text/x-python",
   "name": "python",
   "nbconvert_exporter": "python",
   "pygments_lexer": "ipython3",
   "version": "3.10.4"
  },
  "vscode": {
   "interpreter": {
    "hash": "4ade60115be3a8bfc00bc5d4fae59dc65a0c94a4e25c5763a7dd66cbb726b48f"
   }
  }
 },
 "nbformat": 4,
 "nbformat_minor": 5
}
