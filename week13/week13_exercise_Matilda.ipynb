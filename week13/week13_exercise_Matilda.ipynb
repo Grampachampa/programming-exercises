{
 "cells": [
  {
   "cell_type": "markdown",
   "id": "7f754285",
   "metadata": {},
   "source": [
    "# Supplementary Exercises Week X - Author name"
   ]
  },
  {
   "cell_type": "markdown",
   "id": "4e3df61e",
   "metadata": {},
   "source": [
    "## Exercise short title/description.\n",
    "\n",
    "Description and optional steps:\n",
    "* step 1\n",
    "* step 2\n",
    "\n",
    "**Notes:**\n",
    "Optional notes.\n",
    "\n",
    "**Example:**  \n",
    "*Given:*\n",
    "<pre>\n",
    "\n",
    "example_dict = {\n",
    "    \"Kosmas\": [7, 6, 7, 8],\n",
    "    \"Nicole\": [10, 9, 3],\n",
    "    \"Benedetta\": [4, 6, 7],\n",
    "    \"Mauricio\": [10, 10, 10]}\n",
    "\n",
    "</pre>\n",
    "*Input:*  \n",
    "\n",
    "<pre>\n",
    "sample_input = 'test'\n",
    "\n",
    "</pre>\n",
    "\n",
    "*Output:*  \n",
    "<pre>\n",
    "{'Kosmas': [7, 6, 7, 8, 2], 'Nicole': [10, 9, 3], 'Benedetta': [4, 6, 7], 'Mauricio': [10, 10, 10]}\n",
    "</pre>"
   ]
  },
  {
   "cell_type": "code",
   "execution_count": 7,
   "id": "e889dc27",
   "metadata": {},
   "outputs": [],
   "source": [
    "#optional definitions\n",
    "from typing import List, Tuple\n",
    "\n",
    "#// BEGIN_TODO\n",
    "class solutions:\n",
    "    def twoSum(self, numbers: List[int], target: int) -> Tuple[int, int]:\n",
    "        \"\"\"\n",
    "        Finds the two indices of a pair of elements whose sum equals a specific target number.\n",
    "\n",
    "        :param numbers: List of numbers \n",
    "        :param target: Target number\n",
    "        returns two indices \n",
    "        \"\"\"\n",
    "        lookup = {}\n",
    "\n",
    "        for i, num in enumerate(numbers):\n",
    "           if target - num in lookup:\n",
    "               return (lookup[target - num], i)\n",
    "           lookup[num] = i\n",
    "\n",
    "    def letter_combinations(digits: str):\n",
    "        pass\n",
    "        \n",
    "\n",
    "#// END_TODO"
   ]
  },
  {
   "cell_type": "code",
   "execution_count": 8,
   "id": "af8bf7d4",
   "metadata": {},
   "outputs": [
    {
     "name": "stdout",
     "output_type": "stream",
     "text": [
      "index1=2, index2=3\n"
     ]
    }
   ],
   "source": [
    "index1, index2 = solutions().twoSum(numbers=[10,20,10,40,50,60,70], target=50)\n",
    "print(f\"index1={index1}, index2={index2}\")"
   ]
  },
  {
   "cell_type": "code",
   "execution_count": null,
   "id": "7a10ab8d",
   "metadata": {},
   "outputs": [],
   "source": []
  }
 ],
 "metadata": {
  "kernelspec": {
   "display_name": "Python 3.10.4 ('advancedMachineLearning')",
   "language": "python",
   "name": "python3"
  },
  "language_info": {
   "codemirror_mode": {
    "name": "ipython",
    "version": 3
   },
   "file_extension": ".py",
   "mimetype": "text/x-python",
   "name": "python",
   "nbconvert_exporter": "python",
   "pygments_lexer": "ipython3",
   "version": "3.10.4"
  },
  "vscode": {
   "interpreter": {
    "hash": "4ade60115be3a8bfc00bc5d4fae59dc65a0c94a4e25c5763a7dd66cbb726b48f"
   }
  }
 },
 "nbformat": 4,
 "nbformat_minor": 5
}
