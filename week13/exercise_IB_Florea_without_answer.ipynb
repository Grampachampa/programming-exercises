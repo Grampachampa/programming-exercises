{
 "cells": [
  {
   "cell_type": "markdown",
   "metadata": {},
   "source": [
    "Extra Exercise (Generator Expressions)\n",
    "\n",
    "Print all integers multiple of 3 and 4 in the interval [1,100] using a generator expression.\n",
    "\n",
    "Example output:\n",
    "\n",
    "All integers multiple of 3 and 4 in the interval [1,100]: \n",
    "\n",
    "12\n",
    "\n",
    "24\n",
    "\n",
    "36\n",
    "\n",
    "48\n",
    "\n",
    "60\n",
    "\n",
    "72\n",
    "\n",
    "84\n",
    "\n",
    "96"
   ]
  }
 ],
 "metadata": {
  "kernelspec": {
   "display_name": "Python 3.10.5 64-bit",
   "language": "python",
   "name": "python3"
  },
  "language_info": {
   "name": "python",
   "version": "3.10.5"
  },
  "orig_nbformat": 4,
  "vscode": {
   "interpreter": {
    "hash": "aee8b7b246df8f9039afb4144a1f6fd8d2ca17a180786b69acc140d282b71a49"
   }
  }
 },
 "nbformat": 4,
 "nbformat_minor": 2
}
