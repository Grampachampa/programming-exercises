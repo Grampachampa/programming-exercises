{
 "cells": [
  {
   "cell_type": "markdown",
   "id": "acc8a7f5",
   "metadata": {},
   "source": [
    "## Regex and classes\n",
    "\n",
    "You are given a note (a string) that belongs to a zoologist, and you are asked to extract data from that note. Specifically, create animal instances that are of class \"Animal\" with attributes name, and type, then add all those instances to a list. At the end, print the animals and their classification in the form \"animal name - classification\". Since it is a note, it has all kinds of irrelevant scribblings, therefore you would need to take a look at it and extract only useful information.\n",
    "\n",
    "Example:\n",
    "\n",
    "Input:\n",
    "\n",
    "\n",
    "\n",
    "input_ = \"This is the opening of the notebook. I seem to have discovered a new species. This creature has 4 legs, a protruded nose, and seems to be carnivorous... Oh no, it seems to have noticed me, I guess this is the end of.... Wait it is snuggling up to me. Upon closer inspection, I realized it was a dog (A dog is a mammal)....... Somethingsomethingsomething gibberish ... q7i2ye871ty2ehuvbasjhdv76 ahjsbd682819871vad (A cat is a mammal) i71t2387ghqasudyviug)_+A(SD)(*)_+Q@EIOUAHSD (A snake is a reptile) Dont ask me, Geeksforgeeks said so... iu1h297ha9sdy)AHUIYSDG(*AYWHD (A frog is an amphibian) uatsgdytfaw7gdutyf2378yg (A spider is an arachnida).\"\n",
    "\n",
    "Find every thing in the list which is seo or regex.\n",
    "\n",
    "Output:\n"
   ]
  },
  {
   "cell_type": "code",
   "execution_count": 21,
   "id": "8f5a2bfc",
   "metadata": {},
   "outputs": [
    {
     "name": "stdout",
     "output_type": "stream",
     "text": [
      "[<__main__.Animal object at 0x000001DA7EC2CE50>, <__main__.Animal object at 0x000001DA7EC2C070>, <__main__.Animal object at 0x000001DA7EC2C790>, <__main__.Animal object at 0x000001DA7EC2C640>, <__main__.Animal object at 0x000001DA7EBE8070>]\n",
      "dog - mammal\n",
      "cat - mammal\n",
      "snake - reptile\n",
      "frog - amphibian\n",
      "spider - arachnida\n"
     ]
    }
   ],
   "source": [
    "import re\n",
    "input_ = \"This is the opening of the notebook. I seem to have discovered a new species. This creature has 4 legs, a protruded nose, and seems to be carnivorous... Oh no, it seems to have noticed me, I guess this is the end of.... Wait it is snuggling up to me. Upon closer inspection, I realized it was a dog (A dog is a mammal)....... Somethingsomethingsomething gibberish ... q7i2ye871ty2ehuvbasjhdv76 ahjsbd682819871vad (A cat is a mammal) i71t2387ghqasudyviug)_+A(SD)(*)_+Q@EIOUAHSD (A snake is a reptile) Dont ask me, Geeksforgeeks said so... iu1h297ha9sdy)AHUIYSDG(*AYWHD (A frog is an amphibian) uatsgdytfaw7gdutyf2378yg (A spider is an arachnida).\"\n",
    "\n",
    "class Animal:\n",
    "    def __init__(self, name, type_):\n",
    "        self.name = name\n",
    "        self.type = type_\n",
    "        \n",
    "    def __str__(self):\n",
    "        return f\"{self.name} - {self.type}\"\n",
    "    \n",
    "useful = re.findall(\"\\(A (\\S+) is (a|an) (\\S+)\\)\", input_)\n",
    "all_animals = []\n",
    "for animal in useful:\n",
    "    all_animals.append(Animal(animal[0], animal[2]))\n",
    "\n",
    "print(all_animals)    \n",
    "\n",
    "for animal_instance in all_animals:\n",
    "    print(animal_instance)"
   ]
  }
 ],
 "metadata": {
  "kernelspec": {
   "display_name": "Python 3 (ipykernel)",
   "language": "python",
   "name": "python3"
  },
  "language_info": {
   "codemirror_mode": {
    "name": "ipython",
    "version": 3
   },
   "file_extension": ".py",
   "mimetype": "text/x-python",
   "name": "python",
   "nbconvert_exporter": "python",
   "pygments_lexer": "ipython3",
   "version": "3.9.7"
  }
 },
 "nbformat": 4,
 "nbformat_minor": 5
}
