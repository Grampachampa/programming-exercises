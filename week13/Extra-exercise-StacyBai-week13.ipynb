{
 "cells": [
  {
   "cell_type": "markdown",
   "id": "7f754285",
   "metadata": {},
   "source": [
    "# Supplementary Exercises Week 13 - Stacy Bai-Regex"
   ]
  },
  {
   "cell_type": "markdown",
   "id": "4e3df61e",
   "metadata": {},
   "source": [
    "Write down the correct regular expressions.\n",
    "\n",
    "**Example:**  \n",
    "\n",
    "*Input:*  \n",
    "\n",
    "<pre>\n",
    "\n",
    "\n",
    "input = ['regex',\n",
    "'seo',\n",
    "'regular expressio']\n",
    "\n",
    "</pre>\n",
    "Find every thing in the list which is seo or regex.\n",
    "\n",
    "*Output:*  \n",
    "<pre>\n",
    "\n",
    "rex = 'seo|regex'\n",
    "[x for x in input if re.search(rex,x)]\n",
    "\n",
    "</pre>"
   ]
  },
  {
   "cell_type": "code",
   "execution_count": 56,
   "id": "6f778ab4",
   "metadata": {},
   "outputs": [
    {
     "ename": "SyntaxError",
     "evalue": "unmatched ']' (311053863.py, line 4)",
     "output_type": "error",
     "traceback": [
      "\u001b[1;36m  Input \u001b[1;32mIn [56]\u001b[1;36m\u001b[0m\n\u001b[1;33m    'regular expressio']\u001b[0m\n\u001b[1;37m                       ^\u001b[0m\n\u001b[1;31mSyntaxError\u001b[0m\u001b[1;31m:\u001b[0m unmatched ']'\n"
     ]
    }
   ],
   "source": [
    "# example\n",
    "input = ['regex',\n",
    "'seo',\n",
    "'regular expressio']\n",
    "rex = 'seo|regex'\n",
    "[x for x in input if re.search(rex,x)]"
   ]
  },
  {
   "cell_type": "code",
   "execution_count": 46,
   "id": "f9e13927",
   "metadata": {},
   "outputs": [],
   "source": [
    "# ex. 1\n",
    "\n",
    "input = ['how to write regex',\n",
    "'how to write regexp',\n",
    "'how to write book review']\n"
   ]
  },
  {
   "cell_type": "markdown",
   "id": "55b9e518",
   "metadata": {},
   "source": [
    "\n",
    "write the expression that starts with how to write and matches everything after it?"
   ]
  },
  {
   "cell_type": "code",
   "execution_count": 49,
   "id": "f0d9c95d",
   "metadata": {},
   "outputs": [],
   "source": [
    "# answer \n",
    "rex = 'how to write.*'"
   ]
  },
  {
   "cell_type": "code",
   "execution_count": 51,
   "id": "680e1604",
   "metadata": {},
   "outputs": [
    {
     "data": {
      "text/plain": [
       "['how to write regex', 'how to write regexp', 'how to write book review']"
      ]
     },
     "execution_count": 51,
     "metadata": {},
     "output_type": "execute_result"
    }
   ],
   "source": [
    "# test\n",
    "[x for x in input if re.search(rex,x)]"
   ]
  },
  {
   "cell_type": "code",
   "execution_count": 53,
   "id": "ed4b5880",
   "metadata": {},
   "outputs": [],
   "source": [
    "# ex. 2\n",
    "\n",
    "input = [\n",
    "'what is regex?',\n",
    "'i want to buy a boat',\n",
    "'how to buy a new phone']\n",
    "\n"
   ]
  },
  {
   "cell_type": "markdown",
   "id": "5a93b7e3",
   "metadata": {},
   "source": [
    "\n",
    "filter out what includes buy.\n",
    "\n"
   ]
  },
  {
   "cell_type": "code",
   "execution_count": 54,
   "id": "55c81a6f",
   "metadata": {},
   "outputs": [
    {
     "data": {
      "text/plain": [
       "['i want to buy a boat', 'how to buy a new phone']"
      ]
     },
     "execution_count": 54,
     "metadata": {},
     "output_type": "execute_result"
    }
   ],
   "source": [
    "# answer \n",
    "rex = '.*buy.*'\n",
    "# test\n",
    "[x for x in input if re.search(rex,x)]\n"
   ]
  },
  {
   "cell_type": "code",
   "execution_count": null,
   "id": "b81c96c2",
   "metadata": {},
   "outputs": [],
   "source": []
  }
 ],
 "metadata": {
  "kernelspec": {
   "display_name": "Python 3 (ipykernel)",
   "language": "python",
   "name": "python3"
  },
  "language_info": {
   "codemirror_mode": {
    "name": "ipython",
    "version": 3
   },
   "file_extension": ".py",
   "mimetype": "text/x-python",
   "name": "python",
   "nbconvert_exporter": "python",
   "pygments_lexer": "ipython3",
   "version": "3.9.12"
  },
  "toc": {
   "base_numbering": 1,
   "nav_menu": {},
   "number_sections": true,
   "sideBar": true,
   "skip_h1_title": false,
   "title_cell": "Table of Contents",
   "title_sidebar": "Contents",
   "toc_cell": false,
   "toc_position": {},
   "toc_section_display": true,
   "toc_window_display": false
  },
  "vscode": {
   "interpreter": {
    "hash": "4e2bcfb31e97470a0ba1fa5db201ea84bd5379ac2b4dcffadfe95cab526b3979"
   }
  }
 },
 "nbformat": 4,
 "nbformat_minor": 5
}
