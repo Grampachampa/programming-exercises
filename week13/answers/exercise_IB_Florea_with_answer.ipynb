{
 "cells": [
  {
   "cell_type": "markdown",
   "metadata": {},
   "source": [
    "Extra Exercise (Generator Expressions)\n",
    "\n",
    "Print all integers multiple of 3 and 4 in the interval [1,100] using a generator expression.\n",
    "\n",
    "Example output:\n",
    "\n",
    "All integers multiple of 3 and 4 in the interval [1,100]: \n",
    "\n",
    "12\n",
    "\n",
    "24\n",
    "\n",
    "36\n",
    "\n",
    "48\n",
    "\n",
    "60\n",
    "\n",
    "72\n",
    "\n",
    "84\n",
    "\n",
    "96"
   ]
  },
  {
   "cell_type": "code",
   "execution_count": 20,
   "metadata": {},
   "outputs": [
    {
     "name": "stdout",
     "output_type": "stream",
     "text": [
      "All integers multiple of 3 and 4 in the interval [1,100]: \n",
      "12\n",
      "24\n",
      "36\n",
      "48\n",
      "60\n",
      "72\n",
      "84\n",
      "96\n"
     ]
    }
   ],
   "source": [
    "from typing import Generator\n",
    "\n",
    "multiples_of_3_4: Generator[int, None, None] = (n for n in range(1,101) \\\n",
    "    if (n % 3 == 0) and (n % 4 == 0))\n",
    "\n",
    "print(\"All integers multiple of 3 and 4 in the interval [1,100]: \")\n",
    "for each in multiples_of_3_4:\n",
    "    print(each)\n"
   ]
  }
 ],
 "metadata": {
  "kernelspec": {
   "display_name": "Python 3.10.5 64-bit",
   "language": "python",
   "name": "python3"
  },
  "language_info": {
   "codemirror_mode": {
    "name": "ipython",
    "version": 3
   },
   "file_extension": ".py",
   "mimetype": "text/x-python",
   "name": "python",
   "nbconvert_exporter": "python",
   "pygments_lexer": "ipython3",
   "version": "3.10.5"
  },
  "orig_nbformat": 4,
  "vscode": {
   "interpreter": {
    "hash": "aee8b7b246df8f9039afb4144a1f6fd8d2ca17a180786b69acc140d282b71a49"
   }
  }
 },
 "nbformat": 4,
 "nbformat_minor": 2
}
