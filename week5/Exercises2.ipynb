{
 "cells": [
  {
   "cell_type": "markdown",
   "metadata": {},
   "source": [
    "<span style=\"font-size:larger;\">Exercise 1</span>\n",
    "\n",
    "<br/>\n",
    "The Fibonacci Sequence is a series of numbers. The next number is found by adding up the two numbers before it. The first two numbers are 0 and 1. Return the fibonacci series as a string up to a given number of terms (there should be a space between each number).\n",
    "\n",
    "For example, given 8, the result should be &nbsp; 0 &nbsp; 1 &nbsp; 1 &nbsp;  2 &nbsp; 3 &nbsp; 5 &nbsp; 8 &nbsp; 13 "
   ]
  },
  {
   "cell_type": "code",
   "execution_count": null,
   "metadata": {},
   "outputs": [],
   "source": [
    "num = 8\n",
    "\n",
    "def fibonacci(num: int) -> str:\n",
    "    \"\"\"\n",
    "    The function returns the series of Fibonacci up to a given number of terms.\n",
    "    \n",
    "    :param num (int): An integer number.\n",
    "\n",
    "    :returns: A string containing num terms of the series of Fibonacci.\n",
    "    \"\"\"\n",
    "    # TODO\n",
    "\n",
    "fibonacci(num)"
   ]
  },
  {
   "cell_type": "markdown",
   "metadata": {},
   "source": [
    "<span style=\"font-size:larger;\">Exercise 2</span>\n",
    "\n",
    "<br/>\n",
    "Write a function that, given a number, prints the cube of all numbers from 1 to a given number (using the while loop). However, the loop should stop when the cube gets bigger than 50.\n",
    "\n",
    "For example, given 5, the output should be:\\\n",
    "The cube of 1 is 1\\\n",
    "The cube of 2 is 8\\\n",
    "The cube of 3 is 27"
   ]
  },
  {
   "cell_type": "code",
   "execution_count": null,
   "metadata": {},
   "outputs": [],
   "source": [
    "num = 5\n",
    "\n",
    "def cube(num: int) -> None:\n",
    "    \"\"\"\n",
    "    The function prints the cube for all the numbers between 1 and the given input.\n",
    "    \n",
    "    :param num (int): An integer number.\n",
    "\n",
    "    :returns: None.\n",
    "    \"\"\"\n",
    "    # TODO\n",
    "\n",
    "cube(num)"
   ]
  }
 ],
 "metadata": {
  "kernelspec": {
   "display_name": "Python 3.9.6 64-bit",
   "language": "python",
   "name": "python3"
  },
  "language_info": {
   "codemirror_mode": {
    "name": "ipython",
    "version": 3
   },
   "file_extension": ".py",
   "mimetype": "text/x-python",
   "name": "python",
   "nbconvert_exporter": "python",
   "pygments_lexer": "ipython3",
   "version": "3.9.6"
  },
  "orig_nbformat": 4,
  "vscode": {
   "interpreter": {
    "hash": "31f2aee4e71d21fbe5cf8b01ff0e069b9275f58929596ceb00d14d90e3e16cd6"
   }
  }
 },
 "nbformat": 4,
 "nbformat_minor": 2
}
