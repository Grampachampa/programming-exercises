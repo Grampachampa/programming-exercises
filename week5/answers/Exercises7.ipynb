{
 "cells": [
  {
   "cell_type": "markdown",
   "metadata": {},
   "source": [
    "Exercise 1\n",
    "\n",
    "Read from input a string of words separated by whitespace and order the letters inside each word in alphanumeric order. Order all the resulting words in the string in alphanumeric order. Print the resulting string.\n",
    "\n",
    "Use the function input([prompt]) to read a line from input.\n",
    "\n",
    "Example: input_string = input(\"Type words separated by whitespace: \")"
   ]
  },
  {
   "cell_type": "code",
   "execution_count": 64,
   "metadata": {},
   "outputs": [
    {
     "name": "stdout",
     "output_type": "stream",
     "text": [
      " aabehlpt aabehlpt adn eelrstt eht eht eht fo\n"
     ]
    }
   ],
   "source": [
    "def sort_each_word(words: str) -> str:\n",
    "    \"\"\"\n",
    "    Returns a string of words where each word is \n",
    "    sorted alphanumerically.\n",
    "\n",
    "    :param words (str): String of words.\n",
    "\n",
    "    :returns: Alphanumeric sort of each word in words\n",
    "    \"\"\"\n",
    "    result_words = \"\"\n",
    "    for word in words.split(\" \"):\n",
    "        result_words += \" \" + \"\".join(sorted(word))\n",
    "    return result_words\n",
    "\n",
    "def sort_words(words: str) -> str:\n",
    "    \"\"\"\n",
    "    Returns a string of words sorted in \n",
    "    alphanumeric order.\n",
    "    \n",
    "    :param words (str): String of words.\n",
    "\n",
    "    :returns: Alphanumeric sort of the words in words\n",
    "    \"\"\"\n",
    "    return \" \".join(sorted(words.split(\" \")))\n",
    "\n",
    "# get input\n",
    "words = input(\"Type words separated by whitespace: \")\n",
    "# sort each word and the string of words and print the result\n",
    "print(sort_words(sort_each_word(words)))"
   ]
  },
  {
   "cell_type": "markdown",
   "metadata": {},
   "source": [
    "Exercise 2\n",
    "\n",
    "Define your own sorting algorithm for sorting a list of integers both in ascending and descending order. \n",
    "\n",
    "Sort and print some arbitrary list first in ascending order and then in descending order."
   ]
  },
  {
   "cell_type": "code",
   "execution_count": 3,
   "metadata": {},
   "outputs": [
    {
     "name": "stdout",
     "output_type": "stream",
     "text": [
      "[1, 2, 2, 3, 3, 3, 4, 4, 5, 6, 7, 8]\n",
      "[8, 7, 6, 5, 4, 4, 3, 3, 3, 2, 2, 1]\n"
     ]
    }
   ],
   "source": [
    "def sort_integers (list: list[int], descending: bool = False) -> list[int]:\n",
    "    \"\"\"\n",
    "    Sorts a list of integers in ascending or descending order;\n",
    "    set descending to true to sort in descending order;\n",
    "    implements the Bubble Sort algorithm.\n",
    "\n",
    "    :param list (list[int]): list of integers.\n",
    "    :param descending (bool): bool to set descending order;\n",
    "                              defaults to False.\n",
    "    :returns: Sorted list of integers from input list.\n",
    "    \"\"\"\n",
    "    for i in range(len(list)-1):\n",
    "        for j in range(len(list)-i-1):\n",
    "            if (list[j] < list[j+1]) and descending:\n",
    "                aux = list[j]\n",
    "                list[j] = list[j+1]\n",
    "                list[j+1] = aux\n",
    "            elif (list[j] > list[j+1]) and not(descending):\n",
    "                aux = list[j]\n",
    "                list[j] = list[j+1]\n",
    "                list[j+1] = aux\n",
    "    return list\n",
    "\n",
    "# sort a list in ascending order and print\n",
    "print(sort_integers([3,4,5,1,2,3,6,7,8,2,3,4]))\n",
    "# sort a list in descending order and print\n",
    "print(sort_integers([3,4,5,1,2,3,6,7,8,2,3,4], descending = True))"
   ]
  }
 ],
 "metadata": {
  "kernelspec": {
   "display_name": "Python 3.10.5 64-bit",
   "language": "python",
   "name": "python3"
  },
  "language_info": {
   "codemirror_mode": {
    "name": "ipython",
    "version": 3
   },
   "file_extension": ".py",
   "mimetype": "text/x-python",
   "name": "python",
   "nbconvert_exporter": "python",
   "pygments_lexer": "ipython3",
   "version": "3.10.5"
  },
  "orig_nbformat": 4,
  "vscode": {
   "interpreter": {
    "hash": "aee8b7b246df8f9039afb4144a1f6fd8d2ca17a180786b69acc140d282b71a49"
   }
  }
 },
 "nbformat": 4,
 "nbformat_minor": 2
}
