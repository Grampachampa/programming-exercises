{
 "cells": [
  {
   "cell_type": "markdown",
   "id": "ab2445a0",
   "metadata": {},
   "source": [
    "Exercise 1:\n",
    "Create a function that will add all numbers from 1 until the number provided by the function. Use a while loop."
   ]
  },
  {
   "cell_type": "code",
   "execution_count": null,
   "id": "d97d9917",
   "metadata": {},
   "outputs": [],
   "source": [
    "def add(top: int) -> int:\n",
    "    index = 0\n",
    "    total = 0\n",
    "    while index < top:\n",
    "        index += 1\n",
    "        total = index + total\n",
    "    return total\n",
    "print(add(int(input())))"
   ]
  },
  {
   "cell_type": "markdown",
   "id": "2a6e5aa1",
   "metadata": {},
   "source": [
    "Exercise 2:\n",
    "Create a function that will return the factorial of the number provided to the function. If the number does not have a factorial, return the same number."
   ]
  },
  {
   "cell_type": "code",
   "execution_count": null,
   "id": "9ee38ee3",
   "metadata": {},
   "outputs": [],
   "source": [
    "def factorial(num: int) -> int:\n",
    "    factorial = 1\n",
    "    if num < 0:\n",
    "        factorial = num\n",
    "    elif num == 0:\n",
    "        factorial = 1\n",
    "    else:\n",
    "        # run loop 5 times\n",
    "        for i in range(1, num + 1):\n",
    "            # multiply factorial by current number\n",
    "            factorial = factorial * i\n",
    "    return factorial\n",
    "print(factorial(int(input())))"
   ]
  }
 ],
 "metadata": {
  "kernelspec": {
   "display_name": "Python 3 (ipykernel)",
   "language": "python",
   "name": "python3"
  },
  "language_info": {
   "codemirror_mode": {
    "name": "ipython",
    "version": 3
   },
   "file_extension": ".py",
   "mimetype": "text/x-python",
   "name": "python",
   "nbconvert_exporter": "python",
   "pygments_lexer": "ipython3",
   "version": "3.9.12"
  }
 },
 "nbformat": 4,
 "nbformat_minor": 5
}
