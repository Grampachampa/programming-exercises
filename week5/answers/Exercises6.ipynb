{
 "cells": [
  {
   "cell_type": "markdown",
   "id": "e9cdb4ea",
   "metadata": {},
   "source": [
    "# Exercise 1 : Name handling\n",
    "***\n",
    "Define a __function__ called _identification_ which takes in 2 persons full name as an argument, named _name_1_ and _name_2_. This function should return their name in a __list__ in a shortened format, which is the initial of the first name, followed by a space and then the full last name.\n",
    "*NOTES:\n",
    "- The inputs are __strings__, the name format used here is __First name__, then __Last name__ divided by a space, with the first letters always being capitalized."
   ]
  },
  {
   "cell_type": "markdown",
   "id": "3c115e7d",
   "metadata": {},
   "source": [
    "## Example:\n",
    "_input_: <br>\n",
    "name_1 = \"Abigail Smith\" <br>\n",
    "name_2 = \"John McAlistair\" <br>\n",
    "<br>\n",
    "_output_: <br>\n",
    "['A. Smith', 'J. McAlistair'] <br>"
   ]
  },
  {
   "cell_type": "code",
   "execution_count": 1,
   "id": "8b28618f",
   "metadata": {},
   "outputs": [
    {
     "name": "stdout",
     "output_type": "stream",
     "text": [
      "['A. Smith', 'J. McAlistair']\n"
     ]
    }
   ],
   "source": [
    "def identification(name_1 : str, name_2 : str) -> list:\n",
    "    name_1_list : list = name_1.split()\n",
    "    name_2_list : list = name_2.split()\n",
    "    name_1_list[0] : str = name_1_list[0][0] + '.'\n",
    "    name_2_list[0] : str = name_2_list[0][0] + '.'\n",
    "    return [' '.join(name_1_list), ' '.join(name_2_list)]\n",
    "\n",
    "name_1 = \"Abigail Smith\"\n",
    "name_2 = \"John McAlistair\"\n",
    "\n",
    "result = identification(name_1,name_2)\n",
    "print(result)"
   ]
  },
  {
   "cell_type": "markdown",
   "id": "c76b5a7f",
   "metadata": {},
   "source": [
    "# Exercise 2 : Counting days\n",
    "***\n",
    "Let's assume you have your birthday on next week's Friday and you want to calculate how many days have to pass until that day. For this, you have to store the current day as the input in a __variable__ called _today_ and use that as a starting point. As a result you should print out the number of days until your birthday.\n",
    "*NOTES:\n",
    "- You can get an user's input with the _input()_ function, which returns a __string__ type.\n",
    "- The valid days of week are: \"Monday\", \"Tuesday\", \"Wednesday\", \"Thursday\", \"Friday\", \"Saturday\", \"Sunday\".\n",
    "- Your birthday is on __next week__."
   ]
  },
  {
   "cell_type": "markdown",
   "id": "1365f352",
   "metadata": {},
   "source": [
    "## Example:\n",
    "_input_: <br>\n",
    "Friday <br>\n",
    "<br>\n",
    "_output_: <br>\n",
    "7 <br>"
   ]
  },
  {
   "cell_type": "code",
   "execution_count": 2,
   "id": "4093d480",
   "metadata": {},
   "outputs": [
    {
     "name": "stdout",
     "output_type": "stream",
     "text": [
      "Friday\n",
      "7\n"
     ]
    }
   ],
   "source": [
    "today = input()\n",
    "birthday : str = \"Friday\"\n",
    "days_of_week : list = [\"Monday\", \"Tuesday\", \"Wednesday\", \"Thursday\", \"Friday\", \"Saturday\", \"Sunday\"]\n",
    "next_week : int = 0\n",
    "days_passed : int  = 0\n",
    "number_of_day : int  = days_of_week.index(today)\n",
    "\n",
    "while next_week != 1 or days_of_week[number_of_day] != birthday:\n",
    "    if number_of_day == 7 : \n",
    "        next_week = 1\n",
    "        number_of_day = 0\n",
    "    days_passed += 1\n",
    "    number_of_day += 1\n",
    "    \n",
    "print(days_passed)\n",
    "    \n",
    "    \n",
    "    "
   ]
  }
 ],
 "metadata": {
  "kernelspec": {
   "display_name": "Python 3 (ipykernel)",
   "language": "python",
   "name": "python3"
  },
  "language_info": {
   "codemirror_mode": {
    "name": "ipython",
    "version": 3
   },
   "file_extension": ".py",
   "mimetype": "text/x-python",
   "name": "python",
   "nbconvert_exporter": "python",
   "pygments_lexer": "ipython3",
   "version": "3.7.9"
  }
 },
 "nbformat": 4,
 "nbformat_minor": 5
}
