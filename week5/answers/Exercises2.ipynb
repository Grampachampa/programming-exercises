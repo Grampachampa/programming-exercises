{
 "cells": [
  {
   "cell_type": "markdown",
   "metadata": {},
   "source": [
    "<span style=\"font-size:larger;\">Exercise 1</span>\n",
    "\n",
    "<br/>\n",
    "The Fibonacci Sequence is a series of numbers. The next number is found by adding up the two numbers before it. The first two numbers are 0 and 1. Return the fibonacci series as a string up to a given number of terms (there should be a space between each number).\n",
    "\n",
    "For example, given 8, the result should be &nbsp; 0 &nbsp; 1 &nbsp; 1 &nbsp;  2 &nbsp; 3 &nbsp; 5 &nbsp; 8 &nbsp; 13 "
   ]
  },
  {
   "cell_type": "code",
   "execution_count": 5,
   "metadata": {},
   "outputs": [
    {
     "data": {
      "text/plain": [
       "'0 1 1 2 3 5 8 13 '"
      ]
     },
     "execution_count": 5,
     "metadata": {},
     "output_type": "execute_result"
    }
   ],
   "source": [
    "num = 8\n",
    "\n",
    "def fibonacci(num: int) -> str:\n",
    "    \"\"\"\n",
    "    The function returns the series of Fibonacci up to a given number of terms.\n",
    "    \n",
    "    :param num (int): An integer number.\n",
    "\n",
    "    :returns: A string containing num terms of the series of Fibonacci.\n",
    "    \"\"\"\n",
    "    num1 = 0\n",
    "    num2 = 1\n",
    "    fibonacci = \"\"\n",
    "\n",
    "    fibonacci += str(num1) + \" \"\n",
    "    fibonacci += str(num2) + \" \"\n",
    "\n",
    "    while num2 <= num:\n",
    "        result  = num1 + num2\n",
    "        fibonacci += str(result) + \" \"\n",
    "        num1 = num2\n",
    "        num2 = result\n",
    "    return fibonacci\n",
    "\n",
    "fibonacci(num)"
   ]
  },
  {
   "cell_type": "markdown",
   "metadata": {},
   "source": [
    "<span style=\"font-size:larger;\">Exercise 2</span>\n",
    "\n",
    "<br/>\n",
    "Write a function that, given a number, prints the cube of all numbers from 1 to a given number (using the while loop). However, the loop should stop when the cube gets bigger than 50.\n",
    "\n",
    "For example, given 5, the output should be:\\\n",
    "The cube of 1 is 1\\\n",
    "The cube of 2 is 8\\\n",
    "The cube of 3 is 27"
   ]
  },
  {
   "cell_type": "code",
   "execution_count": 2,
   "metadata": {},
   "outputs": [
    {
     "name": "stdout",
     "output_type": "stream",
     "text": [
      "The cube of 1 is 1\n",
      "The cube of 2 is 8\n",
      "The cube of 3 is 27\n"
     ]
    }
   ],
   "source": [
    "num = 5\n",
    "\n",
    "def cube(num: int) -> None:\n",
    "    \"\"\"\n",
    "    The function prints the cube for all the numbers between 1 and the given input.\n",
    "    \n",
    "    :param num (int): An integer number.\n",
    "\n",
    "    :returns: None.\n",
    "    \"\"\"\n",
    "    i = 1\n",
    "    while i <= num:\n",
    "        cube = i ** 3\n",
    "        if cube <= 50:\n",
    "            print(\"The cube of {} is {}\".format(i,cube))\n",
    "        else:\n",
    "            break\n",
    "        i += 1\n",
    "\n",
    "cube(num)"
   ]
  }
 ],
 "metadata": {
  "kernelspec": {
   "display_name": "Python 3.8.9 64-bit",
   "language": "python",
   "name": "python3"
  },
  "language_info": {
   "codemirror_mode": {
    "name": "ipython",
    "version": 3
   },
   "file_extension": ".py",
   "mimetype": "text/x-python",
   "name": "python",
   "nbconvert_exporter": "python",
   "pygments_lexer": "ipython3",
   "version": "3.8.9"
  },
  "orig_nbformat": 4,
  "vscode": {
   "interpreter": {
    "hash": "aee8b7b246df8f9039afb4144a1f6fd8d2ca17a180786b69acc140d282b71a49"
   }
  }
 },
 "nbformat": 4,
 "nbformat_minor": 2
}
