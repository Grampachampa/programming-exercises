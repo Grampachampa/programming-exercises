{
 "cells": [
  {
   "cell_type": "markdown",
   "id": "c13a246f-fb91-406a-b985-34bd3150e21c",
   "metadata": {},
   "source": [
    "## Exercise 1 - Theme park"
   ]
  },
  {
   "cell_type": "markdown",
   "id": "1457690d-97be-4770-b211-ccd3b92416bc",
   "metadata": {},
   "source": [
    "In a new theme park, only people who are at least 12 years old are allowed to enter as some of the rides are considered to be too extreme for little children. At the entrance gate, the theme park staff checks the ages of every member of the families about to enter.\n",
    "\n",
    "Write a small program that could be used to help the staff at the entrance. The program should ask for a list of ages and print for each one a message \"You may enter, have fun!\" if the age is above the threshold, or a message \"Please come back later.\" if it is not. After printing the messages, the function should ask for a new list of ages, so that it can quickly be re-used for families arriving one after the other at the theme park gate. The process should repeat until the input \"stop\" is given instead of a list of ages.\n",
    "\n",
    "Example:"
   ]
  },
  {
   "cell_type": "markdown",
   "id": "085c43f9-639e-4b56-a172-c5020b8e7a7f",
   "metadata": {},
   "source": [
    "Input:"
   ]
  },
  {
   "cell_type": "raw",
   "id": "7909ebe4-5be1-453e-8837-b9de581ef2d2",
   "metadata": {},
   "source": [
    "ages = \"42 16 8 39\""
   ]
  },
  {
   "cell_type": "markdown",
   "id": "2453f595-81e8-436b-b723-73c088224ae3",
   "metadata": {},
   "source": [
    "Output:"
   ]
  },
  {
   "cell_type": "raw",
   "id": "5732cd69-8a13-4536-a9bd-f1f374c015fa",
   "metadata": {},
   "source": [
    "You may enter, have fun!\n",
    "You may enter, have fun!\n",
    "Please come back later.\n",
    "You may enter, have fun!"
   ]
  },
  {
   "cell_type": "code",
   "execution_count": null,
   "id": "f7aa39af-ff31-47e2-b08c-c22bd8e5b517",
   "metadata": {},
   "outputs": [],
   "source": [
    "# Example solution:\n",
    "\n",
    "ages = input(\"Please give the ages of the group separated by spaces or type stop to quit.\")\n",
    "\n",
    "while ages != \"stop\":\n",
    "    age_list = ages.split(\" \")\n",
    "    \n",
    "    for age in age_list:\n",
    "        if int(age) >= 12:\n",
    "            print(\"You may enter, have fun!\")\n",
    "            \n",
    "        else:\n",
    "            print(\"Please come back later.\")\n",
    "            \n",
    "    ages = input(\"Please give the ages of the group separated by spaces or type stop to quit.\")\n",
    "    "
   ]
  },
  {
   "cell_type": "markdown",
   "id": "206335b8-a889-4319-bb05-83953f5721fa",
   "metadata": {},
   "source": [
    "## Exercise 2 - Petri dish"
   ]
  },
  {
   "cell_type": "markdown",
   "id": "5392a4b7-405f-4203-9e28-0d5803dbaf82",
   "metadata": {},
   "source": [
    "In a biomedical laboratory, there is a Petri dish of a given size. Inside this dish, scientists place a bacterial sample which has a specific surface size and a specific doubling time. The doubling time is the number of hours required for the bacteria in the sample to proliferate so that the sample doubles in surface size.\n",
    "\n",
    "The scientists want to make sure to incubate the sample until the area of the dish is completely filled with bacteria. Therefore, they set an incubation time that is a multiple of the doubling time and (possibly) exceeds the moment when the dish becomes filled.\n",
    "\n",
    "For example, if they had a Petri dish with an area of 900 $mm^{3}$, a starting sample surface of 250 $mm^{3}$ and a doubling time of 6 hours, then the incubation would be set for 12 hours (250 --> 500 $mm^{3}$ in the first 6 hours, 500 --> 1000 $mm^{3}$ in the second 6 hours, which already makes sure that the Petri dish is full).\n",
    "\n",
    "Define a function called incubation_time which calculates the number of hours the scientists will set for incubation to be sure that the complete surface of the Petri dish is covered with bacteria at the end, given:\n",
    "   - the area of the Petri dish,\n",
    "   - the starting surface size of the sample,\n",
    "   - the number of hours in which the sample doubles in surface.\n",
    "\n",
    "Use this function to calculate how many hours the scientists will wait if the Petri dish has an area of 5000 $mm^{3}$, the starting sample size is 1 $mm^{3}$ and the sample surface doubles every 12 hours. Save the result in a variable called incubation and print it."
   ]
  },
  {
   "cell_type": "markdown",
   "id": "cec72ef1-d800-4668-af53-01d555014cc2",
   "metadata": {},
   "source": [
    "Input:"
   ]
  },
  {
   "cell_type": "raw",
   "id": "4c40e6d4-bc6d-40b4-ba61-caa078dcb394",
   "metadata": {},
   "source": [
    "dish_area = 5000\n",
    "starting_surface = 1\n",
    "doubling_time = 12"
   ]
  },
  {
   "cell_type": "markdown",
   "id": "9f6914f3-50b0-4858-ab15-fc12e1b4f62c",
   "metadata": {},
   "source": [
    "Output:"
   ]
  },
  {
   "cell_type": "raw",
   "id": "68f00670-5732-42e0-90e4-c300dc791978",
   "metadata": {},
   "source": [
    "156"
   ]
  },
  {
   "cell_type": "code",
   "execution_count": null,
   "id": "eac4782e-f4a6-4d5e-8d5d-daab72c7252d",
   "metadata": {},
   "outputs": [],
   "source": [
    "# Example solution:\n",
    "\n",
    "def incubation_time(dish_area: int, starting_surface: int, doubling_time: int) -> int:\n",
    "    \"\"\"\n",
    "    Calculates the incubation time needed for a specific bacterial sample.\n",
    "    \n",
    "    :param dish_area (int): Area of the Petri dish.\n",
    "    :param starting_surface (int): Starting surface of the sample.\n",
    "    :param doubling_time (int): Time in hours needed for the sample surface to double.\n",
    "    \n",
    "    :returns: Incubation time in hours.\n",
    "    \"\"\"\n",
    "\n",
    "    time = 0\n",
    "    covered_area = starting_surface\n",
    "    \n",
    "    while covered_area < dish_area:\n",
    "        \n",
    "        covered_area = covered_area * 2\n",
    "        \n",
    "        time += doubling_time\n",
    "        \n",
    "    return time\n",
    "\n",
    "dish_area: int = 5000\n",
    "starting_surface: int = 1\n",
    "doubling_time: int = 12\n",
    "\n",
    "time: int = incubation_time(dish_area, starting_surface, doubling_time)\n",
    "\n",
    "print(f\"The incubation time will be {time} hours.\")\n"
   ]
  }
 ],
 "metadata": {
  "kernelspec": {
   "display_name": "Python 3 (ipykernel)",
   "language": "python",
   "name": "python3"
  },
  "language_info": {
   "codemirror_mode": {
    "name": "ipython",
    "version": 3
   },
   "file_extension": ".py",
   "mimetype": "text/x-python",
   "name": "python",
   "nbconvert_exporter": "python",
   "pygments_lexer": "ipython3",
   "version": "3.9.7"
  }
 },
 "nbformat": 4,
 "nbformat_minor": 5
}
