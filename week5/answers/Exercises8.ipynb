{
 "cells": [
  {
   "cell_type": "markdown",
   "metadata": {},
   "source": [
    "## 1. Capitalize Letters\n",
    "\n",
    "For this task, you must write a funciton called `capitalize_every_other_letter`, which will capitalize every other letter. The first letter starts out as capitalized.\n",
    "\n",
    "Define a `custom_sentence` variable and use this variable when calling the function. \n",
    "\n",
    "**Note:** You do not count spaces when capitalizing. So for example:\n",
    "\n",
    "*Input:*  \n",
    "```python\n",
    "custom_sentence = \"this is custom\"\n",
    "```\n",
    "\n",
    "*WRONG output*\n",
    "<pre>\n",
    "ThIs iS CuStOm\n",
    "</pre>\n",
    "\n",
    "*CORRECT output*\n",
    "<pre>\n",
    "ThIs Is CuStOm\n",
    "</pre>"
   ]
  },
  {
   "cell_type": "code",
   "execution_count": 32,
   "metadata": {},
   "outputs": [
    {
     "name": "stdout",
     "output_type": "stream",
     "text": [
      "ThE qUiCk BrOwN fOx JuMpS oVeR tHe LaZy DoG\n"
     ]
    }
   ],
   "source": [
    "custom_sentence: str = \"The quick brown fox jumps over the lazy dog\"\t\n",
    "\n",
    "#a function that capitalizes every other letter in a string, not counting spaces\n",
    "def capitalize_every_other_letter(sentence: str) -> str:\n",
    "    \"\"\"Capitalizes every other letter in a string, not counting spaces\"\"\"\n",
    "    new_sentence = \"\"\n",
    "    j = 0\n",
    "    for i in sentence:\n",
    "        if i == \" \":\n",
    "            new_sentence += i\n",
    "        else:\n",
    "            if j % 2 == 0:\n",
    "                new_sentence += i.upper()\n",
    "            else:\n",
    "                new_sentence += i.lower()\n",
    "            j += 1\n",
    "    return new_sentence\n",
    "\n",
    "print(capitalize_every_other_letter(custom_sentence))"
   ]
  },
  {
   "cell_type": "markdown",
   "metadata": {},
   "source": [
    "## 2. Volume Filler\n",
    "\n",
    "Imagine a container, able to store a certain amount of volume. The task is to calculate how many times you can add liquid to this container. However, every time you add liquid to the container, you add twice as much as the previous addition. You should create a function, `calculate_container()`, which will calculate how many times an addition can be made, until the container overflows (not including this overflow addition). The function will require a `continer_size` and `addition_start_value`.\n",
    "\n",
    "Example:\n",
    "\n",
    "*Input:*  \n",
    "```python\n",
    "container_size = 6\n",
    "addition_start_value = 1\n",
    "```\n",
    "\n",
    "*Output*\n",
    "<pre>\n",
    "2\n",
    "</pre>"
   ]
  },
  {
   "cell_type": "code",
   "execution_count": 48,
   "metadata": {},
   "outputs": [
    {
     "name": "stdout",
     "output_type": "stream",
     "text": [
      "2\n"
     ]
    }
   ],
   "source": [
    "container_size = 6\n",
    "addition_start_value = 1\n",
    "\n",
    "#a function that calculates how many times you can add to the container, when you keep adding twice the amount of the previous addition\n",
    "def calculate_container(container_size, addition_start_value):\n",
    "    addition = addition_start_value\n",
    "    current_volume = 0\n",
    "    additions = 0\n",
    "    while (current_volume + addition) <= container_size:\n",
    "        current_volume += addition\n",
    "        addition *= 2\n",
    "        additions += 1\n",
    "    return additions\n",
    "\n",
    "print(calculate_container(container_size, addition_start_value))"
   ]
  }
 ],
 "metadata": {
  "kernelspec": {
   "display_name": "Python 3.8.13 ('Old')",
   "language": "python",
   "name": "python3"
  },
  "language_info": {
   "name": "python",
   "version": "3.8.13"
  },
  "orig_nbformat": 4,
  "vscode": {
   "interpreter": {
    "hash": "b6f266810c103c6655344102d58e74291fb6a65df12de9599700a5dbb07373ea"
   }
  }
 },
 "nbformat": 4,
 "nbformat_minor": 2
}
