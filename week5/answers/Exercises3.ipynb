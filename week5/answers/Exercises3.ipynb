{
 "cells": [
  {
   "cell_type": "markdown",
   "id": "48eaf66f",
   "metadata": {},
   "source": [
    "### Nested functions:\n",
    "\n",
    "* Create an outer function (named outer_function), that will accept two parameters, a and b\n",
    "* Create an inner function (named addition) inside an outer function that will calculate the addition of a and b\n",
    "* At last, an outer function will add 5 into addition and return it\n",
    "* Print out the result so you can see it.\n",
    "\n",
    "Input: outer_fun(5, 10)\n",
    "\n",
    "Output: 20"
   ]
  },
  {
   "cell_type": "code",
   "execution_count": 1,
   "id": "87437e3d",
   "metadata": {},
   "outputs": [
    {
     "name": "stdout",
     "output_type": "stream",
     "text": [
      "20\n"
     ]
    }
   ],
   "source": [
    "# outer function\n",
    "def outer_funtion(a, b):\n",
    "    square = a ** 2\n",
    "\n",
    "    # inner function\n",
    "    def addition(a, b):\n",
    "        return a + b\n",
    "\n",
    "    # call inner function from outer function\n",
    "    add = addition(a, b)\n",
    "    # add 5 to the result\n",
    "    return add + 5\n",
    "\n",
    "result = outer_fun(5, 10)\n",
    "print(result)"
   ]
  },
  {
   "cell_type": "markdown",
   "id": "602a272f",
   "metadata": {},
   "source": [
    "### Mixing strings:\n",
    "\n",
    "Given two strings, s1 and s2. Write a program to create a new string s3 made of the first char of s1, then the last char of s2, Next, the second char of s1 and second last char of s2, and so on. Any leftover chars go at the end of the result.\n",
    "\n",
    "Given input: \n",
    "\n",
    "* s1 = \"Tasty\"\n",
    "* s2 = \"Pizza\"\n",
    "\n",
    "Expected output:\n",
    "\n",
    "TaazsztiyP"
   ]
  },
  {
   "cell_type": "code",
   "execution_count": 4,
   "id": "a604feaf",
   "metadata": {},
   "outputs": [
    {
     "name": "stdout",
     "output_type": "stream",
     "text": [
      "TaazsztiyP\n"
     ]
    }
   ],
   "source": [
    "s1 = \"Tasty\"\n",
    "s2 = \"Pizza\"\n",
    "\n",
    "# get string length\n",
    "s1_length = len(s1)\n",
    "s2_length = len(s2)\n",
    "\n",
    "# get length of a bigger string\n",
    "length = s1_length if s1_length > s2_length else s2_length\n",
    "result = \"\"\n",
    "\n",
    "# reverse s2\n",
    "s2 = s2[::-1]\n",
    "\n",
    "# iterate string \n",
    "# s1 ascending and s2 descending\n",
    "for i in range(length):\n",
    "    if i < s1_length:\n",
    "        result = result + s1[i]\n",
    "    if i < s2_length:\n",
    "        result = result + s2[i]\n",
    "\n",
    "print(result)"
   ]
  }
 ],
 "metadata": {
  "kernelspec": {
   "display_name": "Python 3 (ipykernel)",
   "language": "python",
   "name": "python3"
  },
  "language_info": {
   "codemirror_mode": {
    "name": "ipython",
    "version": 3
   },
   "file_extension": ".py",
   "mimetype": "text/x-python",
   "name": "python",
   "nbconvert_exporter": "python",
   "pygments_lexer": "ipython3",
   "version": "3.8.13"
  }
 },
 "nbformat": 4,
 "nbformat_minor": 5
}
