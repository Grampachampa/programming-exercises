{
 "cells": [
  {
   "cell_type": "markdown",
   "id": "0fad2f79",
   "metadata": {},
   "source": [
    "## exercise 1"
   ]
  },
  {
   "cell_type": "markdown",
   "id": "67e8455e",
   "metadata": {},
   "source": [
    "Task: Numbers is a list which contains serveral interger numbers. Can you create 2 list to seperate odd number and even number.(Please use while loop)\n",
    "\n",
    "example\n",
    "Numbers:\n",
    "\n",
    "[12,37,5,42,8,3]\n",
    "\n",
    "results:\n",
    "\n",
    "[12,42,8],[37,5,3]"
   ]
  },
  {
   "cell_type": "code",
   "execution_count": 6,
   "id": "d93c462f",
   "metadata": {},
   "outputs": [
    {
     "name": "stdout",
     "output_type": "stream",
     "text": [
      "[8, 42, 12] [3, 5, 37]\n"
     ]
    }
   ],
   "source": [
    "# Solution:  \n",
    "\n",
    "Numbers = [12,37,5,42,8,3]\n",
    "# create two empty list to store the result list\n",
    "even = []\n",
    "odd = []\n",
    "\n",
    "# Loop over the whole list\n",
    "while len(Numbers) > 0:\n",
    "    num = Numbers.pop()\n",
    "    \n",
    "    if num % 2 == 0:\n",
    "        even.append(num)\n",
    "    else:\n",
    "        odd.append(num)\n",
    "        \n",
    "print(even,odd)"
   ]
  },
  {
   "cell_type": "markdown",
   "id": "a8c92fe0",
   "metadata": {},
   "source": [
    "## exercise 2"
   ]
  },
  {
   "cell_type": "markdown",
   "id": "8c4bcbdc",
   "metadata": {},
   "source": [
    "Use nested while loop to print stars(*) in patterns.\n",
    "Input is a number n, and output should be a pattern which contains n row, each row contains a certain number of stars, the amount of stars equal to row number.\n",
    "\n",
    "Example: When input is 5, the pattern should be:\n",
    "\n",
    " \\* \n",
    " \n",
    " \\* * \n",
    " \n",
    " \\* * *\n",
    " \n",
    " \\* * * * \n",
    " \n",
    " \\* * * * *\n",
    "\n"
   ]
  },
  {
   "cell_type": "code",
   "execution_count": 15,
   "id": "92a25745",
   "metadata": {},
   "outputs": [
    {
     "name": "stdout",
     "output_type": "stream",
     "text": [
      "* \n",
      "* * \n",
      "* * * \n",
      "* * * * \n",
      "* * * * * \n",
      "* * * * * * \n"
     ]
    }
   ],
   "source": [
    "# Solution:\n",
    "\n",
    "def print_pattern(n: int)-> None:\n",
    "    \"\"\"\n",
    "    Print a stars pattern which contains n row, each row contains some stars, the amount of stars equal to row number.\n",
    "    \n",
    "    :param n (int): How many rows you want to print\n",
    "\n",
    "    :returns: None\n",
    "    \"\"\"\n",
    "    i = 0 # initialize to zero for outer loop\n",
    "    j = 0 # initialize to zero for inner loop\n",
    " \n",
    "    while i <= n:\n",
    "        # outer loop runs n times\n",
    "        while j <= i:\n",
    "            # inner loop runs i times\n",
    "            print(\"*\", end=\" \")\n",
    "            j += 1  # increment before checking inner loop condition\n",
    "        j = 0       # re-initialize after leaving inner loop\n",
    "        i += 1      # increment before checking outer loop condition\n",
    "        print('')\n",
    " \n",
    " \n",
    "\n",
    "n = 5\n",
    "print_pattern(5)"
   ]
  },
  {
   "cell_type": "code",
   "execution_count": null,
   "id": "944899f0",
   "metadata": {},
   "outputs": [],
   "source": []
  }
 ],
 "metadata": {
  "hide_input": false,
  "kernelspec": {
   "display_name": "Python 3",
   "language": "python",
   "name": "python3"
  },
  "language_info": {
   "codemirror_mode": {
    "name": "ipython",
    "version": 3
   },
   "file_extension": ".py",
   "mimetype": "text/x-python",
   "name": "python",
   "nbconvert_exporter": "python",
   "pygments_lexer": "ipython3",
   "version": "3.8.8"
  },
  "toc": {
   "base_numbering": 1,
   "nav_menu": {},
   "number_sections": true,
   "sideBar": true,
   "skip_h1_title": false,
   "title_cell": "Table of Contents",
   "title_sidebar": "Contents",
   "toc_cell": false,
   "toc_position": {},
   "toc_section_display": true,
   "toc_window_display": false
  }
 },
 "nbformat": 4,
 "nbformat_minor": 5
}
