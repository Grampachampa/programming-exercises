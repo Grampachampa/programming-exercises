{
 "cells": [
  {
   "cell_type": "markdown",
   "metadata": {},
   "source": [
    "### First Exercise\n",
    "Write a Python program to print those numbers which are divisible by 4 and 9, between 1 and 100 (both a and 100 included).\\\n",
    "Sample Output: 36 72 108.\n",
    "\n",
    "Try also to make it general so that you can plug in any two numbers which you want to divide by and the number of iterations.\n"
   ]
  },
  {
   "cell_type": "code",
   "execution_count": 3,
   "metadata": {},
   "outputs": [],
   "source": [
    "# solution 1\n",
    "def divisible_by_4_and_9() -> None:\n",
    "    \"\"\"\n",
    "    prints those numbers which are divisible by 4 and 9 between 1 and 1000. \n",
    "    \"\"\"\n",
    "    counter: int = 1\n",
    "    while counter <= 1000:\n",
    "        if counter % 4 == 0 and counter % 9 == 0:\n",
    "            print(counter)\n",
    "        counter += 1\n",
    "\n",
    "\n",
    "divisible_by_4_and_9()\n",
    "\n",
    "# solution 2\n",
    "def divisible_by_two_nums(first_divisible: int, second_divisible: int, num_it: int) -> None:\n",
    "    \"\"\"\n",
    "    prints those numbers which are divisible by two numbers\n",
    "    between 1 and a set number of iterations.  \n",
    "    :param first_divisible: Integer the iterated numbers shoule be divisible by\n",
    "    :param second_divisible: Integer the iterated numbers shoule be divisible by\n",
    "    :param num_it: Number of iterations\n",
    "    \"\"\"\n",
    "    counter: int = 1\n",
    "    while counter <= num_it:\n",
    "        if counter % first_divisible == 0 and counter % second_divisible == 0:\n",
    "            print(counter)\n",
    "        counter += 1\n",
    "\n",
    "divisible_by_two_nums(first_divisible = 10, second_divisible = 20, num_it = 1000)"
   ]
  },
  {
   "cell_type": "markdown",
   "metadata": {},
   "source": [
    "### Second Exercise\n",
    "Write a Python function named string_distinct that takes a sequence of letters and determines whether all the letters are different from each other. The Function takes the parameter string_sequence: str as an argument. The output is a boolean.\n",
    "\n",
    "Example Input: \"abcdefg\"\\\n",
    "Example Outout: True\n"
   ]
  },
  {
   "cell_type": "code",
   "execution_count": 8,
   "metadata": {},
   "outputs": [
    {
     "data": {
      "text/plain": [
       "True"
      ]
     },
     "execution_count": 8,
     "metadata": {},
     "output_type": "execute_result"
    }
   ],
   "source": [
    "# solution 1\n",
    "def string_distinct(string_sequence: str) -> bool:\n",
    "    \"\"\"\n",
    "    Checks whether all letters in a string sequence are different form eachother.\n",
    "    :param string_sequence: String sequence that gets checked\n",
    "    :returns: boolean whether the string is distinct (True) or not (False)\n",
    "    \"\"\"\n",
    "    return True if len(set(string_sequence)) == len(string_sequence) else False\n",
    "\n",
    "string_distinct(\"abcdefg\")\n",
    "\n",
    "# solution 2\n",
    "def string_distinct(string_sequence: str) -> bool:\n",
    "    \"\"\"\n",
    "    Checks whether all letters in a string sequence are different form eachother.\n",
    "    :param string_sequence: String sequence that gets checked\n",
    "    :returns: boolean whether the string is distinct (True) or not (False)\n",
    "    \"\"\"\n",
    "    letters: str = \"\"\n",
    "    distinct = True\n",
    "\n",
    "    for letter in string_sequence: \n",
    "        if letter in letters:\n",
    "            distinct = False\n",
    "        else:\n",
    "            letters += letter\n",
    "    \n",
    "    return distinct\n",
    "\n",
    "string_distinct(\"abcdefg\")"
   ]
  },
  {
   "cell_type": "code",
   "execution_count": null,
   "metadata": {},
   "outputs": [],
   "source": []
  }
 ],
 "metadata": {
  "kernelspec": {
   "display_name": "Python 3.10.4 ('advancedMachineLearning')",
   "language": "python",
   "name": "python3"
  },
  "language_info": {
   "codemirror_mode": {
    "name": "ipython",
    "version": 3
   },
   "file_extension": ".py",
   "mimetype": "text/x-python",
   "name": "python",
   "nbconvert_exporter": "python",
   "pygments_lexer": "ipython3",
   "version": "3.10.4"
  },
  "orig_nbformat": 4,
  "vscode": {
   "interpreter": {
    "hash": "4ade60115be3a8bfc00bc5d4fae59dc65a0c94a4e25c5763a7dd66cbb726b48f"
   }
  }
 },
 "nbformat": 4,
 "nbformat_minor": 2
}
