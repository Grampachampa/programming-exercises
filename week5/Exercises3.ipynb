{
 "cells": [
  {
   "cell_type": "markdown",
   "id": "602a272f",
   "metadata": {},
   "source": [
    "### Mixing strings:\n",
    "\n",
    "Given two strings, s1 and s2. Write a program to create a new string s3 made of the first char of s1, then the last char of s2, Next, the second char of s1 and second last char of s2, and so on. Any leftover chars go at the end of the result.\n",
    "\n",
    "Given input: \n",
    "\n",
    "* s1 = \"Tasty\"\n",
    "* s2 = \"Pizza\"\n",
    "\n",
    "Expected output:\n",
    "\n",
    "TaazsztiyP"
   ]
  },
  {
   "cell_type": "code",
   "execution_count": 1,
   "id": "a604feaf",
   "metadata": {},
   "outputs": [],
   "source": [
    "# TODO"
   ]
  }
 ],
 "metadata": {
  "kernelspec": {
   "display_name": "Python 3.9.6 64-bit",
   "language": "python",
   "name": "python3"
  },
  "language_info": {
   "codemirror_mode": {
    "name": "ipython",
    "version": 3
   },
   "file_extension": ".py",
   "mimetype": "text/x-python",
   "name": "python",
   "nbconvert_exporter": "python",
   "pygments_lexer": "ipython3",
   "version": "3.9.6"
  },
  "vscode": {
   "interpreter": {
    "hash": "31f2aee4e71d21fbe5cf8b01ff0e069b9275f58929596ceb00d14d90e3e16cd6"
   }
  }
 },
 "nbformat": 4,
 "nbformat_minor": 5
}
