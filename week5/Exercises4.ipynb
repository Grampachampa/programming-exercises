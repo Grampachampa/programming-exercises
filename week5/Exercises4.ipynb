{
 "cells": [
  {
   "cell_type": "markdown",
   "id": "0fad2f79",
   "metadata": {},
   "source": [
    "## Exercise 1"
   ]
  },
  {
   "cell_type": "markdown",
   "id": "67e8455e",
   "metadata": {},
   "source": [
    "Task: `numbers` is a list which contains several integer numbers. You have to create a program that creates two lists to seperate odd and even numbers. (hint: use while loop)\n",
    "\n",
    "example\n",
    "Numbers:\n",
    "\n",
    "[12,37,5,42,8,3]\n",
    "\n",
    "results:\n",
    "\n",
    "[12,42,8],[37,5,3]"
   ]
  },
  {
   "cell_type": "code",
   "execution_count": null,
   "id": "d93c462f",
   "metadata": {},
   "outputs": [],
   "source": [
    "# TODO"
   ]
  },
  {
   "cell_type": "markdown",
   "id": "a8c92fe0",
   "metadata": {},
   "source": [
    "## Exercise 2"
   ]
  },
  {
   "cell_type": "markdown",
   "id": "8c4bcbdc",
   "metadata": {},
   "source": [
    "Use nested while loop to print stars(*) in patterns.\n",
    "Input is a number n, and output should be a pattern which contains n row, each row contains a certain number of stars, the amount of stars equal to row number.\n",
    "\n",
    "Example: When input is 5, the pattern should be:\n",
    "\n",
    " \\* \n",
    " \n",
    " \\* * \n",
    " \n",
    " \\* * *\n",
    " \n",
    " \\* * * * \n",
    " \n",
    " \\* * * * *\n",
    "\n"
   ]
  },
  {
   "cell_type": "code",
   "execution_count": 1,
   "id": "92a25745",
   "metadata": {},
   "outputs": [],
   "source": [
    "# Solution:\n",
    "\n",
    "def print_pattern(n: int)-> None:\n",
    "    \"\"\"\n",
    "    Print a stars pattern which contains n row, each row contains some stars, the amount of stars equal to row number.\n",
    "    \n",
    "    :param n (int): How many rows you want to print\n",
    "\n",
    "    :returns: None\n",
    "    \"\"\"\n",
    " \n",
    "\n",
    "n = 5\n",
    "print_pattern(n)"
   ]
  }
 ],
 "metadata": {
  "hide_input": false,
  "kernelspec": {
   "display_name": "Python 3.9.6 64-bit",
   "language": "python",
   "name": "python3"
  },
  "language_info": {
   "codemirror_mode": {
    "name": "ipython",
    "version": 3
   },
   "file_extension": ".py",
   "mimetype": "text/x-python",
   "name": "python",
   "nbconvert_exporter": "python",
   "pygments_lexer": "ipython3",
   "version": "3.9.6"
  },
  "toc": {
   "base_numbering": 1,
   "nav_menu": {},
   "number_sections": true,
   "sideBar": true,
   "skip_h1_title": false,
   "title_cell": "Table of Contents",
   "title_sidebar": "Contents",
   "toc_cell": false,
   "toc_position": {},
   "toc_section_display": true,
   "toc_window_display": false
  },
  "vscode": {
   "interpreter": {
    "hash": "31f2aee4e71d21fbe5cf8b01ff0e069b9275f58929596ceb00d14d90e3e16cd6"
   }
  }
 },
 "nbformat": 4,
 "nbformat_minor": 5
}
