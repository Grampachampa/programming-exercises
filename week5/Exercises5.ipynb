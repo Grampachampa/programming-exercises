{
 "cells": [
  {
   "cell_type": "markdown",
   "metadata": {},
   "source": [
    "## X. Secret Language\n",
    "\n",
    "A made up secret language has the following translation guide:\n",
    "    - Every letter in the original word is shifted 3 letters in the english alphabet.\n",
    "        (For example: b becomes e)\n",
    "    - If the letter is one of the last 3 letters in the alphabet, the new letter will be looped back over the alphabet.\n",
    "        (For example: y becomes b)\n",
    "\n",
    "Create a function translate_to_secret() that takes a string as arguement and returns this string translated to the secret language.\n",
    "\n",
    "**Notes:**  \n",
    "- Your function only has to work for single, lower case words (that is, you only have to take the characters a-z into account).\n",
    "\n",
    "**Hint:**  \n",
    "- Use the ord() and chr() functions when working with characters and their ASCII values\n",
    "\n",
    "**Example:**  \n",
    "*Input:*  \n",
    "<pre>\n",
    "\"xylophone\"\n",
    "</pre>\n",
    "\n",
    "*Output:*  \n",
    "<pre>\n",
    "\"aborskrqh\"\n",
    "</pre>"
   ]
  },
  {
   "cell_type": "code",
   "execution_count": 2,
   "metadata": {},
   "outputs": [],
   "source": [
    "#// BEGIN_TODO [secret] Secret Language\n",
    "\n",
    "def translate_to_secret(word : str) -> str:\n",
    "    \"\"\"Takes a string and translates it to the secret language.\"\"\"\n",
    "    # TODO\n",
    "\n",
    "#// END_TODO [secret]"
   ]
  },
  {
   "cell_type": "markdown",
   "metadata": {},
   "source": [
    "## X. Secret Language 2\n",
    "\n",
    "Adjust the tanslate_to_secret() function from before so that instead of shifting every letter by 3, it takes an integer as arguement and shifts every letter by that much. Name your new function translate_to_secret_b(). For example, translate_to_secret_b(\"abc\", 2) should return \"cde\". Your function should also work for negative numbers and numbers higher than 26.\n",
    "\n",
    "**Notes:**  \n",
    "- You still only need to take single, lower case words into account.\n",
    "- Your function should also work for integers that are negative numbers and numbers higher than 26.\n",
    "\n",
    "**Example:**  \n",
    "*Input:*  \n",
    "<pre>\n",
    "    word = \"alphabet\"\n",
    "    to_shift = -27\n",
    "</pre>\n",
    "\n",
    "*Output:*  \n",
    "<pre>\n",
    "    \"zkogzads\"\n",
    "</pre>"
   ]
  },
  {
   "cell_type": "code",
   "execution_count": null,
   "metadata": {},
   "outputs": [],
   "source": [
    "#// BEGIN_TODO [secret_2] Secret Language 2\n",
    "\n",
    "def translate_to_secret_b(word : str, to_shift: int) -> str:\n",
    "    \"\"\"Takes a string and an integer and translates the string depending on the integer.\"\"\"\n",
    "    \n",
    "print(translate_to_secret_b(\"alphabet\", -27))\n",
    "\n",
    "#// END_TODO [secret_2]"
   ]
  }
 ],
 "metadata": {
  "kernelspec": {
   "display_name": "Python 3.9.6 64-bit",
   "language": "python",
   "name": "python3"
  },
  "language_info": {
   "codemirror_mode": {
    "name": "ipython",
    "version": 3
   },
   "file_extension": ".py",
   "mimetype": "text/x-python",
   "name": "python",
   "nbconvert_exporter": "python",
   "pygments_lexer": "ipython3",
   "version": "3.9.6"
  },
  "orig_nbformat": 4,
  "vscode": {
   "interpreter": {
    "hash": "31f2aee4e71d21fbe5cf8b01ff0e069b9275f58929596ceb00d14d90e3e16cd6"
   }
  }
 },
 "nbformat": 4,
 "nbformat_minor": 2
}
