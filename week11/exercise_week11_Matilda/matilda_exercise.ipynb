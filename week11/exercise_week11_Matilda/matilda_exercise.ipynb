{
 "cells": [
  {
   "cell_type": "markdown",
   "id": "7f754285",
   "metadata": {},
   "source": [
    "# Supplementary Exercises Week 12 - Matilda"
   ]
  },
  {
   "cell_type": "markdown",
   "id": "4e3df61e",
   "metadata": {},
   "source": [
    "## Analysing Shakespeare's The Sonnets\n",
    "\n",
    "#### Description and optional steps:\n",
    "Shakespeare's work The Sonnets can be found in the text.txt file linked in the folder. You want to analyse the words of the poems. Therefore you write the function word_analysis which takes the path to the file as a string as a keyword argument. The function should read in the text file and split the text without punctuation and upper cases into a list of words. Then, you want to analyse the words. Therefore, you save all words uniquely (so without dublicates) in the variable single_words. Hint: think about the data structure you use. Then, you make two dictionaries. The first dictionary word_abs_count saves the words as keys with the number of occurrence of each word as values. The second dictionary, word_rel_count, saves the words as keys with the relative number of occurrence of each word as values. For this, divide the absolute number of occurrence of one word by the total number of all words. Round the relative occurance to 2 decimal places. The function returns the the unique words, the dictionary word_abs_count and the dictionary word_rel_count.\n",
    "\n",
    "\n",
    "**Notes:**\n",
    "- Think about the data structure you use for saving the unique words, that can save you much time\n",
    "- Look into the Counter method from collections to count the absolute words.\n",
    "- Use the round() function for rounding the relative word occurrence.\n",
    "\n",
    "\n",
    "</pre>\n",
    "*Input:*  \n",
    "\n",
    "<pre>\n",
    "path = \"The_Sonnets.txt\"\n",
    "\n",
    "</pre>\n",
    "\n",
    "*Output:*  \n",
    "<pre>\n",
    "{'cheap',\n",
    " 'wondring',\n",
    " 'religious',\n",
    " 'bind',\n",
    " 'takes',...}, \n",
    " \n",
    "{'the': 431,\n",
    "'sonnets': 1,\n",
    "'by': 94,\n",
    "'william': 1,\n",
    "'shakespeare': 1,...}, \n",
    "\n",
    "{'the': 0.02,\n",
    " 'sonnets': 0.0,\n",
    " 'by': 0.01,\n",
    " 'william': 0.0,\n",
    " 'shakespeare': 0.0,...}\n",
    "</pre>"
   ]
  },
  {
   "cell_type": "code",
   "execution_count": 1,
   "id": "e889dc27",
   "metadata": {},
   "outputs": [],
   "source": [
    "#optional definitions\n",
    "from typing import Tuple\n",
    "from collections import Counter\n",
    "import string\n",
    "\n",
    "#// BEGIN_TODO\n",
    "def word_analysis(path: str) -> Tuple[any]:\n",
    "    \"\"\"\n",
    "    Reads in a text file and splits the text without pictuation and upper \n",
    "    cases into a list of words. Makes a set with all individual words and two dictionaries\n",
    "    with the absolute appearance of each word and the relative appearance \n",
    "    of each word.\n",
    "\n",
    "    :param path: The path to the file\n",
    "    returns a Tuple containing the set of all words\n",
    "    a dictionary with the absolute word counts and\n",
    "    a dictionary with the relative word counts.\n",
    "    \"\"\"\n",
    "\n",
    "    with open(path) as file:\n",
    "        word_list = file.read().translate(str.maketrans('', '', string.punctuation)).lower().split()\n",
    "        num_words = len(word_list)\n",
    "\n",
    "        single_words = set(word_list)\n",
    "        word_abs_count = Counter(word_list)\n",
    "        word_rel_count = dict()\n",
    "\n",
    "        for key, value in word_abs_count.items():\n",
    "            word_rel_count[key] = round(value/num_words, 2)\n",
    "        \n",
    "        return single_words, word_abs_count, word_rel_count\n",
    "\n",
    "\n",
    "path = \"The_Sonnets.txt\"\n",
    "\n",
    "single_words, word_abs_count, word_rel_count = word_analysis(path)\n",
    "#// END_TODO"
   ]
  }
 ],
 "metadata": {
  "kernelspec": {
   "display_name": "Python 3.10.4 ('advancedMachineLearning')",
   "language": "python",
   "name": "python3"
  },
  "language_info": {
   "codemirror_mode": {
    "name": "ipython",
    "version": 3
   },
   "file_extension": ".py",
   "mimetype": "text/x-python",
   "name": "python",
   "nbconvert_exporter": "python",
   "pygments_lexer": "ipython3",
   "version": "3.10.4"
  },
  "vscode": {
   "interpreter": {
    "hash": "4ade60115be3a8bfc00bc5d4fae59dc65a0c94a4e25c5763a7dd66cbb726b48f"
   }
  }
 },
 "nbformat": 4,
 "nbformat_minor": 5
}
