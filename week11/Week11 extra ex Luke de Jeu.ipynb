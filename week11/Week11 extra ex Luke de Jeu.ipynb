{
 "cells": [
  {
   "cell_type": "markdown",
   "id": "7f754285",
   "metadata": {},
   "source": [
    "# Supplementary Exercises Week 11 - Luke de Jeu"
   ]
  },
  {
   "cell_type": "markdown",
   "id": "4e3df61e",
   "metadata": {},
   "source": [
    "## Dating App\n",
    "\n",
    "You are working for a dating app company. You must create a class that represents a user of the app, ``class Person``. The class must have the following attributes: Name, age, hobbies and gender. The class must have 4 methods: ``__init__``, which intitializes the object, and adds default values when they are left empty. ``__str__``, which returns a string representation of the object, when it is printed. ``addHobbies``, which adds a hobby to the list of hobbies. ``howInteresting``, which can be called to find out what level of interest the person is, and returns a string dependent on the number of hobbies they have. The levels of interest are as follows: 0 hobbies = super boring, 1-2 hobbies = boring, 3-4 hobbies = interesting, 5+ hobbies = super interesting.\n",
    "\n",
    "Hobbies must be stored in a list. The addHobbies method must be able to add a single hobby, or a list of hobbies. The person cannot have duplicate hobbies. \n",
    "\n"
   ]
  },
  {
   "cell_type": "code",
   "execution_count": 4,
   "id": "e889dc27",
   "metadata": {},
   "outputs": [],
   "source": [
    "#// CREATE A CLASS \"Person\" WITH 4 METHODS\n",
    "\n",
    "class Person:\n",
    "    def __init__(self, name= \"NoName\", age= 0, hobbies= [\"NoHobbies\"], gender= \"NoGender\"):\n",
    "        self.name= name\n",
    "        self.age= age\n",
    "        self.hobbies= hobbies\n",
    "        self.gender= gender\n",
    "\n",
    "    def __str__(self):\n",
    "        return \"This is \" + self.name + \", they are \" + self.age + \" years old. They like \" + \\\n",
    "        str(self.hobbies) + \" and are a \" + self.gender + \".\"\n",
    "\n",
    "    def addHobbies(self, hobby):\n",
    "        if type (hobby) == list:\n",
    "            for i in hobby:\n",
    "                if i not in self.hobbies:\n",
    "                    self.hobbies.append(i)\n",
    "        else:\n",
    "            if hobby not in self.hobbies:\n",
    "                self.hobbies.append(hobby)\n",
    "\n",
    "    def howInteresting(self):\n",
    "        if self.hobbies == [\"NoHobbies\"]:\n",
    "            return \"Super boring\"\n",
    "        elif len(self.hobbies) < 3:\n",
    "            return \"Boring\"\n",
    "        elif len(self.hobbies) < 5:\n",
    "            return \"Interesting\"\n",
    "        else:\n",
    "            return \"Super interesting\"\n",
    "\n",
    "#// END OF CLASS\n",
    "\n",
    "#// CREATE AN OBJECT \"person1\" WITH THE CLASS \"Person\"\n",
    "person1 = Person(\"Hank\", \"17\", [\"Coding\", \"Gaming\", \"Reading\"], \"Male\")\n"
   ]
  },
  {
   "cell_type": "code",
   "execution_count": 5,
   "id": "f39529d6",
   "metadata": {},
   "outputs": [
    {
     "name": "stdout",
     "output_type": "stream",
     "text": [
      "This is Hank, they are 17 years old. They like ['Coding', 'Gaming', 'Reading'] and are a Male.\n",
      "This is Hank, they are 17 years old. They like ['Coding', 'Gaming', 'Reading', 'Football', 'Basketball', 'Swimming'] and are a Male.\n",
      "Super interesting\n"
     ]
    }
   ],
   "source": [
    "#// DO NOT CHANGE THE CODE BELOW\n",
    "print(person1)\n",
    "\n",
    "person1.addHobbies([\"Football\", \"Basketball\", \"Gaming\"])\n",
    "person1.addHobbies(\"Swimming\")\n",
    "\n",
    "print(person1)\n",
    "\n",
    "print(person1.howInteresting())"
   ]
  },
  {
   "cell_type": "markdown",
   "id": "429b1be0",
   "metadata": {},
   "source": [
    "*Expected output:*  \n",
    "<pre>\n",
    "This is Hank, they are 17 years old. They like ['Coding', 'Gaming', 'Reading'] and are a Male.\n",
    "This is Hank, they are 17 years old. They like ['Coding', 'Gaming', 'Reading', 'Football', 'Basketball', 'Swimming'] and are a Male.\n",
    "Super interesting\n",
    "</pre>"
   ]
  }
 ],
 "metadata": {
  "kernelspec": {
   "display_name": "Python 3.8.13 ('Old')",
   "language": "python",
   "name": "python3"
  },
  "language_info": {
   "codemirror_mode": {
    "name": "ipython",
    "version": 3
   },
   "file_extension": ".py",
   "mimetype": "text/x-python",
   "name": "python",
   "nbconvert_exporter": "python",
   "pygments_lexer": "ipython3",
   "version": "3.8.13"
  },
  "vscode": {
   "interpreter": {
    "hash": "b6f266810c103c6655344102d58e74291fb6a65df12de9599700a5dbb07373ea"
   }
  }
 },
 "nbformat": 4,
 "nbformat_minor": 5
}
