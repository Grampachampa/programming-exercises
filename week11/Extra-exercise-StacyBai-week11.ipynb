{
 "cells": [
  {
   "cell_type": "markdown",
   "id": "7f754285",
   "metadata": {},
   "source": [
    "# Supplementary Exercises Week 11 - Stacy Bai-Class"
   ]
  },
  {
   "cell_type": "markdown",
   "id": "4e3df61e",
   "metadata": {},
   "source": [
    "## Class Person and child class Student\n",
    "* 1.Create a Python class Person with attributes: name and age of type string.\n",
    "\n",
    "* 2.Create a display() method that displays the name and age of an object created via the Person class.\n",
    "\n",
    "* 3.Create a child class Student  which inherits from the Person class and which also has a section attribute.\n",
    "* 4.Create a method displayStudent() that displays the name, age and section of an object created via the Student class.\n",
    "* 5.Create a student object via an instantiation on the Student class and then test the displayStudent method\n",
    "\n",
    "**Example:**  \n",
    "\n",
    "*Input:*  \n",
    "\n",
    "<pre>\n",
    "\n",
    "S = Student(\"Albert\", 23 , \"Mathematics\")\n",
    "S.displayStudent()\n",
    "\n",
    "\n",
    "</pre>\n",
    "\n",
    "*Output:*  \n",
    "<pre>\n",
    "\n",
    "Student name :  Albert\n",
    "Student age =  23\n",
    "Student section =  Mathematics\n",
    "</pre>"
   ]
  },
  {
   "cell_type": "code",
   "execution_count": 1,
   "id": "e889dc27",
   "metadata": {},
   "outputs": [
    {
     "name": "stdout",
     "output_type": "stream",
     "text": [
      "Person name :  Tomas Wild\n",
      "Person age =  37\n",
      "-------------------------------\n",
      "Student name :  Albert\n",
      "Student age =  23\n",
      "Student section =  Mathematics\n"
     ]
    }
   ],
   "source": [
    "# create Person class\n",
    "class Person:\n",
    "    # define constructor with name and age as parameters\n",
    "    def __init__(self, name, age):\n",
    "        self.name = name\n",
    "        self.age = age\n",
    "    # create display method fro Person class\n",
    "    def display(self):\n",
    "        print(\"Person name : \", self.name)\n",
    "        print(\"Person age = \", self.age)\n",
    "    \n",
    "# create child class Student of Person class\n",
    "class Student(Person):\n",
    "    # define constructor of Student class with section additional parameters \n",
    "    def __init__(self, name , age , section):\n",
    "        Person.__init__(self,name, age)\n",
    "        self.section = section\n",
    "    \n",
    "    # Create display method for Student class\n",
    "    def displayStudent(self):\n",
    "        print(\"Student name : \", self.name)\n",
    "        print(\"Student age = \", self.age)\n",
    "        print(\"Student section = \", self.section)\n",
    "    \n",
    "# Testing Person class\n",
    "P = Person(\"Tomas Wild\", 37)\n",
    "P.display()\n",
    "print(\"-------------------------------\")\n",
    "S = Student(\"Albert\", 23 , \"Mathematics\")\n",
    "S.displayStudent()"
   ]
  },
  {
   "cell_type": "code",
   "execution_count": null,
   "id": "6f778ab4",
   "metadata": {},
   "outputs": [],
   "source": [
    "1\n"
   ]
  }
 ],
 "metadata": {
  "kernelspec": {
   "display_name": "Python 3 (ipykernel)",
   "language": "python",
   "name": "python3"
  },
  "language_info": {
   "codemirror_mode": {
    "name": "ipython",
    "version": 3
   },
   "file_extension": ".py",
   "mimetype": "text/x-python",
   "name": "python",
   "nbconvert_exporter": "python",
   "pygments_lexer": "ipython3",
   "version": "3.9.12"
  },
  "toc": {
   "base_numbering": 1,
   "nav_menu": {},
   "number_sections": true,
   "sideBar": true,
   "skip_h1_title": false,
   "title_cell": "Table of Contents",
   "title_sidebar": "Contents",
   "toc_cell": false,
   "toc_position": {},
   "toc_section_display": true,
   "toc_window_display": false
  },
  "vscode": {
   "interpreter": {
    "hash": "4e2bcfb31e97470a0ba1fa5db201ea84bd5379ac2b4dcffadfe95cab526b3979"
   }
  }
 },
 "nbformat": 4,
 "nbformat_minor": 5
}
