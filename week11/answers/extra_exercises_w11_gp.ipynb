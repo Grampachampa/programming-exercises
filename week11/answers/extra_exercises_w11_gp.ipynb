{
 "cells": [
  {
   "cell_type": "markdown",
   "id": "7f754285",
   "metadata": {},
   "source": [
    "# Supplementary Exercises Week 11 - Gergo Pandurcsek"
   ]
  },
  {
   "cell_type": "markdown",
   "id": "4e3df61e",
   "metadata": {},
   "source": [
    "## Describing humans.\n",
    "\n",
    "We have a person described with a list of properties, your task is to create a class called _Person_ and assign the elements of list as attributes. The elements of a list looks like this : [name,age,height,weight], the class's attributes should be named in this manner also. The class takes in this list as an input, in this class also define a method called _year_of_birth_ that calculates the birth year of the person given a year as an input and returns it. After creating the class create a function called _describe_ which takes in a _Person_ object and prints out the given person's name,age,height,weight and also the year of birth given that the current year is 2022.\n",
    "\n",
    "**Notes:**\n",
    "- name is a _string_, age is an _int_ (years), height is an _int_ (cm), weight is an _int_ (kg).\n",
    "- use the function called _vars()_ on a created instance of the class to print out the desired values easily\n",
    "\n",
    "**Example:**  \n",
    "*Given:*\n",
    "<pre>\n",
    "human = [\"Andy Kalk\",26,180,80]\n",
    "</pre>\n",
    "\n",
    "*Input:*  \n",
    "\n",
    "<pre>\n",
    "person = Person(human)    \n",
    "describe(person)\n",
    "</pre>\n",
    "\n",
    "*Output:*  \n",
    "<pre>\n",
    "{'name': 'Andy Kalk', 'age': 26, 'height': 180, 'weight': 80}\n",
    "1996\n",
    "</pre>"
   ]
  },
  {
   "cell_type": "code",
   "execution_count": 3,
   "id": "e889dc27",
   "metadata": {},
   "outputs": [
    {
     "name": "stdout",
     "output_type": "stream",
     "text": [
      "{'name': 'Andy Kalk', 'age': 26, 'height': 180, 'weight': 80}\n",
      "1996\n"
     ]
    }
   ],
   "source": [
    "#optional definitions\n",
    "human = [\"Andy Kalk\",26,180,80]\n",
    "\n",
    "#// BEGIN_TODO\n",
    "class Person():\n",
    "    def __init__(self,properties):\n",
    "        self.name = properties[0]\n",
    "        self.age = properties[1]\n",
    "        self.height = properties[2]\n",
    "        self.weight = properties[3]\n",
    "    \n",
    "    def year_of_birth(self,year):\n",
    "        return year-self.age\n",
    "    \n",
    "def describe(person : Person) -> None:\n",
    "    print(vars(person))\n",
    "    print(person.year_of_birth(2022))\n",
    "    \n",
    "person = Person(human)    \n",
    "describe(person)\n",
    "#// END_TODO"
   ]
  }
 ],
 "metadata": {
  "kernelspec": {
   "display_name": "Python 3 (ipykernel)",
   "language": "python",
   "name": "python3"
  },
  "language_info": {
   "codemirror_mode": {
    "name": "ipython",
    "version": 3
   },
   "file_extension": ".py",
   "mimetype": "text/x-python",
   "name": "python",
   "nbconvert_exporter": "python",
   "pygments_lexer": "ipython3",
   "version": "3.8.10"
  }
 },
 "nbformat": 4,
 "nbformat_minor": 5
}
