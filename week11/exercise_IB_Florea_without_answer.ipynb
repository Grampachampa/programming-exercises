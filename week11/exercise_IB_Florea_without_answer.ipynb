{
 "cells": [
  {
   "cell_type": "markdown",
   "metadata": {},
   "source": [
    "Extra Exercise (Classes, Dictionaries)\n",
    "\n",
    "Create a class named Student. Define the attributes id, name, courses_final_grades. id is a unique student number, name should be the name of the student and courses_final_grades a dictionary where the keys are the courses taken by the student and the values are the final grades. Create a list of three instances of the class Student where each student takes the same three courses. Use a dictionary to order the courses in descending order by the average grade for that course.\n",
    "\n",
    "Example:\n",
    "\n",
    "student1 = Student(id = 1, name = \"John One\", courses_final_grades = {'Math': 10, \"Language\": 10, \"Painting\": 10})\n",
    "\n",
    "student2 = Student(id = 2, name = \"John Two\", courses_final_grades = {'Math': 10, \"Language\": 9, \"Painting\": 1})\n",
    "\n",
    "student3 = Student(id = 3, name = \"John Three\", courses_final_grades = {'Math': 9, \"Language\": 1, \"Painting\": 10})\n",
    "\n",
    "Should output:\n",
    "\n",
    "The average grade for each course: \n",
    "\n",
    "Language 6.67\n",
    "\n",
    "Math 9.67\n",
    "\n",
    "Painting 7.00"
   ]
  }
 ],
 "metadata": {
  "kernelspec": {
   "display_name": "Python 3.10.5 64-bit",
   "language": "python",
   "name": "python3"
  },
  "language_info": {
   "name": "python",
   "version": "3.10.5"
  },
  "orig_nbformat": 4,
  "vscode": {
   "interpreter": {
    "hash": "aee8b7b246df8f9039afb4144a1f6fd8d2ca17a180786b69acc140d282b71a49"
   }
  }
 },
 "nbformat": 4,
 "nbformat_minor": 2
}
