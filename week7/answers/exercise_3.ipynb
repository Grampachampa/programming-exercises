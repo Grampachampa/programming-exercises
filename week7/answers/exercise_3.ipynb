{
 "cells": [
  {
   "cell_type": "markdown",
   "metadata": {},
   "source": [
    "## X. Moving up the (tone) ladder\n",
    "\n",
    "In tonal music, the chromatic scale is a collection of 12 pitches (A, A#, B, C, C#, D, D#, E, F, F#, G and G#). We can traverse this scale in so-called semitones. For example, moving up a semitone from the pitch B will result in the pitch C, and moving up 3 semitones from the pitch G will result in the pitch A#. Write a function called move_up_scale, that takes as parameters a string indicating a pitch and an integer indicating a number of semitones, and returns the new pitch resulting from moving up the chromatic scale with the given number of semitones.\n",
    "\n",
    "**Example:**  \n",
    "*Input:*  \n",
    "<pre>\n",
    "move_up_scale(\"F#\", 6)\n",
    "</pre>\n",
    "\n",
    "*Output:*  \n",
    "<pre>\n",
    "\"C\"\n",
    "</pre>"
   ]
  },
  {
   "cell_type": "code",
   "execution_count": null,
   "metadata": {},
   "outputs": [],
   "source": [
    "#// BEGIN_TODO [exercises_1] Exercises 1\n",
    "\n",
    "def move_up_scale(pitch: str, semitones_to_traverse: int) -> str:\n",
    "    \"\"\"Given a pitch and a number of semitones to move up the chromatic scale, returns the new pitch\"\"\"\n",
    "    # Define the scale as a list\n",
    "    pitches = [\"A\", \"A#\", \"B\", \"C\", \"C#\", \"D\", \"D#\", \"E\", \"F\", \"F#\", \"G\", \"G#\"]\n",
    "\n",
    "    # The new index should be semitones_to_traverse further than the old\n",
    "    # Modulo 12, so that it will loop back around\n",
    "    new_index = (pitches.index(pitch) + semitones_to_traverse) % 12\n",
    "    \n",
    "    return pitches[new_index]\n",
    "\n",
    "#// END_TODO [exercises_1]"
   ]
  }
 ],
 "metadata": {
  "kernelspec": {
   "display_name": "Python 3.9.4 64-bit",
   "language": "python",
   "name": "python3"
  },
  "language_info": {
   "codemirror_mode": {
    "name": "ipython",
    "version": 3
   },
   "file_extension": ".py",
   "mimetype": "text/x-python",
   "name": "python",
   "nbconvert_exporter": "python",
   "pygments_lexer": "ipython3",
   "version": "3.9.4"
  },
  "orig_nbformat": 4,
  "vscode": {
   "interpreter": {
    "hash": "20c476fdfd09ca42942468b8f270b00d3fc84a5477f26df9e13fa945900e8ea6"
   }
  }
 },
 "nbformat": 4,
 "nbformat_minor": 2
}
