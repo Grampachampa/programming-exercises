{
 "cells": [
  {
   "cell_type": "markdown",
   "id": "16d4a8a8",
   "metadata": {},
   "source": [
    "# Extra Exercises week 7"
   ]
  },
  {
   "cell_type": "markdown",
   "id": "f26979cb",
   "metadata": {},
   "source": [
    "## Word length\n",
    "\n",
    "Given a string s, create a list of integers which specify the length of each word in s, but only if the word is not the word ’the’.\n",
    "\n",
    "**Try to write the code in one line (defining a function is not needed)**\n",
    "\n",
    "Hint: use ```str.split()```"
   ]
  },
  {
   "cell_type": "markdown",
   "id": "c2ec6cc8",
   "metadata": {},
   "source": [
    "Example:\n",
    "\n",
    "Input:\n",
    "```s = 'the quick brown fox jumps over the lazy dog'```\n",
    "\n",
    "Output:\n",
    "```[5, 5, 3, 5, 4, 4, 3]```"
   ]
  },
  {
   "cell_type": "markdown",
   "id": "762b9396",
   "metadata": {},
   "source": [
    "Solution 1:"
   ]
  },
  {
   "cell_type": "code",
   "execution_count": 15,
   "id": "895ac156",
   "metadata": {},
   "outputs": [
    {
     "name": "stdout",
     "output_type": "stream",
     "text": [
      "[5, 5, 3, 5, 4, 4, 3]\n"
     ]
    }
   ],
   "source": [
    "s = 'the quick brown fox jumps over the lazy dog'\n",
    "\n",
    "lenghts = [len(word) for word in s.split() if word != 'the']\n",
    "print(lenghts)"
   ]
  },
  {
   "cell_type": "markdown",
   "id": "5800171c",
   "metadata": {},
   "source": [
    "Solution 2:"
   ]
  },
  {
   "cell_type": "code",
   "execution_count": 14,
   "id": "15f809a9",
   "metadata": {},
   "outputs": [],
   "source": [
    "def word_length(s: str) -> list[int]:\n",
    "    word_length = []\n",
    "    for i in s.split():\n",
    "        if i != 'the':\n",
    "            word_length.append(len(i))\n",
    "    return word_length"
   ]
  }
 ],
 "metadata": {
  "kernelspec": {
   "display_name": "Python 3 (ipykernel)",
   "language": "python",
   "name": "python3"
  },
  "language_info": {
   "codemirror_mode": {
    "name": "ipython",
    "version": 3
   },
   "file_extension": ".py",
   "mimetype": "text/x-python",
   "name": "python",
   "nbconvert_exporter": "python",
   "pygments_lexer": "ipython3",
   "version": "3.9.4"
  }
 },
 "nbformat": 4,
 "nbformat_minor": 5
}
