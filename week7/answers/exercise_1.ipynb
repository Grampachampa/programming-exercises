{
 "cells": [
  {
   "cell_type": "markdown",
   "id": "289ed7aa-124c-4ed7-89d3-3b22a7f085bb",
   "metadata": {},
   "source": [
    "## Exercise 1. Write a Python program to remove duplicates from Dictionary.\n",
    "You have a dictionary which contains the student's infomation. The dictionary is in following format:\n"
   ]
  },
  {
   "cell_type": "code",
   "execution_count": 3,
   "id": "f70e4215-5596-4e06-9912-96512d0a89aa",
   "metadata": {},
   "outputs": [],
   "source": [
    "student_data = {'id1': \n",
    "   {'name': 'Sara', \n",
    "    'class': 'V'\n",
    "   },\n",
    " 'id2': \n",
    "  {'name': 'David', \n",
    "    'class': 'V'\n",
    "   },\n",
    " 'id3': \n",
    "    {'name': 'Sara', \n",
    "    'class': 'V'\n",
    "   },\n",
    " 'id4': \n",
    "   {'name': 'Surya', \n",
    "    'class': 'V'\n",
    "   }\n",
    "}"
   ]
  },
  {
   "cell_type": "markdown",
   "id": "e7dc1654-b1a2-4229-a65e-f25a167ec664",
   "metadata": {},
   "source": [
    "The key of the dictionary is the student id and the value is another dictionary which contains the name and the class of the students. But some students find they have two student ids. So you need to delete the second student id from the original dictionary for the same student. After your operation, the dictionary should be like:"
   ]
  },
  {
   "cell_type": "code",
   "execution_count": 4,
   "id": "45c61e14-516d-4219-991c-15e3de0a47e5",
   "metadata": {},
   "outputs": [],
   "source": [
    "student_data = {'id1': \n",
    "   {'name': 'Sara', \n",
    "    'class': 'V'\n",
    "   },\n",
    " 'id2': \n",
    "  {'name': 'David', \n",
    "    'class': 'V'\n",
    "   },\n",
    " 'id4': \n",
    "   {'name': 'Surya', \n",
    "    'class': 'V'\n",
    "   }\n",
    "}"
   ]
  },
  {
   "cell_type": "code",
   "execution_count": 5,
   "id": "7617385d-032b-403d-9e68-be6652a75031",
   "metadata": {},
   "outputs": [
    {
     "name": "stdout",
     "output_type": "stream",
     "text": [
      "{'id1': {'name': 'Sara', 'class': 'V'}, 'id2': {'name': 'David', 'class': 'V'}, 'id4': {'name': 'Surya', 'class': 'V'}}\n"
     ]
    }
   ],
   "source": [
    "# answer \n",
    "\n",
    "result = {}\n",
    "\n",
    "for key,value in student_data.items():\n",
    "    if value not in result.values():\n",
    "        result[key] = value\n",
    "\n",
    "print(result)"
   ]
  },
  {
   "cell_type": "code",
   "execution_count": null,
   "id": "4249ca53-58f6-4e78-88eb-128e806fccd0",
   "metadata": {},
   "outputs": [],
   "source": []
  }
 ],
 "metadata": {
  "kernelspec": {
   "display_name": "Python 3",
   "language": "python",
   "name": "python3"
  },
  "language_info": {
   "codemirror_mode": {
    "name": "ipython",
    "version": 3
   },
   "file_extension": ".py",
   "mimetype": "text/x-python",
   "name": "python",
   "nbconvert_exporter": "python",
   "pygments_lexer": "ipython3",
   "version": "3.8.8"
  }
 },
 "nbformat": 4,
 "nbformat_minor": 5
}
