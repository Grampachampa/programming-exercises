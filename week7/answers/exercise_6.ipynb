{
 "cells": [
  {
   "cell_type": "markdown",
   "id": "7f754285",
   "metadata": {},
   "source": [
    "# Supplementary Exercises Week 7 - Kosmas Galanis"
   ]
  },
  {
   "cell_type": "markdown",
   "id": "4e3df61e",
   "metadata": {},
   "source": [
    "## Append to list if key exists otherwise create a new pair.\n",
    "\n",
    "You are given a dictionary which has student names mapped to a list containing all their grades.\n",
    "When you wish to add a new grade you want to:\n",
    "* append the new grade to the existing list if the student is already part of the class dictionary\n",
    "* if they are not, create a element in the dictionary with the student's name as the key and their grades in a list as the value\n",
    "* The function accepts 3 inputs and changes the dictionary in place. It should look like this:\\\n",
    "`def append_value(dict_obj: dict, key: str, value: int) -> None`\n",
    "* Print the dictionary at the end to see how it changes.\n",
    "\n",
    "**Notes:**\n",
    "* Think of how using dict.update() instead of this function, doesn't achieve the result we want.\n",
    "\n",
    "**Example:**  \n",
    "*Given:*\n",
    "<pre>\n",
    "\n",
    "class_grades = {\n",
    "    \"Kosmas\": [7, 6, 7, 8],\n",
    "    \"Nicole\": [10, 9, 3],\n",
    "    \"Benedetta\": [4, 6, 7],\n",
    "    \"Mauricio\": [10, 10, 10]}\n",
    "\n",
    "</pre>\n",
    "*Input:*  \n",
    "\n",
    "<pre>\n",
    "append_value(class_grades, 'Kosmas', 2)\n",
    "\n",
    "</pre>\n",
    "\n",
    "*Output:*  \n",
    "<pre>\n",
    "{'Kosmas': [7, 6, 7, 8, 2], 'Nicole': [10, 9, 3], 'Benedetta': [4, 6, 7], 'Mauricio': [10, 10, 10]}\n",
    "</pre>\n",
    "\n",
    "</pre>\n",
    "*Input:*  \n",
    "\n",
    "<pre>\n",
    "append_value(class_grades, 'Takis', 7)\n",
    "\n",
    "</pre>\n",
    "\n",
    "*Output:*  \n",
    "<pre>\n",
    "{'Kosmas': [7, 6, 7, 8], 'Nicole': [10, 9, 3], 'Benedetta': [4, 6, 7], 'Mauricio': [10, 10, 10], 'Takis': [7]}\n",
    "</pre>"
   ]
  },
  {
   "cell_type": "code",
   "execution_count": 14,
   "id": "e889dc27",
   "metadata": {},
   "outputs": [
    {
     "name": "stdout",
     "output_type": "stream",
     "text": [
      "{'Kosmas': [7, 6, 7, 8], 'Nicole': [10, 9, 3], 'Benedetta': [4, 6, 7], 'Mauricio': [10, 10, 10], 'Takis': [7]}\n"
     ]
    }
   ],
   "source": [
    "class_grades = {\n",
    "    \"Kosmas\": [7, 6, 7, 8],\n",
    "    \"Nicole\": [10, 9, 3],\n",
    "    \"Benedetta\": [4, 6, 7],\n",
    "    \"Mauricio\": [10, 10, 10]}\n",
    "\n",
    "#// BEGIN_TODO\n",
    "def append_value(dict_obj: dict, key: str, value: list) -> None:\n",
    "    \"\"\"\n",
    "    Check if key exists in the dictionary already. If it does append \"value\"\n",
    "    to that list, otherwise create a new key:value pair. Used because\n",
    "    dict.update() just changes the value instead of appending\n",
    "    :param dict_obj: Dictionary you are considering\n",
    "    :param key: Key value of that dict\n",
    "    :param value: Value you want to append that key's value\n",
    "    :return: The dictionary is edited in place.\n",
    "    \"\"\"\n",
    "    # Check if key exist in dict or not\n",
    "    if key in dict_obj:\n",
    "        # Key exist in dict.\n",
    "        # Check if type of value of key is list or not\n",
    "        if not isinstance(dict_obj[key], list):\n",
    "            # If type is not list then make it list\n",
    "            dict_obj[key] = [dict_obj[key]]\n",
    "        # Append the value in list\n",
    "        dict_obj[key].append(value)\n",
    "    else:\n",
    "        # As key is not in dict,\n",
    "        # so, add key-value pair\n",
    "        dict_obj[key] = [value]\n",
    "\n",
    "\n",
    "append_value(class_grades, 'Takis', 7)\n",
    "print(class_grades)\n",
    "#// END_TODO"
   ]
  }
 ],
 "metadata": {
  "kernelspec": {
   "display_name": "Python 3 (ipykernel)",
   "language": "python",
   "name": "python3"
  },
  "language_info": {
   "codemirror_mode": {
    "name": "ipython",
    "version": 3
   },
   "file_extension": ".py",
   "mimetype": "text/x-python",
   "name": "python",
   "nbconvert_exporter": "python",
   "pygments_lexer": "ipython3",
   "version": "3.8.13"
  }
 },
 "nbformat": 4,
 "nbformat_minor": 5
}
