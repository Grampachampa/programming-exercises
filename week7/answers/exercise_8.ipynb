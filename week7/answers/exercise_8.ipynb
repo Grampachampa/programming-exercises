{
 "cells": [
  {
   "cell_type": "markdown",
   "id": "e11706cc",
   "metadata": {},
   "source": [
    "***SPAM-OR-HAM***\n",
    "You are asked to make a program that can classify spam-ham emails; since your employer pays you less than minimum wage, you\n",
    "decided to design a naive program that tries it best.\n",
    "\n",
    "The input would be given in the form of a ***list of str***. You were provided with 10 lists, each of them already classified as either spam, or ham. Make a program that go through these 5 examples, keep track of the ***frequency of the words that are in the list classified as spam***. After \"training\", the program would then take a new input (list of strings), then classify it based on:\n",
    "- Get the number of words in the list; if, for any word in that list ***appears in the dictionary, and the value (frequency) of the word in the dictionary exceeds 4***, then classify the list as spam.\n",
    "The program should be able to \"learn\" by updating the dictionary:\n",
    "- If a list is classified as spam, add to the dictionary the frequency of the words in that list.\n",
    "\n",
    "Now, this is confusing, I know, but here is how it should word:\n",
    "\n",
    "***Example lists***:\n",
    "- [\"This\", \"is\", \"not\", \"a\", \"spam\"] <- classified as spam\n",
    "- [\"This\", \"is\", \"spam\"]             <- classified as ham\n",
    "- [\"I\", \"am\", \"just\", \"adding\", \"this\", \"this\", \"this\", \"to\", \"make\", \"this\", \"being\", \"a\", \"spam\", \"indicator\"] <- spam\n",
    "- [\"Not\", \"spam\", \"at\", \"all\"] <- ham\n",
    "- [\"Fifth\", \"example\", \"already\"] <- ham\n",
    "\n",
    "***Dictionary after training***\n",
    "- Dict = {\"This\": 5, \"is\": 1, \"not\": 1, \"a\": 2, \"spam\": 2, \"I\": 1, \"just\": 1, \"adding\": 1, \"to\": 1, \"make\": 1, \"being\": 1, \"indicator\": 1}\n",
    "\n",
    "***New input***\n",
    "- [\"This\", \"should\", \"be\", \"spam\"] <- spam, update dict to {\"This\": ***6***, \"is\": 1, \"not\": 1, \"a\": 2, \"spam\": ***3***, \"I\": 1, \"just\": 1, \"adding\": 1, \"to\": 1, \"make\": 1, \"being\": 1, \"indicator\": 1, \"be\": 1, \"should\": 1}\n",
    "- [\"Not\", \"at\", \"all\"] <- not spam, dont update dict.\n",
    "\n",
    "***make sure to print something that indicates if the input is pre-classified***\n",
    "\n",
    "***make sure to normalize string (make all lowercase)***\n",
    "\n",
    "You might have realized, after a while, all sentences would be classified as spam, but your employer gets what he pays for ¯\\_(ツ)_/¯."
   ]
  },
  {
   "cell_type": "code",
   "execution_count": 25,
   "id": "923d182c",
   "metadata": {},
   "outputs": [],
   "source": [
    "def is_spam(inp: list, mem: dict, func: callable, spam: bool = None) -> (dict):\n",
    "    if spam == None:\n",
    "        pass\n",
    "    elif spam:\n",
    "        print(f\"pre-classified as spam, updating memory to\", end = \"\")\n",
    "        mem = func(inp, mem)\n",
    "        print(mem)\n",
    "        return mem\n",
    "    else:\n",
    "        print(\"pre-classified as ham, not updating memory\")\n",
    "        return mem\n",
    "    \n",
    "    for letter in inp:\n",
    "        letter = letter.lower()\n",
    "        if letter not in mem.keys():\n",
    "            continue\n",
    "        elif mem[letter] > 4:\n",
    "            spam = True\n",
    "            print(f\"classified as spam, first trigger: {letter} with count {mem[letter]}, updating memory to\", end = \"\")\n",
    "            mem = func(inp, mem)\n",
    "            print(mem)\n",
    "            return mem\n",
    "        else:\n",
    "            continue\n",
    "    \n",
    "    print(\"not classified as spam\")\n",
    "    spam = False\n",
    "    return mem\n",
    "    \n",
    "    \n",
    "    \n",
    "def update_mem(inp, mem):\n",
    "    for letter in inp:\n",
    "        letter = letter.lower()\n",
    "        if letter not in mem.keys():\n",
    "            mem[letter] = 1\n",
    "            continue\n",
    "        mem[letter] += 1\n",
    "    return mem"
   ]
  },
  {
   "cell_type": "code",
   "execution_count": 26,
   "id": "4baa1f46",
   "metadata": {},
   "outputs": [
    {
     "name": "stdout",
     "output_type": "stream",
     "text": [
      "pre-classified as spam, updating memory to{'this': 1, 'is': 1, 'not': 1, 'a': 1, 'spam': 1}\n",
      "pre-classified as ham, not updating memory\n",
      "pre-classified as spam, updating memory to{'this': 5, 'is': 1, 'not': 1, 'a': 2, 'spam': 2, 'i': 1, 'am': 1, 'just': 1, 'adding': 1, 'to': 1, 'make': 1, 'being': 1, 'indicator': 1}\n",
      "pre-classified as ham, not updating memory\n",
      "pre-classified as ham, not updating memory\n",
      "classified as spam, first trigger: this with count 5, updating memory to{'this': 6, 'is': 1, 'not': 1, 'a': 2, 'spam': 3, 'i': 1, 'am': 1, 'just': 1, 'adding': 1, 'to': 1, 'make': 1, 'being': 1, 'indicator': 1, 'should': 1, 'be': 1}\n",
      "not classified as spam\n"
     ]
    }
   ],
   "source": [
    "inp = [\n",
    "    [[\"This\", \"is\", \"not\", \"a\", \"spam\"], True],\n",
    "    [[\"This\", \"is\", \"spam\"], False],\n",
    "    [[\"I\", \"am\", \"just\", \"adding\", \"this\", \"this\", \"this\", \"to\", \"make\", \"this\", \"being\", \"a\", \"spam\", \"indicator\"], True],\n",
    "    [[\"Not\", \"spam\", \"at\", \"all\"], False],\n",
    "    [[\"Fifth\", \"example\", \"already\"], False]\n",
    "]\n",
    "\n",
    "mem = {}\n",
    "\n",
    "for item in inp:\n",
    "    mem = is_spam(item[0], mem, update_mem, item[1])\n",
    "    \n",
    "mem = is_spam([\"This\", \"should\", \"be\", \"spam\"], mem, update_mem)\n",
    "mem = is_spam([\"Not\", \"at\", \"all\"], mem, update_mem)"
   ]
  }
 ],
 "metadata": {
  "kernelspec": {
   "display_name": "Python 3 (ipykernel)",
   "language": "python",
   "name": "python3"
  },
  "language_info": {
   "codemirror_mode": {
    "name": "ipython",
    "version": 3
   },
   "file_extension": ".py",
   "mimetype": "text/x-python",
   "name": "python",
   "nbconvert_exporter": "python",
   "pygments_lexer": "ipython3",
   "version": "3.9.7"
  }
 },
 "nbformat": 4,
 "nbformat_minor": 5
}
