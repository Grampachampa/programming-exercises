{
 "cells": [
  {
   "cell_type": "markdown",
   "metadata": {},
   "source": [
    "Exercise 1 (Dictionaries)\n",
    "\n",
    "Count the number of occurrences of each symbol in a sentences input by the user. Use a dictionary for counting. Count letters case sensitive and including punctuation marks, e.g. upper case 'C' and lower case 'c' are different letters and \";\" is a countable symbol.\n",
    "\n",
    "Example:\n",
    "input_sentence = \"Computational computation computed computerly.\"\n",
    "should output: \n",
    "{'C': 1, 'o': 6, 'm': 4, 'p': 4, 'u': 4, 't': 6, 'a': 3, 'i': 2, 'n': 2, 'l': 2, 'c': 3, 'e': 2, 'd': 1, 'r': 1, 'y': 1, '.': 1}"
   ]
  },
  {
   "cell_type": "code",
   "execution_count": 7,
   "metadata": {},
   "outputs": [
    {
     "name": "stdout",
     "output_type": "stream",
     "text": [
      "{'C': 1, 'o': 6, 'm': 4, 'p': 4, 'u': 4, 't': 6, 'a': 3, 'i': 2, 'n': 2, 'l': 2, 'c': 3, 'e': 2, 'd': 1, 'r': 1, 'y': 1, '.': 1}\n"
     ]
    }
   ],
   "source": [
    "from tokenize import String\n",
    "from typing import Dict, List\n",
    "\n",
    "\n",
    "def count_letters(sentence_symbols: List) -> Dict:\n",
    "    \"\"\"\n",
    "    Returns a dictionary where each key:value pair represents\n",
    "    a letter:number of occurrences pair built in the input sentence\n",
    "\n",
    "    :param sentence_symbols (List): list containing symbols\n",
    "\n",
    "    :returns: a dictionary where each key:value pair represents\n",
    "    a symbol:number of occurrences pair\n",
    "    \"\"\"\n",
    "    symbol_occurrences = dict()\n",
    "\n",
    "    for key in sentence_symbols:\n",
    "        if (key not in symbol_occurrences):\n",
    "            symbol_occurrences[key] = 1\n",
    "        else:\n",
    "            symbol_occurrences[key] += 1\n",
    "    \n",
    "    return symbol_occurrences\n",
    "\n",
    "def sentence_to_symbol_list(sentence: String) -> List:\n",
    "    \"\"\"\n",
    "    Returns a list of all symbols in the input sentence\n",
    "\n",
    "    :param sentence (String): a string representing a sentence\n",
    "\n",
    "    :returns: a list of strings where each string is one character\n",
    "    \"\"\"\n",
    "    sentence_words = sentence.split(\" \")\n",
    "    sentence_symbols = []\n",
    "\n",
    "    for each in sentence_words:\n",
    "        for symbol in each:\n",
    "            sentence_symbols.append(symbol)\n",
    "\n",
    "    return sentence_symbols\n",
    "\n",
    "input_sentence = input(\"Give an input sentence: \")\n",
    "counted_letters_dict = count_letters(sentence_to_symbol_list(input_sentence))\n",
    "\n",
    "print(counted_letters_dict)\n"
   ]
  }
 ],
 "metadata": {
  "kernelspec": {
   "display_name": "Python 3.10.5 64-bit",
   "language": "python",
   "name": "python3"
  },
  "language_info": {
   "codemirror_mode": {
    "name": "ipython",
    "version": 3
   },
   "file_extension": ".py",
   "mimetype": "text/x-python",
   "name": "python",
   "nbconvert_exporter": "python",
   "pygments_lexer": "ipython3",
   "version": "3.10.5"
  },
  "orig_nbformat": 4,
  "vscode": {
   "interpreter": {
    "hash": "aee8b7b246df8f9039afb4144a1f6fd8d2ca17a180786b69acc140d282b71a49"
   }
  }
 },
 "nbformat": 4,
 "nbformat_minor": 2
}
