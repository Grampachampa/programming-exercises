{
 "cells": [
  {
   "cell_type": "markdown",
   "metadata": {},
   "source": [
    "## 1. Number division game\n",
    "\n",
    "Tim and Steve want to play a game together. You have a file consisting of multiple lines of 2 numbers, separated by a comma (filename:``numbers.txt``). You want to give Tim and Steve eternal happiness and decide to make a game for them, using this file. \n",
    "\n",
    "To make this game, you will have to create 3 functions:\"\n",
    "1. ``read_file()``, which is supposed to read the file, and turn it into a format which is readable for the other functions.\n",
    "2. ``divisors()``, which calculates by how many positive integers the input number is divisible by\n",
    "3. ``play_game()``, the only function which is called outside of functions, using the ``read_file`` and ``divisors()`` functions. Each round compares the amount of numbers which the first and second number of the line is divisible by. Tim gets a point when the first number is divisible by more numbers, Steve gets a point when the second number is divisible by more numbers. By the end, it prints who has won and how many points each player has. Keep in mind, it can also be a draw!\n",
    "\n",
    "\n",
    "**Example:**  \n",
    "*Input file:*  \n",
    "```python\n",
    "12,8\n",
    "9,15\n",
    "4,18\n",
    "20,6\n",
    "14,13\n",
    "17,8\n",
    "16,15\n",
    "```\n",
    "\n",
    "*Output:*  \n",
    "<pre>\n",
    "Tim has won with a score of 4\n",
    "Steve has lost with a score of 3\n",
    "</pre>"
   ]
  },
  {
   "cell_type": "code",
   "execution_count": 4,
   "metadata": {},
   "outputs": [
    {
     "name": "stdout",
     "output_type": "stream",
     "text": [
      "Tim has won with a score of 4\n",
      "Steve has lost with a score of 3\n"
     ]
    }
   ],
   "source": [
    "def read_file(filename: str) -> list:\n",
    "    \"\"\"reads a file and stores the values in a list\"\"\"\n",
    "    with open(filename) as f:\n",
    "        lines = f.readlines()\n",
    "        \n",
    "        for i in range(len(lines)):\n",
    "            lines[i] = lines[i].strip().split(',')\n",
    "\n",
    "        return lines\n",
    "\n",
    "def divisors(original_number: int) -> int:\n",
    "    \"\"\"counts by how many unique numbers the input is divisible\"\"\"\n",
    "    count = 0\n",
    "    for divisor in range(1, original_number+1):\n",
    "        if original_number % divisor == 0:\n",
    "            count += 1\n",
    "    return count\n",
    "\n",
    "def play_game(read: callable, divide: callable, filename: str, player1: str, player2: str) -> None:\n",
    "    \"\"\"plays the game of who's side has the most divisors, per round\"\"\"\n",
    "\n",
    "    numbers = read(filename)\n",
    "\n",
    "    player1_score = 0\n",
    "    player2_score = 0\n",
    "\n",
    "    #loop through the list\n",
    "    for i in range(len(numbers)):\n",
    "        #check if the first element of i is divisible by more numbers than the second element\n",
    "        if divide(int(numbers[i][0])) > divide(int(numbers[i][1])):\n",
    "            #if so add 1 to player1 score\n",
    "            player1_score += 1\n",
    "        elif divide(int(numbers[i][0])) < divide(int(numbers[i][1])):\n",
    "            #if not add 1 to player2 score\n",
    "            player2_score += 1\n",
    "    #check who has the highest score\n",
    "    if player1_score > player2_score:\n",
    "        #if player 1 has the highest score print that player 1 has won and the score of both players\n",
    "        print(f'{player1} has won with a score of {player1_score}')\n",
    "        print(f'{player2} has lost with a score of {player2_score}')\n",
    "    elif player2_score > player1_score:\n",
    "        #if player 2 has the highest score print that player 2 has won and the score\n",
    "        print(f'{player2} has won with a score of {player2_score}')\n",
    "        print(f'{player1} has lost with a score of {player1_score}')\n",
    "    else:\n",
    "        #if the scores are equal print draw\n",
    "        print(\"Draw\")\n",
    "\n",
    "play_game(read_file, divisors, \"assets/numbers.txt\", \"Tim\", \"Steve\")"
   ]
  }
 ],
 "metadata": {
  "kernelspec": {
   "display_name": "Python 3.8.13 ('Old')",
   "language": "python",
   "name": "python3"
  },
  "language_info": {
   "codemirror_mode": {
    "name": "ipython",
    "version": 3
   },
   "file_extension": ".py",
   "mimetype": "text/x-python",
   "name": "python",
   "nbconvert_exporter": "python",
   "pygments_lexer": "ipython3",
   "version": "3.8.13"
  },
  "orig_nbformat": 4,
  "vscode": {
   "interpreter": {
    "hash": "b6f266810c103c6655344102d58e74291fb6a65df12de9599700a5dbb07373ea"
   }
  }
 },
 "nbformat": 4,
 "nbformat_minor": 2
}
