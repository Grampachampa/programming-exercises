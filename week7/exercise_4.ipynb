{
 "cells": [
  {
   "cell_type": "markdown",
   "metadata": {},
   "source": [
    "Exercise 1 (Dictionaries)\n",
    "\n",
    "Count the number of occurrences of each symbol in a sentences input by the user. Use a dictionary for counting. Count letters case sensitive and including punctuation marks, e.g. upper case 'C' and lower case 'c' are different letters and \";\" is a countable symbol.\n",
    "\n",
    "Example:\n",
    "input_sentence = \"Computational computation computed computerly.\"\n",
    "should output: \n",
    "{'C': 1, 'o': 6, 'm': 4, 'p': 4, 'u': 4, 't': 6, 'a': 3, 'i': 2, 'n': 2, 'l': 2, 'c': 3, 'e': 2, 'd': 1, 'r': 1, 'y': 1, '.': 1}"
   ]
  },
  {
   "cell_type": "code",
   "execution_count": null,
   "metadata": {},
   "outputs": [],
   "source": []
  }
 ],
 "metadata": {
  "kernelspec": {
   "display_name": "Python 3.9.6 64-bit",
   "language": "python",
   "name": "python3"
  },
  "language_info": {
   "codemirror_mode": {
    "name": "ipython",
    "version": 3
   },
   "file_extension": ".py",
   "mimetype": "text/x-python",
   "name": "python",
   "nbconvert_exporter": "python",
   "pygments_lexer": "ipython3",
   "version": "3.9.6"
  },
  "orig_nbformat": 4,
  "vscode": {
   "interpreter": {
    "hash": "31f2aee4e71d21fbe5cf8b01ff0e069b9275f58929596ceb00d14d90e3e16cd6"
   }
  }
 },
 "nbformat": 4,
 "nbformat_minor": 2
}
