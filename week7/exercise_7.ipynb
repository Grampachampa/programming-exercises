{
 "cells": [
  {
   "cell_type": "markdown",
   "metadata": {},
   "source": [
    "## 1. Number division game\n",
    "\n",
    "Tim and Steve want to play a game together. You have a file consisting of multiple lines of 2 numbers, separated by a comma (filename:``numbers.txt``). You want to give Tim and Steve eternal happiness and decide to make a game for them, using this file. \n",
    "\n",
    "To make this game, you will have to create 3 functions:\"\n",
    "1. ``read_file()``, which is supposed to read the file, and turn it into a format which is readable for the other functions.\n",
    "2. ``divisors()``, which calculates by how many positive integers the input number is divisible by\n",
    "3. ``play_game()``, the only function which is called outside of functions, using the ``read_file`` and ``divisors()`` functions. Each round compares the amount of numbers which the first and second number of the line is divisible by. Tim gets a point when the first number is divisible by more numbers, Steve gets a point when the second number is divisible by more numbers. By the end, it prints who has won and how many points each player has. Keep in mind, it can also be a draw!\n",
    "\n",
    "\n",
    "**Example:**  \n",
    "*Input file:*  \n",
    "```python\n",
    "12,8\n",
    "9,15\n",
    "4,18\n",
    "20,6\n",
    "14,13\n",
    "17,8\n",
    "16,15\n",
    "```\n",
    "\n",
    "*Output:*  \n",
    "<pre>\n",
    "Tim has won with a score of 4\n",
    "Steve has lost with a score of 3\n",
    "</pre>"
   ]
  },
  {
   "cell_type": "code",
   "execution_count": null,
   "metadata": {},
   "outputs": [],
   "source": []
  }
 ],
 "metadata": {
  "kernelspec": {
   "display_name": "Python 3.9.6 64-bit",
   "language": "python",
   "name": "python3"
  },
  "language_info": {
   "codemirror_mode": {
    "name": "ipython",
    "version": 3
   },
   "file_extension": ".py",
   "mimetype": "text/x-python",
   "name": "python",
   "nbconvert_exporter": "python",
   "pygments_lexer": "ipython3",
   "version": "3.9.6"
  },
  "orig_nbformat": 4,
  "vscode": {
   "interpreter": {
    "hash": "31f2aee4e71d21fbe5cf8b01ff0e069b9275f58929596ceb00d14d90e3e16cd6"
   }
  }
 },
 "nbformat": 4,
 "nbformat_minor": 2
}
