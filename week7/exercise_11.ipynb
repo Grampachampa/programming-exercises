{
 "cells": [
  {
   "cell_type": "markdown",
   "id": "7f754285",
   "metadata": {},
   "source": [
    "# Supplementary Exercises Week 7 - Gergő Pandurcsek"
   ]
  },
  {
   "cell_type": "markdown",
   "id": "4e3df61e",
   "metadata": {},
   "source": [
    "## Counting show episodes.\n",
    "\n",
    "Our user wants to log the amount of shows and episodes that has been watched. Unfortunately it was done in a lazy and unorganized way. Your task is to sort that out and represent the results in a more interpretable way. Given an input string you have to parse through the words and count which shows have been watched and in total how many episodes and print them out:\n",
    "* Create a dictionary that will contain the shows and watched episodes.\n",
    "* Parse the *watched* input string, collect the shows in a capitalized manner and count how many episodes have been watched in total\n",
    "* Print out the resulting dictionary\n",
    "\n",
    "**Notes:**\n",
    "<br>In the dictionary it is enough to keep the numbers, the auxiliary word \"episodes\" is not necessary.\n",
    "<br>Using the string method: split() makes the parsing easier.\n",
    "\n",
    "**Example:**  \n",
    "*Given:*\n",
    "<pre>\n",
    "\n",
    "watched = \"lucifer 2 episodes arcane 3 episodes loki 1 episodes gotham 5 episodes ragnarok 3 episodes arcane 6 episodes lucifer 1 episodes loki 4 episodes\"\n",
    "\n",
    "</pre>\n",
    "\n",
    "\n",
    "\n",
    "*Output:*  \n",
    "<pre>\n",
    "{'Lucifer': 3, 'Arcane': 9, 'Loki': 5, 'Gotham': 5, 'Ragnarok': 3}\n",
    "</pre>"
   ]
  },
  {
   "cell_type": "code",
   "execution_count": 1,
   "id": "e889dc27",
   "metadata": {},
   "outputs": [],
   "source": [
    "watched = \"lucifer 2 episodes arcane 3 episodes loki 1 episodes gotham 5 episodes ragnarok 3 episodes arcane 6 episodes lucifer 1 episodes loki 4 episodes\"\n",
    "\n",
    "#// BEGIN_TODO\n",
    "\n",
    "            \n",
    "#// END_TODO"
   ]
  }
 ],
 "metadata": {
  "kernelspec": {
   "display_name": "Python 3 (ipykernel)",
   "language": "python",
   "name": "python3"
  },
  "language_info": {
   "codemirror_mode": {
    "name": "ipython",
    "version": 3
   },
   "file_extension": ".py",
   "mimetype": "text/x-python",
   "name": "python",
   "nbconvert_exporter": "python",
   "pygments_lexer": "ipython3",
   "version": "3.8.10"
  }
 },
 "nbformat": 4,
 "nbformat_minor": 5
}
