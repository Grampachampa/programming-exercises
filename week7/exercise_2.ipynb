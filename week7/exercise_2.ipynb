{
 "cells": [
  {
   "cell_type": "markdown",
   "id": "16d4a8a8",
   "metadata": {},
   "source": [
    "# Extra Exercises week 7"
   ]
  },
  {
   "cell_type": "markdown",
   "id": "f26979cb",
   "metadata": {},
   "source": [
    "## Word length\n",
    "\n",
    "Given a string s, create a list of integers which specify the length of each word in s, but only if the word is not the word ’the’.\n",
    "\n",
    "**Try to write the code in one line (defining a function is not needed)**\n",
    "\n",
    "Hint: use ```str.split()```"
   ]
  },
  {
   "cell_type": "markdown",
   "id": "c2ec6cc8",
   "metadata": {},
   "source": [
    "Example:\n",
    "\n",
    "Input:\n",
    "```s = 'the quick brown fox jumps over the lazy dog'```\n",
    "\n",
    "Output:\n",
    "```[5, 5, 3, 5, 4, 4, 3]```"
   ]
  },
  {
   "cell_type": "code",
   "execution_count": null,
   "id": "618b22e9",
   "metadata": {},
   "outputs": [],
   "source": []
  }
 ],
 "metadata": {
  "kernelspec": {
   "display_name": "Python 3.9.6 64-bit",
   "language": "python",
   "name": "python3"
  },
  "language_info": {
   "codemirror_mode": {
    "name": "ipython",
    "version": 3
   },
   "file_extension": ".py",
   "mimetype": "text/x-python",
   "name": "python",
   "nbconvert_exporter": "python",
   "pygments_lexer": "ipython3",
   "version": "3.9.6"
  },
  "vscode": {
   "interpreter": {
    "hash": "31f2aee4e71d21fbe5cf8b01ff0e069b9275f58929596ceb00d14d90e3e16cd6"
   }
  }
 },
 "nbformat": 4,
 "nbformat_minor": 5
}
