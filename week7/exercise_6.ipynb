{
 "cells": [
  {
   "cell_type": "markdown",
   "id": "7f754285",
   "metadata": {},
   "source": [
    "# Supplementary Exercises Week 7 - Kosmas Galanis"
   ]
  },
  {
   "cell_type": "markdown",
   "id": "4e3df61e",
   "metadata": {},
   "source": [
    "## Append to list if key exists otherwise create a new pair.\n",
    "\n",
    "You are given a dictionary which has student names mapped to a list containing all their grades.\n",
    "When you wish to add a new grade you want to:\n",
    "* append the new grade to the existing list if the student is already part of the class dictionary\n",
    "* if they are not, create a element in the dictionary with the student's name as the key and their grades in a list as the value\n",
    "* The function accepts 3 inputs and changes the dictionary in place. It should look like this:\\\n",
    "`def append_value(dict_obj: dict, key: str, value: int) -> None`\n",
    "* Print the dictionary at the end to see how it changes.\n",
    "\n",
    "**Notes:**\n",
    "* Think of how using dict.update() instead of this function, doesn't achieve the result we want.\n",
    "\n",
    "**Example:**  \n",
    "*Given:*\n",
    "<pre>\n",
    "\n",
    "class_grades = {\n",
    "    \"Kosmas\": [7, 6, 7, 8],\n",
    "    \"Nicole\": [10, 9, 3],\n",
    "    \"Benedetta\": [4, 6, 7],\n",
    "    \"Mauricio\": [10, 10, 10]}\n",
    "\n",
    "</pre>\n",
    "*Input:*  \n",
    "\n",
    "<pre>\n",
    "append_value(class_grades, 'Kosmas', 2)\n",
    "\n",
    "</pre>\n",
    "\n",
    "*Output:*  \n",
    "<pre>\n",
    "{'Kosmas': [7, 6, 7, 8, 2], 'Nicole': [10, 9, 3], 'Benedetta': [4, 6, 7], 'Mauricio': [10, 10, 10]}\n",
    "</pre>\n",
    "\n",
    "</pre>\n",
    "*Input:*  \n",
    "\n",
    "<pre>\n",
    "append_value(class_grades, 'Takis', 7)\n",
    "\n",
    "</pre>\n",
    "\n",
    "*Output:*  \n",
    "<pre>\n",
    "{'Kosmas': [7, 6, 7, 8], 'Nicole': [10, 9, 3], 'Benedetta': [4, 6, 7], 'Mauricio': [10, 10, 10], 'Takis': [7]}\n",
    "</pre>"
   ]
  },
  {
   "cell_type": "code",
   "execution_count": null,
   "id": "e889dc27",
   "metadata": {},
   "outputs": [],
   "source": [
    "class_grades = {\n",
    "    \"Kosmas\": [7, 6, 7, 8],\n",
    "    \"Nicole\": [10, 9, 3],\n",
    "    \"Benedetta\": [4, 6, 7],\n",
    "    \"Mauricio\": [10, 10, 10]}\n",
    "\n",
    "#// BEGIN_TODO\n",
    "\n",
    "#// END_TODO"
   ]
  }
 ],
 "metadata": {
  "kernelspec": {
   "display_name": "Python 3.9.6 64-bit",
   "language": "python",
   "name": "python3"
  },
  "language_info": {
   "codemirror_mode": {
    "name": "ipython",
    "version": 3
   },
   "file_extension": ".py",
   "mimetype": "text/x-python",
   "name": "python",
   "nbconvert_exporter": "python",
   "pygments_lexer": "ipython3",
   "version": "3.9.6"
  },
  "vscode": {
   "interpreter": {
    "hash": "31f2aee4e71d21fbe5cf8b01ff0e069b9275f58929596ceb00d14d90e3e16cd6"
   }
  }
 },
 "nbformat": 4,
 "nbformat_minor": 5
}
