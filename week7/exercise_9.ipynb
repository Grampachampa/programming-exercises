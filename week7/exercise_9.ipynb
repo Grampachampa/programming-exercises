{
 "cells": [
  {
   "cell_type": "markdown",
   "metadata": {},
   "source": [
    "You want to help an investment banker organise his clients' investments for different stocks. The banker is specialised on tech companies and wants to buy stocks for his clients from four different companies: Google, Microsoft, Techworld, and MLsolutions. The companies Google and Microsoft are well known and very safe investements. The two up and coming tech start-ups Techworld and MLsolutions are risky investments (Note: Both risky start-ups are made-up for the purpose of this exercise).\n",
    "\n",
    "The banker has his clients and their investments in a dictionary with the names of the clients as keys and the investment as values. All clients want to buy an equal amount of Google and Microsoft stocks (so 50% each). Given that these are the safe companies, the banker advises clients with less than 100 000 to only buy stock of safe companies, not risky ones. For people with investments of equal or higher than 100 000 the banker advises to put 80% of their investments into Google and Microsoft (so 40% each), and 20% into the risky start-ups (so 10% each). All clients follow this advise except Lars, who wants to invest as a person with investments of equal or higher than 100 000.\n",
    "\n",
    "In order to sort out how much of which stock to buy for one client the investment banker asks you to write the function investor_overview which takes the client dictionary as a keyword argument. The function should then sort out in which stock and how much each client will invest. Then, the function returns a dictionary called stocks which has each of the four stocks as keys. The value for each key is a list filled with tuples of the client names and the investment of the client in this stock. \n",
    "\n",
    "Input:\n",
    "\n",
    "clients = {\n",
    "    \"John\": 20000,\n",
    "    \"Mary\": 50000,\n",
    "    \"Lars\": 100,\n",
    "    \"Hannah\": 100500,\n",
    "    \"Lukas\": 200040,\n",
    "}\n",
    "\n",
    "Output:\n",
    "\n",
    "{'Google': [('John', 10000.0),\n",
    "  ('Mary', 25000.0),\n",
    "  ('Lars', 40.0),\n",
    "  ('Hannah', 40200.0),\n",
    "  ('Lukas', 80016.0)],\\\n",
    " 'Microsoft': [('John', 10000.0),\n",
    "  ('Mary', 25000.0),\n",
    "  ('Lars', 40.0),\n",
    "  ('Hannah', 40200.0),\n",
    "  ('Lukas', 80016.0)],\\\n",
    " 'Techworld': [('Lars', 10.0), ('Hannah', 10050.0), ('Lukas', 20004.0)],\\\n",
    " 'MLsolutions': [('Lars', 10.0), ('Hannah', 10050.0), ('Lukas', 20004.0)]}\n"
   ]
  },
  {
   "cell_type": "code",
   "execution_count": 9,
   "metadata": {},
   "outputs": [
    {
     "data": {
      "text/plain": [
       "{'Google': [('John', 10000.0),\n",
       "  ('Mary', 25000.0),\n",
       "  ('Lars', 40.0),\n",
       "  ('Hannah', 40200.0),\n",
       "  ('Lukas', 80016.0)],\n",
       " 'Microsoft': [('John', 10000.0),\n",
       "  ('Mary', 25000.0),\n",
       "  ('Lars', 40.0),\n",
       "  ('Hannah', 40200.0),\n",
       "  ('Lukas', 80016.0)],\n",
       " 'Techworld': [('Lars', 10.0), ('Hannah', 10050.0), ('Lukas', 20004.0)],\n",
       " 'MLsolutions': [('Lars', 10.0), ('Hannah', 10050.0), ('Lukas', 20004.0)]}"
      ]
     },
     "execution_count": 9,
     "metadata": {},
     "output_type": "execute_result"
    }
   ],
   "source": []
  }
 ],
 "metadata": {
  "kernelspec": {
   "display_name": "Python 3.10.4 ('advancedMachineLearning')",
   "language": "python",
   "name": "python3"
  },
  "language_info": {
   "codemirror_mode": {
    "name": "ipython",
    "version": 3
   },
   "file_extension": ".py",
   "mimetype": "text/x-python",
   "name": "python",
   "nbconvert_exporter": "python",
   "pygments_lexer": "ipython3",
   "version": "3.10.4"
  },
  "orig_nbformat": 4,
  "vscode": {
   "interpreter": {
    "hash": "4ade60115be3a8bfc00bc5d4fae59dc65a0c94a4e25c5763a7dd66cbb726b48f"
   }
  }
 },
 "nbformat": 4,
 "nbformat_minor": 2
}
