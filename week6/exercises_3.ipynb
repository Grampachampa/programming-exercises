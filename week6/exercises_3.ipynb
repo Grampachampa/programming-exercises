{
 "cells": [
  {
   "cell_type": "markdown",
   "id": "aa397236-aa5d-4261-94bb-0506ef41b535",
   "metadata": {},
   "source": [
    "1. Write a Python function that takes a list of words and returns the length of the longest one. \n"
   ]
  },
  {
   "cell_type": "code",
   "execution_count": null,
   "id": "30716320-262d-431a-b078-a51c05fa8472",
   "metadata": {},
   "outputs": [],
   "source": [
    "from typing import List,Dict"
   ]
  },
  {
   "cell_type": "markdown",
   "id": "4789413e-60bc-4971-9f69-a38966fa4339",
   "metadata": {},
   "source": [
    "## Example:\n",
    "_input_: <br>\n",
    "['a','word','panda'] <br>\n",
    "<br>Mm\n",
    "_output_: <br>\n",
    "\"panda\" <br>"
   ]
  },
  {
   "cell_type": "code",
   "execution_count": null,
   "id": "aab488dd-db87-473f-bae0-d571feb40782",
   "metadata": {},
   "outputs": [],
   "source": []
  },
  {
   "cell_type": "markdown",
   "id": "b5d4182a-b1bc-4784-bda4-5323bea83bb1",
   "metadata": {},
   "source": [
    "2. Write a Python program to concatenate three dictionaries to create a new one. If original dictionaries have same keys, the value of that key should be add up.\n",
    "*NOTES:\n",
    "- The input are 3 list -\n",
    "\n",
    "## Example1:\n",
    "_input_: <br>\n",
    "dic1={1:10, 2:20}\n",
    "dic2={3:30, 4:40}\n",
    "dic3={5:50,6:60}\n",
    "<br>\n",
    "\n",
    "_output_: <br>\n",
    "{1: 10, 2: 20, 3: 30, 4: 40, 5: 50, 6: 60} <br>\n",
    "\n",
    "\n",
    "## Example2:\n",
    "\n",
    "_input_: <br>\n",
    "dic1={1:10, 2:20}\n",
    "dic2={3:30, 4:40}\n",
    "dic3={2:50, 4:10}\n",
    "<br>\n",
    "\n",
    "_output_: <br>\n",
    "{1: 10, 2: 70, 3: 30, 4: 50} <br>"
   ]
  },
  {
   "cell_type": "code",
   "execution_count": null,
   "id": "2f46787a-b1d4-4364-8446-eea36a4b694b",
   "metadata": {},
   "outputs": [],
   "source": []
  }
 ],
 "metadata": {
  "kernelspec": {
   "display_name": "Python 3",
   "language": "python",
   "name": "python3"
  },
  "language_info": {
   "codemirror_mode": {
    "name": "ipython",
    "version": 3
   },
   "file_extension": ".py",
   "mimetype": "text/x-python",
   "name": "python",
   "nbconvert_exporter": "python",
   "pygments_lexer": "ipython3",
   "version": "3.8.8"
  }
 },
 "nbformat": 4,
 "nbformat_minor": 5
}
