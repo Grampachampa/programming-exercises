{
 "cells": [
  {
   "cell_type": "markdown",
   "id": "c95314b1",
   "metadata": {},
   "source": [
    "## Join in ascending order"
   ]
  },
  {
   "cell_type": "markdown",
   "id": "d08ebd1d",
   "metadata": {},
   "source": [
    "Write a function ```join_ascending( )``` that takes two lists as parameters both ordered in ascending order and creates a new list, with values ordered in ascending order, by joining the values of the two lists."
   ]
  },
  {
   "cell_type": "markdown",
   "id": "7d914057",
   "metadata": {},
   "source": [
    "Hint: create a new new list and use ```append```."
   ]
  },
  {
   "cell_type": "markdown",
   "id": "166ab356",
   "metadata": {},
   "source": [
    "Example:\n",
    "\n",
    "<i>Input:<i>\n",
    "\n",
    "```L1 = [1, 3, 5, 6, 8, 99] \n",
    " L2 = [2, 4, 6, 6, 10, 50] ```\n",
    "    \n",
    "<i>Output:<i>\n",
    "\n",
    "``` L = [1, 2, 3, 4, 5, 6, 6, 6, 8, 10, 50, 99]```"
   ]
  },
  {
   "cell_type": "code",
   "execution_count": null,
   "id": "216506a3",
   "metadata": {},
   "outputs": [],
   "source": [
    "def join_ascending(L1: list, L2: list) -> list:\n",
    "    L = []\n",
    "    i, j = 0, 0\n",
    "    \n",
    "    while i < len(L1) and j < len(L2):\n",
    "        if L1[i] <= L2[j]:\n",
    "            L.append(L1[i])\n",
    "            i += 1\n",
    "        else: \n",
    "            L.append(L2[j])\n",
    "            j += 1\n",
    "            \n",
    "    if i < len(L1):\n",
    "        L = L + L1[i:]\n",
    "    else:\n",
    "        L = L + L2[j:]\n",
    "    \n",
    "    return L"
   ]
  },
  {
   "cell_type": "markdown",
   "id": "a46fa03b",
   "metadata": {},
   "source": [
    "## Scan DNA codons"
   ]
  },
  {
   "cell_type": "markdown",
   "id": "a6f2fa21",
   "metadata": {},
   "source": [
    "Write a function ```start_stop_DNA( )``` that scans the DNA sequence one codon at the time **(1 codon = 3 DNA base pairs)** and that returns a new DNA string in which every start codon ’atg’ is replaced with ’>>>’, and every stop codon (’taa’, ’tag’, or ’tga’) is replaced with ’<<<’."
   ]
  },
  {
   "cell_type": "markdown",
   "id": "25b69159",
   "metadata": {},
   "source": [
    "Hint: look up the use of ```range( )```"
   ]
  },
  {
   "cell_type": "markdown",
   "id": "7ec7e2a4",
   "metadata": {},
   "source": [
    "Example:\n",
    "\n",
    "<i>Input:<i>\n",
    "\n",
    "```dna = 'attgattacaatatgcgtactctgcgctgacgatat'```\n",
    "    \n",
    "<i>Output:<i>\n",
    "\n",
    "```'attgattacaat>>>cgtactctgcgc<<<cgatat'```"
   ]
  },
  {
   "cell_type": "code",
   "execution_count": null,
   "id": "96831ec2",
   "metadata": {},
   "outputs": [],
   "source": [
    "def start_stop_DNA(dna: str) -> str:\n",
    "    dna_ss = ''\n",
    "    \n",
    "    for i in range (0, len(dna), 3):\n",
    "        codon = dna[i:i+3]\n",
    "        if codon == 'atg':\n",
    "            dna_ss = dna_ss + '>>>'\n",
    "        elif codon in ('taa', 'tag', 'tga'):\n",
    "            dna_ss = dna_ss + '<<<'\n",
    "        else:\n",
    "            dna_ss = dna_ss + codon\n",
    "            \n",
    "    return dna_ss\n",
    "    "
   ]
  }
 ],
 "metadata": {
  "kernelspec": {
   "display_name": "Python 3 (ipykernel)",
   "language": "python",
   "name": "python3"
  },
  "language_info": {
   "codemirror_mode": {
    "name": "ipython",
    "version": 3
   },
   "file_extension": ".py",
   "mimetype": "text/x-python",
   "name": "python",
   "nbconvert_exporter": "python",
   "pygments_lexer": "ipython3",
   "version": "3.9.4"
  }
 },
 "nbformat": 4,
 "nbformat_minor": 5
}
