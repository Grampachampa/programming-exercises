{
 "cells": [
  {
   "cell_type": "markdown",
   "metadata": {},
   "source": [
    "Exercise 1 (Lists)\n",
    "\n",
    "Read from input a list of integers. Compute a list where the first element is the sum of all elements in the input list, the second element is the sum of all elements in the list where the first element has been computed, the third element is the sum of all elements in the list after the first two elements have been computed and so on for all elements in the list. Print the computed list.\n",
    "\n",
    "Example: \n",
    "input_list = [1,2,3,4,5]\n",
    "should output: [15,29,56,109,214]"
   ]
  },
  {
   "cell_type": "code",
   "execution_count": 16,
   "metadata": {},
   "outputs": [
    {
     "name": "stdout",
     "output_type": "stream",
     "text": [
      "[15, 29, 56, 109, 214]\n"
     ]
    }
   ],
   "source": [
    "from typing import List\n",
    "\n",
    "\n",
    "def sum_to_each(list: int) -> List[int]:\n",
    "    \"\"\"\n",
    "    Returns a list where each element is the sum of all elements \n",
    "    in the list starting from left to right. Changes given list\n",
    "    parameter in the same way.\n",
    "\n",
    "    :param list (int): list of int\n",
    "\n",
    "    :returns: list of int where each element is the sum of \n",
    "    all elements in the list starting from left to right\n",
    "    \"\"\"\n",
    "    for i in range(len(list)):\n",
    "        list[i] = sum(list)\n",
    "\n",
    "    return list\n",
    "\n",
    "\n",
    "def list_of_strings_to_int (list: str, separator: str) -> List[int]:\n",
    "    \"\"\"\n",
    "    Returns a list where each element in input list is \n",
    "    converted to an int.\n",
    "\n",
    "    :param list (int): strings containing numbers separated by separator\n",
    "    :param separator (str): separator of elements in str list\n",
    "\n",
    "    :returns: list of int where each element in input list\n",
    "    is converted to int\n",
    "    \"\"\"\n",
    "    list = [int(x) for x in list.split(separator)]\n",
    "\n",
    "    return list\n",
    "\n",
    "\n",
    "input_list = list_of_strings_to_int(input(\"Give a list of integers separated by comma: \"), \",\")\n",
    "\n",
    "print(sum_to_each(input_list))"
   ]
  },
  {
   "cell_type": "markdown",
   "metadata": {},
   "source": [
    "Exercise 2 (Dictionaries)\n",
    "\n",
    "For a given dictionary mapping countries to lists of cities create a dictionary mapping cities to countries. Compute for an example of your own choice and print your result.\n",
    "\n",
    "Example:\n",
    "countries_cities = {\"Netherlands\":[\"Amsterdam\",\"Rotterdam\",\"Utrecht\"], \"Germany\":[\"Berlin\",\"Cologne\",\"Munchen\"]}\n",
    "should output: {\"Amsterdam\":\"Netherlands\", \"Rotterdam\":\"Netherlands\", \"Utrecht\":\"Netherlands\", \"Berlin\":\"Germany\", \"Cologne\":\"Germany\",     \n",
    "                \"Munchen\":\"Germany\"}"
   ]
  },
  {
   "cell_type": "code",
   "execution_count": 21,
   "metadata": {},
   "outputs": [
    {
     "name": "stdout",
     "output_type": "stream",
     "text": [
      "{'Amsterdam': 'Netherlands', 'Rotterdam': 'Netherlands', 'Utrecht': 'Netherlands', 'Berlin': 'Germany', 'Cologne': 'Germany', 'Munchen': 'Germany'}\n"
     ]
    }
   ],
   "source": [
    "from typing import Dict\n",
    "\n",
    "\n",
    "def cities_countries(countries_cities: Dict) -> Dict:\n",
    "    \"\"\"\n",
    "    Returns a dictionary where each key:value pair represents\n",
    "    a \"City\":\"Country\" pair built from the input countries_cities\n",
    "\n",
    "    :param countries_cities (Dict): dictionary with \"Country\":[\"City1\",City2\"] pairs\n",
    "\n",
    "    :returns: a dictionary where each key:value pair represents\n",
    "    a \"City\":\"Country\" pair\n",
    "    \"\"\"\n",
    "\n",
    "    cities_countries = dict()\n",
    "\n",
    "    for key in countries_cities:\n",
    "        values_list = countries_cities[key]\n",
    "        for each in values_list:\n",
    "            cities_countries[each] = key\n",
    "    \n",
    "    return cities_countries\n",
    "\n",
    "\n",
    "print(cities_countries({\"Netherlands\":[\"Amsterdam\",\"Rotterdam\",\"Utrecht\"], \"Germany\":[\"Berlin\",\"Cologne\",\"Munchen\"]}))"
   ]
  }
 ],
 "metadata": {
  "kernelspec": {
   "display_name": "Python 3.10.5 64-bit",
   "language": "python",
   "name": "python3"
  },
  "language_info": {
   "codemirror_mode": {
    "name": "ipython",
    "version": 3
   },
   "file_extension": ".py",
   "mimetype": "text/x-python",
   "name": "python",
   "nbconvert_exporter": "python",
   "pygments_lexer": "ipython3",
   "version": "3.10.5"
  },
  "orig_nbformat": 4,
  "vscode": {
   "interpreter": {
    "hash": "aee8b7b246df8f9039afb4144a1f6fd8d2ca17a180786b69acc140d282b71a49"
   }
  }
 },
 "nbformat": 4,
 "nbformat_minor": 2
}
