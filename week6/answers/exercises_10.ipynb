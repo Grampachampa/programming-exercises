{
 "cells": [
  {
   "cell_type": "markdown",
   "id": "5b765281",
   "metadata": {},
   "source": [
    "Create a function named convert that will pass a list as a parameter and will return a list of all the ages of students with an \"AI\" degree.\n",
    "Expected input: \n",
    "students = [\n",
    "  { 'name': 'Theodore', 'age': 18 , 'degree' : \"AI\"},\n",
    "  { 'name': 'Mathew', 'age': 22 , 'degree' : \"CS\"},\n",
    "  { 'name': 'Roxanne', 'age': 20 , 'degree' : \"AI\" },\n",
    "  { 'name': 'David', 'age': 18 , 'degree' : \"AI\"},\n",
    "  { 'name': 'Anton', 'age': 25 , 'degree' : \"CS\"},\n",
    "]\n",
    "Expected output: [18, 20, 18]\n",
    "\n"
   ]
  },
  {
   "cell_type": "code",
   "execution_count": 34,
   "id": "bb4e4cc4",
   "metadata": {},
   "outputs": [
    {
     "name": "stdout",
     "output_type": "stream",
     "text": [
      "[18, 20, 18]\n"
     ]
    }
   ],
   "source": [
    "students = [\n",
    "  { 'name': 'Theodore', 'age': 18 , 'degree' : \"AI\"},\n",
    "  { 'name': 'Mathew', 'age': 22 , 'degree' : \"CS\"},\n",
    "  { 'name': 'Roxanne', 'age': 20 , 'degree' : \"AI\" },\n",
    "  { 'name': 'David', 'age': 18 , 'degree' : \"AI\"},\n",
    "  { 'name': 'Anton', 'age': 25 , 'degree' : \"CS\"},\n",
    "]\n",
    "\n",
    "\n",
    "def convert(students_dict: List[Dict[str, any]]):\n",
    "    ages = []\n",
    "    for x in students_dict:\n",
    "        if x.get(\"degree\") == \"AI\":\n",
    "            ages.append(x.get(\"age\"))\n",
    "    return ages\n",
    "\n",
    "print(convert(students))"
   ]
  },
  {
   "cell_type": "raw",
   "id": "f88cf1bb",
   "metadata": {},
   "source": [
    "Print the following pattern when passing 3 as an argument to the function:\n",
    "    * \n",
    "   * * \n",
    "  * * * \n",
    "Hint: use a nested for loop\n",
    "https://medium.com/edureka/python-pattern-programs-75e1e764a42f"
   ]
  },
  {
   "cell_type": "code",
   "execution_count": 33,
   "id": "b3f91d56",
   "metadata": {},
   "outputs": [
    {
     "name": "stdout",
     "output_type": "stream",
     "text": [
      "    * \r\n",
      "   * * \r\n",
      "  * * * \r\n"
     ]
    }
   ],
   "source": [
    "def print_pattern(n: int):\n",
    "    k = 2 * n - 2\n",
    "    for i in range(0,n):\n",
    "        for j in range(0,k):\n",
    "            print(end=\" \")\n",
    "        k = k - 1\n",
    "        for j in range(0, i+1):\n",
    "            print(\"*\", end=\" \")\n",
    "        print(\"\\r\")\n",
    "print_pattern(3)"
   ]
  },
  {
   "cell_type": "code",
   "execution_count": null,
   "id": "470b3b1c",
   "metadata": {},
   "outputs": [],
   "source": []
  }
 ],
 "metadata": {
  "kernelspec": {
   "display_name": "Python 3 (ipykernel)",
   "language": "python",
   "name": "python3"
  },
  "language_info": {
   "codemirror_mode": {
    "name": "ipython",
    "version": 3
   },
   "file_extension": ".py",
   "mimetype": "text/x-python",
   "name": "python",
   "nbconvert_exporter": "python",
   "pygments_lexer": "ipython3",
   "version": "3.9.12"
  }
 },
 "nbformat": 4,
 "nbformat_minor": 5
}
