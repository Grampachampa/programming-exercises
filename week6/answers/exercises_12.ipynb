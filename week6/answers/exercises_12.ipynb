{
 "cells": [
  {
   "cell_type": "markdown",
   "id": "20f44ecb-7df7-47f4-afff-422f050df39c",
   "metadata": {},
   "source": [
    "EXERCISE 1: SAME LETTERS FREQUENCY\n",
    "\n",
    "Define a function that gets the input as 2 STRINGS, and RETURNS A BOOLEAN (True or False), based on whether the two strings\n",
    "has the same letters frequency or not. The algorithm should ignore uppper/lowercase, spaces.\n",
    "\n",
    "Example input: \"Hello I am a weeb\", \"baewe mIa lleoh\"\n",
    "\n",
    "Expected output: True"
   ]
  },
  {
   "cell_type": "code",
   "execution_count": 1,
   "id": "b6ca1731-79fb-4c81-b03f-ed20dc593231",
   "metadata": {},
   "outputs": [],
   "source": [
    "def same_freq(str1, str2):\n",
    "    #cleaning\n",
    "    str1 = str1.lower().replace(\" \", \"\")\n",
    "    str2 = str2.lower().replace(\" \", \"\")\n",
    "    \n",
    "    freq_dict = {}\n",
    "    \n",
    "    for letter in str1:\n",
    "        if letter not in freq_dict:\n",
    "            freq_dict[letter] = 1\n",
    "        else:\n",
    "            freq_dict[letter] += 1\n",
    "    for letter in str2:\n",
    "        if (letter not in freq_dict) or (freq_dict[letter] == 0):\n",
    "            return False\n",
    "        freq_dict[letter] -= 1\n",
    "    \n",
    "    #checks if any values is a non-zero\n",
    "    if any(freq_dict.values()):\n",
    "        return False\n",
    "    \n",
    "    return True"
   ]
  },
  {
   "cell_type": "code",
   "execution_count": 2,
   "id": "df3d2272-2482-443a-a130-7b40844f022c",
   "metadata": {},
   "outputs": [
    {
     "name": "stdout",
     "output_type": "stream",
     "text": [
      "True\n"
     ]
    }
   ],
   "source": [
    "print(same_freq(\"Hello I am a weeb\", \"baewe mIa lleoh\"))"
   ]
  },
  {
   "cell_type": "markdown",
   "id": "f45f0620-0422-4974-b493-b690c31b8e1f",
   "metadata": {},
   "source": [
    "EXERCISE 2: SORT BASED ON KEY\n",
    "\n",
    "Given a dictionary containing key-value pairs as int-any, sort the values based on the ascending order of the keys. Design a function that\n",
    "takes a dictionary as an input and gives an array as the output.\n",
    "\n",
    "Example input: {0: \"a\", 5: 2, 1: [1, 2], 4: {2: 3}}\n",
    "\n",
    "Expected output: [\"a\", [1, 2], {2: 3}, 2]"
   ]
  },
  {
   "cell_type": "code",
   "execution_count": 3,
   "id": "08b0130e-1814-4c1f-afec-cbb4f03e912c",
   "metadata": {},
   "outputs": [],
   "source": [
    "def sort_onkeys(dict_input):\n",
    "\n",
    "    #get list of sorted keys:\n",
    "    key_list = list(dict_input.keys())\n",
    "    key_list.sort()\n",
    "    \n",
    "    sorted_values = [dict_input[value] for value in key_list]\n",
    "    \n",
    "    return sorted_values"
   ]
  },
  {
   "cell_type": "code",
   "execution_count": 4,
   "id": "e781bee7-a7e1-4f9b-bfe5-0dbea0380fd6",
   "metadata": {},
   "outputs": [
    {
     "name": "stdout",
     "output_type": "stream",
     "text": [
      "['a', [1, 2], {2: 3}, 2]\n"
     ]
    }
   ],
   "source": [
    "print(sort_onkeys({0: \"a\", 5: 2, 1: [1, 2], 4: {2: 3}}))"
   ]
  }
 ],
 "metadata": {
  "kernelspec": {
   "display_name": "Python 3 (ipykernel)",
   "language": "python",
   "name": "python3"
  },
  "language_info": {
   "codemirror_mode": {
    "name": "ipython",
    "version": 3
   },
   "file_extension": ".py",
   "mimetype": "text/x-python",
   "name": "python",
   "nbconvert_exporter": "python",
   "pygments_lexer": "ipython3",
   "version": "3.10.6"
  }
 },
 "nbformat": 4,
 "nbformat_minor": 5
}
