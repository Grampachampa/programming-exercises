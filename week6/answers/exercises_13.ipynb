{
 "cells": [
  {
   "cell_type": "markdown",
   "id": "78f7b591-e07f-4fd5-b7a2-b57344a6ce54",
   "metadata": {},
   "source": [
    "## Animals in a zoo\n",
    "\n",
    "A zoo is planning its yearly budget. The diet of each animal (herbivore/carnivore/omnivore) is stored in a dictionary called animalDiets. The yearly cost of feeding an animal from a given type of diet is stored in another dictionary called yearlyCosts. These are given for you.\n",
    "\n",
    "Create a function called yearlyBudget which takes as input a list of animals and returns the total yearly budget for feeding these animals. You can assume that the input list to your function will not have duplicates (e.g., two elephants) and that it will only contain animals which are listed in the animalDiets dictionary.\n",
    "\n",
    "Example:\n",
    "\n",
    "Input:\n",
    "```python\n",
    "animals = [\"lion\", \"zebra\", \"chimpanzee\"]\n",
    "```\n",
    "\n",
    "Output:\n",
    "<pre>\n",
    "2250\n",
    "</pre>\n",
    "\n",
    "(Made by: Zsófia Katona)"
   ]
  },
  {
   "cell_type": "code",
   "execution_count": null,
   "id": "7c0296b0-cc3e-41f6-b0ac-216a8a68b7f3",
   "metadata": {},
   "outputs": [],
   "source": [
    "from typing import Dict, List\n",
    "\n",
    "animalDiets = {\"lion\" : \"carnivore\", \"cheetah\" : \"carnivore\", \\\n",
    "              \"elephant\" : \"herbivore\", \"zebra\" : \"herbivore\", \\\n",
    "              \"mandril\" : \"omnivore\", \"chimpanzee\" : \"omnivore\"}\n",
    "\n",
    "yearlyCosts = {\"carnivore\" : 1000, \"herbivore\" : 500, \"omnivore\": 750}\n",
    "\n",
    "# Example solution:\n",
    "\n",
    "animals = [\"lion\", \"zebra\", \"chimpanzee\"]\n",
    "\n",
    "def yearlyBudget(animals: List[str]) -> int:\n",
    "    budget: int = 0    # Can also be float.\n",
    "    \n",
    "    for animal in animals:\n",
    "        diet = animalDiets[animal]\n",
    "        \n",
    "        cost = yearlyCosts[diet]\n",
    "        \n",
    "        budget += cost\n",
    "        \n",
    "    return budget\n",
    "\n",
    "print(yearlyBudget(animals))    "
   ]
  },
  {
   "cell_type": "markdown",
   "id": "cd4578ff-bb46-4753-b995-db1d2c10b715",
   "metadata": {
    "tags": []
   },
   "source": [
    "## Braided strings\n",
    "\n",
    "Create a function called intertwine which takes as input two strings and returns a new string which is built so that the first letter comes from the first string, the second from the second string, the third from the first string again, the fourth from the second string again, and so on.\n",
    "\n",
    "Note: If one of the strings has more letters than the other, then the \"braiding\" should go on until one string is finished, and the remaining letters of the longer string should be added at the end.\n",
    "\n",
    "#### Example\n",
    "Input:\n",
    "```python\n",
    "string1 = \"Romeo\"\n",
    "string2 = \"Juliet\"\n",
    "```\n",
    "\n",
    "Output:\n",
    "<pre>\n",
    "RJoumleioet\n",
    "</pre>\n",
    "\n",
    "(Made by: Zsófia Katona)"
   ]
  },
  {
   "cell_type": "code",
   "execution_count": null,
   "id": "52738157-d28d-4a4c-8345-3c2788effb9e",
   "metadata": {},
   "outputs": [],
   "source": [
    "# Example solution:\n",
    "\n",
    "string1: str = \"Romeo\"\n",
    "string2: str = \"Juliet\"\n",
    "\n",
    "def intertwine(string1: str, string2: str) -> str:\n",
    "    braid: str = \"\"\n",
    "    \n",
    "    length1 = len(string1)\n",
    "    length2 = len(string2)\n",
    "    \n",
    "    if length1 >= length2:\n",
    "        longerString = string1\n",
    "        shorterString = string2\n",
    "        \n",
    "    else:\n",
    "        longerString = string2\n",
    "        shorterString = string1\n",
    "        \n",
    "    for i in range(0, len(shorterString)):\n",
    "        braid += string1[i]\n",
    "        braid += string2[i]\n",
    "        \n",
    "    braid += longerString[length1:]\n",
    "    \n",
    "    return braid\n",
    "\n",
    "print(intertwine(string1, string2))"
   ]
  }
 ],
 "metadata": {
  "kernelspec": {
   "display_name": "Python 3 (ipykernel)",
   "language": "python",
   "name": "python3"
  },
  "language_info": {
   "codemirror_mode": {
    "name": "ipython",
    "version": 3
   },
   "file_extension": ".py",
   "mimetype": "text/x-python",
   "name": "python",
   "nbconvert_exporter": "python",
   "pygments_lexer": "ipython3",
   "version": "3.9.7"
  }
 },
 "nbformat": 4,
 "nbformat_minor": 5
}
