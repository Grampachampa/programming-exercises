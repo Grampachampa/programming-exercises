{
 "cells": [
  {
   "cell_type": "code",
   "execution_count": 1,
   "metadata": {},
   "outputs": [],
   "source": [
    "from typing import List, Dict, Tuple\n",
    "from collections import Counter\n",
    "import numpy as np"
   ]
  },
  {
   "cell_type": "markdown",
   "metadata": {},
   "source": [
    "Make a function \"count_words\" that counts the words in a list and and puts them in a dictionary. The keys are the words and the values are the numbers of appearence of each character. The function should return the dictionary and the most frequent word.\\\n",
    "Input: [\"apple\", \"banana\", \"orange\", \"orange\"]\\\n",
    "Output: {\"apple\": 1, \"banana\": 1, \"orange\": 2}, \"orange\"\n",
    "\n",
    "Hint: you can use Counter from the module collections"
   ]
  },
  {
   "cell_type": "code",
   "execution_count": 2,
   "metadata": {},
   "outputs": [
    {
     "data": {
      "text/plain": [
       "(Counter({'apple': 1, 'banana': 1, 'orange': 2}), 'orange')"
      ]
     },
     "execution_count": 2,
     "metadata": {},
     "output_type": "execute_result"
    }
   ],
   "source": [
    "# solution\n",
    "\n",
    "def count_words(words: List[str]) -> Tuple[dict, str]:\n",
    "    counter_dict = Counter(words)\n",
    "    max_count = counter_dict.most_common()[0][0]\n",
    "    return counter_dict, max_count\n",
    "\n",
    "count_words([\"apple\", \"banana\", \"orange\", \"orange\"])"
   ]
  },
  {
   "cell_type": "markdown",
   "metadata": {},
   "source": [
    "Write a function \"get_mean_and_sd\" that receives a list of integers and an integer n. The function should take the first n elements (including n) of the list return the standard deviation and mean of this sub-list. Then return a dictionary containing \"mean\" and \"\"stdev\" as keys and the mean and standard deviation (both floats) as values.\\\n",
    "Input: [1,2,3,4,5], 2\\\n",
    "output: {\"mean\": 2, \"stdev\": 0.816}\n"
   ]
  },
  {
   "cell_type": "code",
   "execution_count": 3,
   "metadata": {},
   "outputs": [
    {
     "data": {
      "text/plain": [
       "{'mean': 2.0, 'stdev': 0.816496580927726}"
      ]
     },
     "execution_count": 3,
     "metadata": {},
     "output_type": "execute_result"
    }
   ],
   "source": [
    "# solution\n",
    "\n",
    "def get_mean_and_sd(int_list: List[int], n: int) -> Dict[str, float]:\n",
    "    sub_list = int_list[:n+1]\n",
    "    list_mean = np.mean(sub_list)\n",
    "    list_sdt = np.std(sub_list)\n",
    "\n",
    "    return {\"mean\": list_mean, \"stdev\": list_sdt}\n",
    "\n",
    "get_mean_and_sd([1,2,3,4,5], 2)\n"
   ]
  }
 ],
 "metadata": {
  "kernelspec": {
   "display_name": "Python 3.10.4 ('advancedMachineLearning')",
   "language": "python",
   "name": "python3"
  },
  "language_info": {
   "codemirror_mode": {
    "name": "ipython",
    "version": 3
   },
   "file_extension": ".py",
   "mimetype": "text/x-python",
   "name": "python",
   "nbconvert_exporter": "python",
   "pygments_lexer": "ipython3",
   "version": "3.10.4"
  },
  "orig_nbformat": 4,
  "vscode": {
   "interpreter": {
    "hash": "4ade60115be3a8bfc00bc5d4fae59dc65a0c94a4e25c5763a7dd66cbb726b48f"
   }
  }
 },
 "nbformat": 4,
 "nbformat_minor": 2
}
