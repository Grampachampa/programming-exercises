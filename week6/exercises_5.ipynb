{
 "cells": [
  {
   "cell_type": "markdown",
   "id": "703ad714",
   "metadata": {},
   "source": [
    "1. Grades.\n",
    "\n",
    "\n",
    "Define a __function__ called _grading_ which takes in a __list__ of scores as an argument, named _scores_ . This function should return a __dictionary__ named _grades_ where the keys are the grades and the values are the number of persons who got that grade.\n",
    "*NOTES:\n",
    "- The input list's elements are __integers__, from 0 to 100.\n",
    "- The grading scheme goes from 1 to 10, in an evenly distibuted matter, so 1 - [0-9], 2 - [10-19] ... 10 - [90-100]"
   ]
  },
  {
   "cell_type": "markdown",
   "id": "c58ef64f",
   "metadata": {},
   "source": [
    "## Example:\n",
    "_input_: <br>\n",
    "scores = [2,35,62,14,91] <br>\n",
    "<br>\n",
    "_output_: <br>\n",
    "{1 : 1, 2 : 1, 3 : 0 , 4 : 1 ... 10 : 1} <br>"
   ]
  },
  {
   "cell_type": "code",
   "execution_count": null,
   "id": "ee33641f",
   "metadata": {},
   "outputs": [],
   "source": []
  },
  {
   "cell_type": "markdown",
   "id": "ec4cd976",
   "metadata": {},
   "source": [
    "2. Championship\n",
    "\n",
    "\n",
    "We have 3 __lists__ of results from 3 rounds of a championship named _result1_ _result2_ and _result3_. You have to merge these into 1 __list__ called _overall_results_,sort them in ascending order, remove the duplicates and then print out the _overall_results_.\n",
    "*NOTES:\n",
    "- The input list's elements are __integers__."
   ]
  },
  {
   "cell_type": "markdown",
   "id": "f378f058",
   "metadata": {},
   "source": [
    "## Example:\n",
    "_input_: <br>\n",
    "result1 = list(range(30,60)) <br>\n",
    "result2 = list(range(70,40,-1)) <br>\n",
    "result3 = list(range(80,90)) <br>\n",
    "<br>\n",
    "_output_: <br>\n",
    "[30, 31, 32, 33, 34, 35, 36, 37, 38, 39, 40, 41, 42, 43, 44, 45, 46, 47, 48, 49, 50, 51, 52, 53, 54, 55, 56, 57, 58, 59, 60, 61, 62, 63, 64, 65, 66, 67, 68, 69, 70, 80, 81, 82, 83, 84, 85, 86, 87, 88, 89] <br>"
   ]
  },
  {
   "cell_type": "code",
   "execution_count": null,
   "id": "5e4eaf22",
   "metadata": {},
   "outputs": [],
   "source": []
  }
 ],
 "metadata": {
  "kernelspec": {
   "display_name": "Python 3 (ipykernel)",
   "language": "python",
   "name": "python3"
  },
  "language_info": {
   "codemirror_mode": {
    "name": "ipython",
    "version": 3
   },
   "file_extension": ".py",
   "mimetype": "text/x-python",
   "name": "python",
   "nbconvert_exporter": "python",
   "pygments_lexer": "ipython3",
   "version": "3.7.9"
  }
 },
 "nbformat": 4,
 "nbformat_minor": 5
}
