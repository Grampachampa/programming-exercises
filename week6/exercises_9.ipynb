{
 "cells": [
  {
   "cell_type": "markdown",
   "id": "5b765281",
   "metadata": {},
   "source": [
    "## 1. \n",
    "Create a function named convert that will pass a list as a parameter and will return a list of all the ages of students with an \"AI\" degree.\n",
    "Expected input: \n",
    "students = [\n",
    "  { 'name': 'Theodore', 'age': 18 , 'degree' : \"AI\"},\n",
    "  { 'name': 'Mathew', 'age': 22 , 'degree' : \"CS\"},\n",
    "  { 'name': 'Roxanne', 'age': 20 , 'degree' : \"AI\" },\n",
    "  { 'name': 'David', 'age': 18 , 'degree' : \"AI\"},\n",
    "  { 'name': 'Anton', 'age': 25 , 'degree' : \"CS\"},\n",
    "]\n",
    "Expected output: [18, 20, 18]\n",
    "\n"
   ]
  },
  {
   "cell_type": "code",
   "execution_count": null,
   "id": "bb4e4cc4",
   "metadata": {},
   "outputs": [],
   "source": []
  },
  {
   "cell_type": "markdown",
   "id": "f88cf1bb",
   "metadata": {},
   "source": [
    "## 2. \n",
    "Print the following pattern when passing 3 as an argument to the function:\n",
    "```\n",
    "    * \n",
    "   * * \n",
    "  * * * \n",
    "```\n",
    "Hint: use a nested for loop"
   ]
  },
  {
   "cell_type": "code",
   "execution_count": null,
   "id": "b3f91d56",
   "metadata": {},
   "outputs": [],
   "source": []
  }
 ],
 "metadata": {
  "kernelspec": {
   "display_name": "Python 3.9.6 64-bit",
   "language": "python",
   "name": "python3"
  },
  "language_info": {
   "codemirror_mode": {
    "name": "ipython",
    "version": 3
   },
   "file_extension": ".py",
   "mimetype": "text/x-python",
   "name": "python",
   "nbconvert_exporter": "python",
   "pygments_lexer": "ipython3",
   "version": "3.9.6"
  },
  "vscode": {
   "interpreter": {
    "hash": "31f2aee4e71d21fbe5cf8b01ff0e069b9275f58929596ceb00d14d90e3e16cd6"
   }
  }
 },
 "nbformat": 4,
 "nbformat_minor": 5
}
