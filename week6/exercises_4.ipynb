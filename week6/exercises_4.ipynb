{
 "cells": [
  {
   "cell_type": "code",
   "execution_count": null,
   "metadata": {},
   "outputs": [],
   "source": [
    "from typing import Dict"
   ]
  },
  {
   "cell_type": "markdown",
   "metadata": {},
   "source": [
    "1. Capital cities (Daan)\n",
    "\n",
    "Consider a dictionary that pairs strings containing names of countries to strings containing the names of their capital cities. As befits a geographical location, these names start with captital letters. Write a function named decapitalize_capitals() that takes such a dictionary as parameter, and returns the dictionary where the names of the capital cities are decapitalized.\n",
    "\n",
    "**Notes:**  \n",
    "- Some city names have multiple capital letters, these should all be made lower case.\n",
    "\n",
    "**Example:**  \n",
    "*Input:*  \n",
    "<pre>\n",
    "{\n",
    "    \"The Netherlands\": \"Amsterdam\",\n",
    "    \"France\": \"Paris\",\n",
    "    \"Japan\": \"Tokyo\"\n",
    "}\n",
    "</pre>\n",
    "\n",
    "*Output:*  \n",
    "<pre>\n",
    "{\n",
    "    \"The Netherlands\": \"amsterdam\",\n",
    "    \"France\": \"paris\",\n",
    "    \"Japan\": \"tokyo\"\n",
    "}\n",
    "</pre>"
   ]
  },
  {
   "cell_type": "code",
   "execution_count": null,
   "metadata": {},
   "outputs": [],
   "source": []
  },
  {
   "cell_type": "markdown",
   "metadata": {},
   "source": [
    "2. Extremes in a dictionary (Daan)\n",
    "\n",
    "Consider a dictionary that pairs strings (as key) to integers (as values). We are interested in the two pairs where the value is either the lowest or the highest in the dictionary. Write a function extremes() that takes such a dictionary as parameter, then returns a new dictionary with exactly one pair, with as key the string corresponding to the minimal integer and as value the string corresponding to the maximal integer.\n",
    "\n",
    "**Notes:**  \n",
    "- Assume the given dictionary has at least two pairs.\n",
    "- Assume all keys values in the given dictionary are unique.\n",
    "\n",
    "**Hints:**\n",
    "- This task is intentionally confusing. You might need to think differently about dictionaries than you're used to. So, carefully read what the function has to do. Take a moment to consider the types of the parameter and the return value. Also consider what methods might be useful.\n",
    "\n",
    "**Example:**  \n",
    "*Input:*  \n",
    "<pre>\n",
    "{\n",
    "  \"dog\": 3,\n",
    "  \"cat\": 1,\n",
    "  \"fish\": 2\n",
    "}\n",
    "</pre>\n",
    "\n",
    "*Output:*  \n",
    "<pre>\n",
    "{\n",
    "  \"cat\": \"dog\"\n",
    "}\n",
    "</pre>"
   ]
  },
  {
   "cell_type": "code",
   "execution_count": null,
   "metadata": {},
   "outputs": [],
   "source": []
  }
 ],
 "metadata": {
  "kernelspec": {
   "display_name": "Python 3.9.4 64-bit",
   "language": "python",
   "name": "python3"
  },
  "language_info": {
   "codemirror_mode": {
    "name": "ipython",
    "version": 3
   },
   "file_extension": ".py",
   "mimetype": "text/x-python",
   "name": "python",
   "nbconvert_exporter": "python",
   "pygments_lexer": "ipython3",
   "version": "3.9.4"
  },
  "orig_nbformat": 4,
  "vscode": {
   "interpreter": {
    "hash": "20c476fdfd09ca42942468b8f270b00d3fc84a5477f26df9e13fa945900e8ea6"
   }
  }
 },
 "nbformat": 4,
 "nbformat_minor": 2
}
