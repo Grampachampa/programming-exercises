{
 "cells": [
  {
   "cell_type": "code",
   "execution_count": null,
   "metadata": {},
   "outputs": [],
   "source": [
    "from typing import List, Dict, Tuple\n",
    "from collections import Counter\n",
    "import numpy as np"
   ]
  },
  {
   "cell_type": "markdown",
   "metadata": {},
   "source": [
    "1. Make a function \"count_words\" that counts the words in a list and and puts them in a dictionary. The keys are the words and the values are the numbers of appearence of each character. The function should return the dictionary and the most frequent word.\\\n",
    "Input: [\"apple\", \"banana\", \"orange\", \"orange\"]\\\n",
    "Output: {\"apple\": 1, \"banana\": 1, \"orange\": 2}, \"orange\"\n",
    "\n",
    "Hint: you can use Counter from the module collections"
   ]
  },
  {
   "cell_type": "code",
   "execution_count": null,
   "metadata": {},
   "outputs": [],
   "source": []
  },
  {
   "cell_type": "markdown",
   "metadata": {},
   "source": [
    "2. Write a function \"get_mean_and_sd\" that receives a list of integers and an integer n. The function should take the first n elements (including n) of the list return the standard deviation and mean of this sub-list. Then return a dictionary containing \"mean\" and \"\"stdev\" as keys and the mean and standard deviation (both floats) as values.\\\n",
    "Input: [1,2,3,4,5], 2\\\n",
    "output: {\"mean\": 2, \"stdev\": 0.816}\n"
   ]
  },
  {
   "cell_type": "code",
   "execution_count": null,
   "metadata": {},
   "outputs": [],
   "source": []
  }
 ],
 "metadata": {
  "kernelspec": {
   "display_name": "Python 3.9.6 64-bit",
   "language": "python",
   "name": "python3"
  },
  "language_info": {
   "codemirror_mode": {
    "name": "ipython",
    "version": 3
   },
   "file_extension": ".py",
   "mimetype": "text/x-python",
   "name": "python",
   "nbconvert_exporter": "python",
   "pygments_lexer": "ipython3",
   "version": "3.9.6"
  },
  "orig_nbformat": 4,
  "vscode": {
   "interpreter": {
    "hash": "31f2aee4e71d21fbe5cf8b01ff0e069b9275f58929596ceb00d14d90e3e16cd6"
   }
  }
 },
 "nbformat": 4,
 "nbformat_minor": 2
}
