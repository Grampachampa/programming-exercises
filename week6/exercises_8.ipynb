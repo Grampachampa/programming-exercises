{
 "cells": [
  {
   "cell_type": "markdown",
   "id": "4e3df61e",
   "metadata": {},
   "source": [
    "## 1. Create a dictionary by extracting the keys from a given dictionary\n",
    "\n",
    "Write a Python program to create a new dictionary by extracting the mentioned keys from the dictionary below. \n",
    "The dictionary contains several information about a person. Loop over the dictionary and keep only the information keys you need. Print the output in the end.\n",
    "\n",
    "Adapted from : https://pynative.com/python-dictionary-exercise-with-solutions/#h-exercise-5-create-a-dictionary-by-extracting-the-keys-from-a-given-dictionary\n",
    "\n",
    "**Example:**  \n",
    "*Input:*  \n",
    "\n",
    "<pre>\n",
    "\n",
    "sample_dict = {\n",
    "    \"name\": \"Kelly\",\n",
    "    \"age\": 25,\n",
    "    \"salary\": 8000,\n",
    "    \"city\": \"New york\"}\n",
    "\n",
    "</pre>\n",
    "\n",
    "*Output:*  \n",
    "<pre>\n",
    "{'name': 'Kelly', 'salary': 8000}\n",
    "</pre>"
   ]
  },
  {
   "cell_type": "code",
   "execution_count": null,
   "id": "e889dc27",
   "metadata": {},
   "outputs": [],
   "source": []
  },
  {
   "cell_type": "markdown",
   "id": "8842804d",
   "metadata": {},
   "source": [
    "## 2. Find all the employees that make a lot of money\n",
    "\n",
    "Return all the employees and their names who make more or equal to *8000* euros.\\\n",
    "Be aware the value of the dictionary in this case is another dictionary.\n",
    "\n",
    "\n",
    "**Example:**  \n",
    "*Input:*  \n",
    "\n",
    "<pre>\n",
    "\n",
    "employees = {\n",
    "    'emp1': {'name': 'Jhon', 'salary': 7500},\n",
    "    'emp2': {'name': 'Emma', 'salary': 8000},\n",
    "    'emp3': {'name': 'Brad', 'salary': 6500},\n",
    "    'emp4': {'name': 'Tom', 'salary': 15000},\n",
    "    'emp5': {'name': 'Valentina', 'salary': 8000}\n",
    "}\n",
    "\n",
    "</pre>\n",
    "\n",
    "*Output:*  \n",
    "<pre>\n",
    "Employee emp2, named Emma:, makes 8000 euros a month.\n",
    "Employee emp4, named Tom:, makes 15000 euros a month.\n",
    "Employee emp5, named Valentina:, makes 8000 euros a month.\n",
    "</pre>"
   ]
  },
  {
   "cell_type": "code",
   "execution_count": null,
   "id": "3f300e57",
   "metadata": {},
   "outputs": [],
   "source": []
  }
 ],
 "metadata": {
  "kernelspec": {
   "display_name": "Python 3 (ipykernel)",
   "language": "python",
   "name": "python3"
  },
  "language_info": {
   "codemirror_mode": {
    "name": "ipython",
    "version": 3
   },
   "file_extension": ".py",
   "mimetype": "text/x-python",
   "name": "python",
   "nbconvert_exporter": "python",
   "pygments_lexer": "ipython3",
   "version": "3.8.13"
  }
 },
 "nbformat": 4,
 "nbformat_minor": 5
}
