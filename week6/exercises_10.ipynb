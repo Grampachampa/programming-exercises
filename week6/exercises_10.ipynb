{
 "cells": [
  {
   "cell_type": "markdown",
   "metadata": {},
   "source": [
    "## 1. Vowel/Constant Ratio\n",
    "\n",
    "Thanos said it best, when he said that all things should be perfectly balanced. Now it is you task to find out which words are perfectly balanced, and which are not. \n",
    "\n",
    "You must create two functions: ``count_vowels_consonants()`` and ``vowel_constant_ratio()``.\n",
    "\n",
    "For the sake of simplicity, you only have to account for lowercase input.\n",
    "\n",
    "\n",
    "**Hint:** \n",
    "The only line outside of any functions should be: ``vowel_constant_ratio(count_vowels_consonants, (input(\"Enter a word: \")))``\n",
    "\n",
    "Depending on the vowel/constant ratio, the output should be 1 of 3 possible outcomes: \n",
    "<pre>\n",
    "The word is perfectly balanced, as all things should be.\n",
    "The word is more vowel heavy.\n",
    "The word is more consonant heavy.\n",
    "</pre>\n",
    "\n",
    "**Example:**  \n",
    "*Input:*  \n",
    "```python\n",
    "book\n",
    "```\n",
    "\n",
    "*Output:*  \n",
    "<pre>\n",
    "The word is perfectly balanced, as all things should be.\n",
    "</pre>"
   ]
  },
  {
   "cell_type": "code",
   "execution_count": null,
   "metadata": {},
   "outputs": [],
   "source": []
  },
  {
   "cell_type": "markdown",
   "metadata": {},
   "source": [
    "## 2. Guess the Number\n",
    "\n",
    "You want to play a game, but no one will play with you. So sad :(... Don't worry, you can make your own game!\n",
    "\n",
    "Make a function called ``play_game()``, which requires an integer. This function must generate a random number between 0 and 9. The integer which is specified when calling the function, is the number of lives you get. The game is to guess the randomly generated number, before your lives run out. DO YOU THINK YOU HAVE WHAT IT TAKES??\n",
    "\n",
    "The guesses are prompted with an ``input()`` function, and the user will continuously be prompted to input a new number without having to rerun the code. The game ends when the lives have run out or when the correct number has been guessed\n",
    "\n",
    "**Note:**  \n",
    "To generate a random number, you first have to import the random library with ``import random``. Then you can generate a random number between 0 and 9 with ``random.randint(0,9)``\n",
    "\n",
    "**Example 1:**  \n",
    "*Input:*  \n",
    "```python\n",
    "play_game(3)\n",
    "\n",
    "Guesses:\n",
    "5\n",
    "3\n",
    "1\n",
    "```\n",
    "\n",
    "*Output:*  \n",
    "<pre>\n",
    "Your guess is too high.\n",
    "Your guess is too high.\n",
    "You guessed the right number!\n",
    "</pre>\n",
    "\n",
    "\n",
    "\n",
    "**Example 2:**  \n",
    "*Input:*  \n",
    "```python\n",
    "play_game(3)\n",
    "\n",
    "Guesses:\n",
    "5\n",
    "8\n",
    "7\n",
    "```\n",
    "\n",
    "*Output:*  \n",
    "<pre>\n",
    "Your guess is too low.\n",
    "Your guess is too high.\n",
    "Your guess is too high.\n",
    "You ran out of guesses. The number was 6\n",
    "</pre>"
   ]
  },
  {
   "cell_type": "code",
   "execution_count": null,
   "metadata": {},
   "outputs": [],
   "source": []
  }
 ],
 "metadata": {
  "kernelspec": {
   "display_name": "Python 3.9.6 64-bit",
   "language": "python",
   "name": "python3"
  },
  "language_info": {
   "codemirror_mode": {
    "name": "ipython",
    "version": 3
   },
   "file_extension": ".py",
   "mimetype": "text/x-python",
   "name": "python",
   "nbconvert_exporter": "python",
   "pygments_lexer": "ipython3",
   "version": "3.9.6"
  },
  "orig_nbformat": 4,
  "vscode": {
   "interpreter": {
    "hash": "31f2aee4e71d21fbe5cf8b01ff0e069b9275f58929596ceb00d14d90e3e16cd6"
   }
  }
 },
 "nbformat": 4,
 "nbformat_minor": 2
}
