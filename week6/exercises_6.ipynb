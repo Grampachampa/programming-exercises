{
 "cells": [
  {
   "cell_type": "markdown",
   "metadata": {},
   "source": [
    "## 1. Lists\n",
    "\n",
    "Read from input a list of integers. Compute a list where the first element is the sum of all elements in the input list, the second element is the sum of all elements in the list where the first element has been computed, the third element is the sum of all elements in the list after the first two elements have been computed and so on for all elements in the list. Print the computed list.\n",
    "\n",
    "Example: \n",
    "input_list = [1,2,3,4,5]\n",
    "should output: [15,29,56,109,214]"
   ]
  },
  {
   "cell_type": "code",
   "execution_count": null,
   "metadata": {},
   "outputs": [],
   "source": [
    "from typing import List\n"
   ]
  },
  {
   "cell_type": "markdown",
   "metadata": {},
   "source": [
    "## 2. Dictionaries\n",
    "\n",
    "For a given dictionary mapping countries to lists of cities create a dictionary mapping cities to countries. Compute for an example of your own choice and print your result.\n",
    "\n",
    "Example:\n",
    "countries_cities = {\"Netherlands\":[\"Amsterdam\",\"Rotterdam\",\"Utrecht\"], \"Germany\":[\"Berlin\",\"Cologne\",\"Munchen\"]}\n",
    "should output: {\"Amsterdam\":\"Netherlands\", \"Rotterdam\":\"Netherlands\", \"Utrecht\":\"Netherlands\", \"Berlin\":\"Germany\", \"Cologne\":\"Germany\",     \n",
    "                \"Munchen\":\"Germany\"}"
   ]
  },
  {
   "cell_type": "code",
   "execution_count": 1,
   "metadata": {},
   "outputs": [],
   "source": [
    "from typing import Dict\n"
   ]
  },
  {
   "cell_type": "code",
   "execution_count": null,
   "metadata": {},
   "outputs": [],
   "source": []
  }
 ],
 "metadata": {
  "kernelspec": {
   "display_name": "Python 3.9.6 64-bit",
   "language": "python",
   "name": "python3"
  },
  "language_info": {
   "codemirror_mode": {
    "name": "ipython",
    "version": 3
   },
   "file_extension": ".py",
   "mimetype": "text/x-python",
   "name": "python",
   "nbconvert_exporter": "python",
   "pygments_lexer": "ipython3",
   "version": "3.9.6"
  },
  "orig_nbformat": 4,
  "vscode": {
   "interpreter": {
    "hash": "31f2aee4e71d21fbe5cf8b01ff0e069b9275f58929596ceb00d14d90e3e16cd6"
   }
  }
 },
 "nbformat": 4,
 "nbformat_minor": 2
}
