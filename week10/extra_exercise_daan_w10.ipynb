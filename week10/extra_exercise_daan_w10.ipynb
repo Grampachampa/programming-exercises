{
 "cells": [
  {
   "cell_type": "markdown",
   "id": "7f754285",
   "metadata": {},
   "source": [
    "# Supplementary Exercises Week 10 - Daan van Duin"
   ]
  },
  {
   "attachments": {},
   "cell_type": "markdown",
   "id": "4e3df61e",
   "metadata": {},
   "source": [
    "## Animal Dictionary\n",
    "\n",
    "Given is a class named Animal, which stores a name as a string, and two booleans indicating if the animal lays eggs and has gills. Write a Python function named animal_dictionary, which takes as parameter a list of objects in the Animal class, and returns a dictionary. This dictionary should have as keys the names of the animals in the list, with as value the name of the family this animal belongs to as a string.\n",
    "\n",
    "**Notes:**\n",
    "For the sake of this exercise we can use the following families:\n",
    "- If the animal does not lay eggs, it belongs to the family \"Mammal\"\n",
    "- If the animal lays eggs, but does not have gills, it belongs to the family \"Bird\"\n",
    "- If the animal lays eggs and has gills, it belongs to the family \"Fish\"\n",
    "\n",
    "In case the list has repeats, the value in the resulting dictionary should correspond to the last entry of the list\n",
    "\n",
    "Your function should not only work for the specific input provided here, but for other lists as well. Make sure to do some testing!\n",
    "\n",
    "**Example:**  \n",
    "*Given:*\n",
    "<pre>\n",
    "animal_1 = Animal(name=\"Zebra\", lays_eggs=False, has_gills=False)\n",
    "animal_2 = Animal(name=\"Eagle\", lays_eggs=True, has_gills=True)\n",
    "animal_3 = Animal(name=\"Guppy\", lays_eggs=True, has_gills=True)\n",
    "my_animals = [animal_1, animal_2, animal_3]\n",
    "</pre>\n",
    "\n",
    "*Input:*  \n",
    "<pre>\n",
    "animal_dictionary(my_animals)\n",
    "</pre>\n",
    "\n",
    "*Output:*  \n",
    "<pre>\n",
    "{'Zebra': 'Mammal', 'Eagle': 'Fish', 'Guppy': 'Fish'}\n",
    "</pre>"
   ]
  },
  {
   "cell_type": "code",
   "execution_count": 8,
   "metadata": {},
   "outputs": [
    {
     "data": {
      "text/plain": [
       "{'Zebra': 'Mammal', 'Eagle': 'Bird', 'Guppy': 'Fish'}"
      ]
     },
     "execution_count": 8,
     "metadata": {},
     "output_type": "execute_result"
    }
   ],
   "source": [
    "# Optional definitions\n",
    "from typing import List, Dict\n",
    "\n",
    "class Animal:\n",
    "    def __init__(self, name, lays_eggs, has_gills):\n",
    "        self.name = name\n",
    "        self.lays_eggs = lays_eggs\n",
    "        self.has_gills = has_gills\n",
    "\n",
    "animal_1 = Animal(name=\"Zebra\", lays_eggs=False, has_gills=False)\n",
    "animal_2 = Animal(name=\"Eagle\", lays_eggs=True, has_gills=False)\n",
    "animal_3 = Animal(name=\"Guppy\", lays_eggs=True, has_gills=True)\n",
    "my_animals = [animal_1, animal_2, animal_3]\n",
    "\n",
    "#// BEGIN_TODO\n",
    "def animal_dictionary(animals : List[Animal]) -> Dict[str, str]:\n",
    "    \"\"\"Pairs every animal in the list to a family name.\"\"\"\n",
    "\n",
    "    result = dict()\n",
    "    \n",
    "    for animal in animals:\n",
    "        if (not animal.lays_eggs):\n",
    "            result[animal.name] = \"Mammal\"\n",
    "        elif (animal.has_gills):\n",
    "            result[animal.name] = \"Fish\"\n",
    "        else:\n",
    "            result[animal.name] = \"Bird\"\n",
    "\n",
    "    return result\n",
    "            \n",
    "animal_dictionary(my_animals)\n",
    "#// END_TODO"
   ]
  }
 ],
 "metadata": {
  "kernelspec": {
   "display_name": "Python 3.9.4 64-bit",
   "language": "python",
   "name": "python3"
  },
  "language_info": {
   "codemirror_mode": {
    "name": "ipython",
    "version": 3
   },
   "file_extension": ".py",
   "mimetype": "text/x-python",
   "name": "python",
   "nbconvert_exporter": "python",
   "pygments_lexer": "ipython3",
   "version": "3.9.4"
  },
  "orig_nbformat": 4,
  "vscode": {
   "interpreter": {
    "hash": "20c476fdfd09ca42942468b8f270b00d3fc84a5477f26df9e13fa945900e8ea6"
   }
  }
 },
 "nbformat": 4,
 "nbformat_minor": 2
}
