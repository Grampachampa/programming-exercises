{
 "cells": [
  {
   "cell_type": "markdown",
   "id": "7f754285",
   "metadata": {},
   "source": [
    "# Supplementary Exercises Week 10 - Matilda"
   ]
  },
  {
   "cell_type": "markdown",
   "id": "4e3df61e",
   "metadata": {},
   "source": [
    "## Working with classes.\n",
    "\n",
    "In this exercise, you should create a Student class that keeps track of the personal information and grades of students. The class takes the argumensts name (string; name of the student), age (integer; age of the student), grades (list; has all the grades of the student) and graduate (bool; shows whether the student can graduate or not). Use the init function to define these variables for the class.\n",
    "\n",
    "To keep track of the students performance, create 2 functions in the class, add_grade, and graduate.\n",
    "\n",
    "- The add_grade function takes a new grade (as float) as a keyword argument. The function appends that grade to the grades list of the class. \n",
    "\n",
    "- The second function check_graduate does not take any keyword arguments and has no return statement. It checks whether the student has at least 15 grades and an average of 5.5 or above. If these conditions are met the student can graduate and therefore the graduated bool is set to true. Then, the graduated bool is printed out.\n",
    "\n",
    "Create a student with the name Tim who is 20 years old. He has no grades yet and is not ready to graduate. Add the grade of his first exam, which was a 6.0, to the grades list and check whether he has graduated. \n",
    "\n",
    "\n",
    "**Example:**  \n",
    "\n",
    "<pre>\n",
    "example_student = Student(name=\"Tim\", age=20, grades=[], graduate=False)\n",
    "\n",
    "</pre>\n",
    "*Input:*  \n",
    "\n",
    "<pre>\n",
    "Tim = Student(name=\"Tim\", age=20, grades=[], graduate=False) \n",
    "\n",
    "</pre>\n",
    "\n",
    "*Output:*  \n",
    "<pre>\n",
    "False\n",
    "</pre>"
   ]
  },
  {
   "cell_type": "code",
   "execution_count": 1,
   "id": "e889dc27",
   "metadata": {},
   "outputs": [],
   "source": [
    "#optional definitions\n",
    "\n",
    "#// BEGIN_TODO\n",
    "\n",
    "class Student:\n",
    "\n",
    "    def __init__(self, name:str, age: int, grades: list, graduate = False) -> None:\n",
    "        self.name = name\n",
    "        self.age = age\n",
    "        self.grades = grades\n",
    "        self.graduate = graduate\n",
    "\n",
    "\n",
    "    # optional => was not described in the exercise but a nice addition to keep track of the variables\n",
    "    def overview(self) -> None:\n",
    "        \"\"\"\n",
    "        prints out all init items\n",
    "        \"\"\"\n",
    "        print(f\"name: {self.name}\")\n",
    "        print(f\"age: {self.age}\")\n",
    "        print(f\"grades: {self.grades}\")\n",
    "        print(f\"graduate: {self.graduate}\")\n",
    "\n",
    "\n",
    "    def add_grade(self, grade: float) -> None:\n",
    "        \"\"\"\n",
    "        adds a grade to the list of grades. checks if graudated.\n",
    "\n",
    "        :param grade: grade to add\n",
    "        \"\"\"\n",
    "        self.grades.append(grade)\n",
    "\n",
    "    \n",
    "    def check_graduate(self) -> None:\n",
    "        \"\"\"\n",
    "        Checks if student has enough grades and\n",
    "        a high enough average to graduate. If it is sufficient\n",
    "        the student is ready to graduate. \n",
    "        Prints out the graduate bool.\n",
    "        \"\"\"\n",
    "        if len(self.grades) >= 15 and np.mean(self.grades) >= 5.5:\n",
    "            self.graduate = True\n",
    "        print(self.graduate)\n",
    "        \n",
    "\n",
    "\n",
    "#// END_TODO"
   ]
  },
  {
   "cell_type": "code",
   "execution_count": 2,
   "id": "639916d0",
   "metadata": {},
   "outputs": [
    {
     "name": "stdout",
     "output_type": "stream",
     "text": [
      "False\n"
     ]
    }
   ],
   "source": [
    "Tim = Student(name=\"Tim\", age=20, grades=[], graduate=False) \n",
    "Tim.add_grade(6.0)\n",
    "Tim.check_graduate()"
   ]
  }
 ],
 "metadata": {
  "kernelspec": {
   "display_name": "Python 3.10.4 ('advancedMachineLearning')",
   "language": "python",
   "name": "python3"
  },
  "language_info": {
   "codemirror_mode": {
    "name": "ipython",
    "version": 3
   },
   "file_extension": ".py",
   "mimetype": "text/x-python",
   "name": "python",
   "nbconvert_exporter": "python",
   "pygments_lexer": "ipython3",
   "version": "3.10.4"
  },
  "vscode": {
   "interpreter": {
    "hash": "4ade60115be3a8bfc00bc5d4fae59dc65a0c94a4e25c5763a7dd66cbb726b48f"
   }
  }
 },
 "nbformat": 4,
 "nbformat_minor": 5
}
