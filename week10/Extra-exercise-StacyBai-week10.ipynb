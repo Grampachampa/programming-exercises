{
 "cells": [
  {
   "cell_type": "markdown",
   "id": "7f754285",
   "metadata": {},
   "source": [
    "# Supplementary Exercises Week 10 - Stacy Bai"
   ]
  },
  {
   "attachments": {},
   "cell_type": "markdown",
   "id": "4e3df61e",
   "metadata": {},
   "source": [
    "## Create a dictionary to find divisors for input\n",
    "Write a program in Python that asks the user to enter ten integers of their choice and return them a dictionary whose keys are the integers entered and whose values ​​are the lists of divisors of the numbers entered. \n",
    "\n",
    "**Example:**  \n",
    "\n",
    "*Input:*  \n",
    "\n",
    "<pre>\n",
    "Example if the user enters the numbers: 2, 7, 11, 5, 3, 19, 14, 9, 1, 4\n",
    "\n",
    "\n",
    "</pre>\n",
    "\n",
    "*Output:*  \n",
    "<pre>\n",
    "The program returns the dictionary:\n",
    "\n",
    "d = {2: [1,2], 7: [1,7], 14: [1,2,7,14],\n",
    "     9: [1,3,9], 11: [1,11], 5: [1,5],\n",
    "     3: [1,3], 19: [1,19], 1: [1], 4: [1,2,4]}\n",
    "</pre>"
   ]
  },
  {
   "cell_type": "code",
   "execution_count": 1,
   "id": "9d24a678",
   "metadata": {},
   "outputs": [],
   "source": [
    "from typing import List"
   ]
  },
  {
   "cell_type": "code",
   "execution_count": 5,
   "id": "e889dc27",
   "metadata": {},
   "outputs": [],
   "source": [
    "# create a function that find the list of divisor for given integer\n",
    "def listDivisors(n : int) -> List:\n",
    "    \"\"\"\n",
    "    This function used for find the list of divisor for given integer\n",
    "    input n, the given interger\n",
    "    output ListDiv, an list contains all divisors for n\n",
    "    \"\"\"\n",
    "    # Initializing th list of divisors \n",
    "    listDiv =[]\n",
    "    # browsing through all integers from 1 to n \n",
    "    # and then we tst if i is a divisor of n\n",
    "    for i in range(1,n+1):\n",
    "        if n%i == 0:\n",
    "            listDiv.append(i)\n",
    "    return listDiv\n",
    "  \n",
    "# create an empty dictionary which will receive the values of typed integers\n",
    "d = dict({})\n",
    "for i in range(1 , 11):\n",
    "    # asking user to enter value of intger n\n",
    "    n = int(input(\"Enter value of integer n : \" ))\n",
    "    \n",
    "    # adding n and list of divisors of n t the dictionary d\n",
    "    d[n] = listDivisors(n)\n",
    "\n",
    "# display generated dictionar d\n",
    "print(\"The dictionary is : d = \", d)"
   ]
  },
  {
   "cell_type": "code",
   "execution_count": null,
   "id": "6f778ab4",
   "metadata": {},
   "outputs": [],
   "source": [
    "1\n"
   ]
  }
 ],
 "metadata": {
  "kernelspec": {
   "display_name": "Python 3.9.12 ('base')",
   "language": "python",
   "name": "python3"
  },
  "language_info": {
   "codemirror_mode": {
    "name": "ipython",
    "version": 3
   },
   "file_extension": ".py",
   "mimetype": "text/x-python",
   "name": "python",
   "nbconvert_exporter": "python",
   "pygments_lexer": "ipython3",
   "version": "3.9.12"
  },
  "vscode": {
   "interpreter": {
    "hash": "4e2bcfb31e97470a0ba1fa5db201ea84bd5379ac2b4dcffadfe95cab526b3979"
   }
  }
 },
 "nbformat": 4,
 "nbformat_minor": 5
}
