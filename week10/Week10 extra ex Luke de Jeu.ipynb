{
 "cells": [
  {
   "cell_type": "markdown",
   "id": "7f754285",
   "metadata": {},
   "source": [
    "# Supplementary Exercises Week 10 - Luke de Jeu"
   ]
  },
  {
   "cell_type": "markdown",
   "id": "4e3df61e",
   "metadata": {},
   "source": [
    "## Filtering Hospital Patients.\n",
    "\n",
    "For this exercise you are tasked to find all the patients who fit a few criteria, and output these patients in a readable way. The hospital keeps records of its patients. The records are stored in a dictionary which is given in the first code cell. You must create a function ``find_patients()`` that takes a dictionary, illness and maximum age as input, and returns a list of applicable patients. You must then use this function in the ``print_illness()`` function, which also takes a dictionary, illness and maximum age as input (to pass on to ``find_patients()``), and prints the patients in a readable way. \n",
    "\n",
    "**Example 1:**  \n",
    "\n",
    "*Input:*  \n",
    "<pre>\n",
    "print_illness(medical_records, \"Common Cold\", 40)\n",
    "</pre>\n",
    "\n",
    "*Output:*  \n",
    "<pre>\n",
    "The following patients have Common Cold and are younger than 40: Marina, Boris.\n",
    "</pre>\n",
    "\n",
    "**Example 2:**  \n",
    "*Input:*  \n",
    "<pre>\n",
    "print_illness(medical_records, \"Common Cold\", 40)\n",
    "</pre>\n",
    "\n",
    "*Output:*  \n",
    "<pre>\n",
    "The following patients have Common Cold and are younger than 40: Marina, Boris.\n",
    "</pre>\n",
    "\n",
    "**Example 3:**  \n",
    "*Input:*  \n",
    "<pre>\n",
    "print_illness(medical_records, \"Infection\", 50)\n",
    "</pre>\n",
    "\n",
    "*Output:*  \n",
    "<pre>\n",
    "No patients meet the criteria\n",
    "</pre>"
   ]
  },
  {
   "cell_type": "code",
   "execution_count": 2,
   "id": "33a2991f",
   "metadata": {},
   "outputs": [],
   "source": [
    "medical_records = {\n",
    "    \"id_1\": {\n",
    "        \"Name\": \"Marina\",\n",
    "        \"Age\": 25,\n",
    "        \"Illnesses\": [\"Common Cold\", \"Asthma\"]\n",
    "    },\n",
    "    \"id_2\": {\n",
    "        \"Name\": \"Boris\",\n",
    "        \"Age\": 35,\n",
    "        \"Illnesses\": [\"Common Cold\", \"Asthma\"]\n",
    "    },\n",
    "    \"id_3\": {\n",
    "        \"Name\": \"Lana\",\n",
    "        \"Age\": 45,\n",
    "        \"Illnesses\": [\"Covid\", \"Asthma\"]\n",
    "    },\n",
    "    \"id_4\": {\n",
    "        \"Name\": \"Ivan\",\n",
    "        \"Age\": 55,\n",
    "        \"Illnesses\": [\"Common Cold\", \"Infection\"]\n",
    "    }\n",
    "}"
   ]
  },
  {
   "cell_type": "code",
   "execution_count": 23,
   "id": "e889dc27",
   "metadata": {},
   "outputs": [
    {
     "name": "stdout",
     "output_type": "stream",
     "text": [
      "The following patients have Common Cold and are younger than 40: Marina, Boris."
     ]
    }
   ],
   "source": [
    "#// BEGIN_TODO\n",
    "\n",
    "def find_patients(records: dict, illness: str, max_age: int) -> list:\n",
    "    \"\"\"Checks medical records for a specific illness with a maximum age\"\"\"\n",
    "    #create a list to store the names of the patients\n",
    "    patients = []\n",
    "    #loop through the records\n",
    "    for id in records:\n",
    "        #check if the illness is in the list of illnesses\n",
    "        if illness in records[id]['Illnesses']:\n",
    "            #check if the age is lower than the max age\n",
    "            if records[id]['Age'] < max_age:\n",
    "                #add the name to the list\n",
    "                patients.append(records[id]['Name'])\n",
    "    #return the list\n",
    "    return patients\n",
    "\n",
    "\n",
    "def print_illness(records: dict, illness: str, max_age: int) -> None:\n",
    "    \"\"\"Prints a message with the names of the patients\"\"\"\n",
    "    #get the list of patients\n",
    "    patients = find_patients(records, illness, max_age)\n",
    "    #check if the list is empty\n",
    "    if len(patients) == 0:\n",
    "        #print a message\n",
    "        print(\"No patients meet the criteria\")\n",
    "    else:\n",
    "        #print a message with the names of the patients\n",
    "        print(\"The following patients have \" + illness + \" and are younger than \" + str(max_age) + \": \" + ', '.join(patients), end=\".\")\n",
    "\n",
    "\n",
    "print_illness(medical_records, \"Common Cold\", 40)\n",
    "\n",
    "#// END_TODO"
   ]
  }
 ],
 "metadata": {
  "kernelspec": {
   "display_name": "Python 3.8.13 ('Old')",
   "language": "python",
   "name": "python3"
  },
  "language_info": {
   "codemirror_mode": {
    "name": "ipython",
    "version": 3
   },
   "file_extension": ".py",
   "mimetype": "text/x-python",
   "name": "python",
   "nbconvert_exporter": "python",
   "pygments_lexer": "ipython3",
   "version": "3.8.13"
  },
  "vscode": {
   "interpreter": {
    "hash": "b6f266810c103c6655344102d58e74291fb6a65df12de9599700a5dbb07373ea"
   }
  }
 },
 "nbformat": 4,
 "nbformat_minor": 5
}
