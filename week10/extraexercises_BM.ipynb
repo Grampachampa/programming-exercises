{
 "cells": [
  {
   "cell_type": "markdown",
   "id": "4c7707b8",
   "metadata": {},
   "source": [
    "## Extra exercises Week 10"
   ]
  },
  {
   "cell_type": "markdown",
   "id": "1138047f",
   "metadata": {},
   "source": [
    "Write a function `remove_submissions(d)` that calculates the average grade for each student.\n",
    "\n",
    "If the average grade is >= 5.5 and the number of submissions (n of grades) is at least 4 add a key `avg` and the corresponding value to the dictionary and print \"Student `name last name` passed the class with grade `avg`\"\n",
    "\n",
    "Otherwise remove the student from the dictionary and print \"Student `name last name` failed the class and will be removed from the dictionary\"\n",
    "\n",
    "The function should return the updated dictionary.\n",
    "\n",
    "Hint: you can use a variable `indexes` to store the keys that will then need to be removed from the dictionary."
   ]
  },
  {
   "cell_type": "markdown",
   "id": "9877ab8f",
   "metadata": {},
   "source": [
    "Input:\n",
    "\n",
    "    d = {1: {'name': 'Mike', 'last name': 'Smith', 'grades': [3, 5, 7]},\n",
    "         2: {'name': 'Paul', 'last name': 'Finn', 'grades': [9, 9, 8, 7, 5]},\n",
    "         3: {'name': 'Anna', 'last name': 'Bell', 'grades': [8, 5, 7, 7, 2]},\n",
    "         4: {'name': 'Adrian', 'last name': 'Monk', 'grades': [10, 9, 7, 8]},\n",
    "         5: {'name': 'Susy', 'last name': 'Black', 'grades': [2, 3, 5, 7, 4]},\n",
    "         6: {'name': 'El', 'last name': 'Sanchez', 'grades': [2, 3, 10]}}\n",
    "     \n",
    "     \n",
    "Output:\n",
    "\n",
    "    Student Mike Smith failed the class and will be removed from the dictionary\n",
    "    Student Paul Finn passed the class with grade 7.6\n",
    "    Student Anna Bell passed the class with grade 5.8\n",
    "    Student Adrian Monk passed the class with grade 8.5\n",
    "    Student Susy Black failed the class and will be removed from the dictionary\n",
    "    Student El Sanchez failed the class and will be removed from the dictionary\n",
    "   \n",
    "    {2: {'name': 'Paul','last name': 'Finn','grades': [9, 9, 8, 7, 5],'avg': 7.6},\n",
    "     3: {'name': 'Anna','last name': 'Bell','grades': [8, 5, 7, 7, 2],'avg': 5.8},\n",
    "     4: {'name': 'Adrian','last name': 'Monk','grades': [10, 9, 7, 8],'avg': 8.5}}"
   ]
  },
  {
   "cell_type": "code",
   "execution_count": 95,
   "id": "8980b2e9",
   "metadata": {},
   "outputs": [],
   "source": [
    "def remove_submission(d):\n",
    "    \n",
    "    index = []\n",
    "    \n",
    "    for student in d.keys():\n",
    "        \n",
    "        avg = sum(d[student]['grades'])/len(d[student]['grades'])\n",
    "        \n",
    "        if len(d[student]['grades']) >= 4 and avg >= 5.5: \n",
    "            d[student]['avg'] = avg\n",
    "            print('Student', d[student]['name'], d[student]['last name'], 'passed the class with grade', avg)\n",
    "        \n",
    "        else:\n",
    "            print('Student', d[student]['name'], d[student]['last name'], 'failed the class and will be removed from the dictionary')\n",
    "            index.append(student)\n",
    "        \n",
    "    for i in index:\n",
    "        del d[i]\n",
    "  \n",
    "\n",
    "      \n",
    "    return d\n",
    "    "
   ]
  },
  {
   "cell_type": "code",
   "execution_count": 96,
   "id": "3c55e56a",
   "metadata": {},
   "outputs": [
    {
     "name": "stdout",
     "output_type": "stream",
     "text": [
      "Student Paul Finn passed the class with grade 7.6\n",
      "Student Anna Bell passed the class with grade 5.8\n",
      "Student Adrian Monk passed the class with grade 8.5\n"
     ]
    },
    {
     "data": {
      "text/plain": [
       "{2: {'name': 'Paul',\n",
       "  'last name': 'Finn',\n",
       "  'grades': [9, 9, 8, 7, 5],\n",
       "  'avg': 7.6},\n",
       " 3: {'name': 'Anna',\n",
       "  'last name': 'Bell',\n",
       "  'grades': [8, 5, 7, 7, 2],\n",
       "  'avg': 5.8},\n",
       " 4: {'name': 'Adrian',\n",
       "  'last name': 'Monk',\n",
       "  'grades': [10, 9, 7, 8],\n",
       "  'avg': 8.5}}"
      ]
     },
     "execution_count": 96,
     "metadata": {},
     "output_type": "execute_result"
    }
   ],
   "source": [
    "remove_submission(d)"
   ]
  }
 ],
 "metadata": {
  "kernelspec": {
   "display_name": "Python 3 (ipykernel)",
   "language": "python",
   "name": "python3"
  },
  "language_info": {
   "codemirror_mode": {
    "name": "ipython",
    "version": 3
   },
   "file_extension": ".py",
   "mimetype": "text/x-python",
   "name": "python",
   "nbconvert_exporter": "python",
   "pygments_lexer": "ipython3",
   "version": "3.9.4"
  }
 },
 "nbformat": 4,
 "nbformat_minor": 5
}
