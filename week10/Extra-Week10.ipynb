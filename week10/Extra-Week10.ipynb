{
 "cells": [
  {
   "cell_type": "markdown",
   "id": "d8ace043",
   "metadata": {},
   "source": [
    "Supplementary Exercises Week 10 - Ariana\n",
    "\n",
    "Create a function called and_merge, that takes two lists that can be assumed to be sorted already, and it should return the result of the merging of the two lists with AND. The resulting list should therefore include all the elements that appear in both lists. The important part is that this operation should take advantage of the input lists being sorted already, should not perform any additional sorting operation, and should go through each of the input lists just once. Then, test your function with an example. Consider that both lists could have different lenghts.\n",
    "Input: \n",
    "    [0,1,3,4,6,7,9, 15] and [4,5,7,9,12,11, 15, 35]\n",
    "Output:\n",
    "    [4, 7, 9, 15]"
   ]
  },
  {
   "cell_type": "code",
   "execution_count": 3,
   "id": "210b8242",
   "metadata": {},
   "outputs": [
    {
     "name": "stdout",
     "output_type": "stream",
     "text": [
      "[4, 7, 9, 15]\n"
     ]
    }
   ],
   "source": [
    "def and_merge(index_1, index_2):\n",
    "    merged_index = []\n",
    "    len1 = len(index_1) \n",
    "    len2 =len(index_2) \n",
    "    i1 = 0\n",
    "    i2 = 0\n",
    "    while 1:\n",
    "        if(i1 == len1) | (i2 ==len2):\n",
    "            break\n",
    "        if index_1[i1] == index_2[i2]:\n",
    "            merged_index.append(index_1[i1])\n",
    "            i1 += 1\n",
    "            i2 += 1\n",
    "        else:\n",
    "            if index_1[i1] < index_2[i2]:\n",
    "                  i1 += 1\n",
    "            else:\n",
    "                 i2 += 1               \n",
    "    return merged_index\n",
    "print(and_merge([0,1,3,4,6,7,9, 15], [4,5,7,9,12,11, 15, 35]))"
   ]
  }
 ],
 "metadata": {
  "kernelspec": {
   "display_name": "Python 3 (ipykernel)",
   "language": "python",
   "name": "python3"
  },
  "language_info": {
   "codemirror_mode": {
    "name": "ipython",
    "version": 3
   },
   "file_extension": ".py",
   "mimetype": "text/x-python",
   "name": "python",
   "nbconvert_exporter": "python",
   "pygments_lexer": "ipython3",
   "version": "3.9.12"
  }
 },
 "nbformat": 4,
 "nbformat_minor": 5
}
