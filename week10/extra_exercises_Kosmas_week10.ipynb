{
 "cells": [
  {
   "cell_type": "markdown",
   "id": "7f754285",
   "metadata": {},
   "source": [
    "# Supplementary Exercises Week 10 - Kosmas Galanis"
   ]
  },
  {
   "attachments": {},
   "cell_type": "markdown",
   "id": "4e3df61e",
   "metadata": {},
   "source": [
    "## Create a dictionary by extracting the keys from a given dictionary.\n",
    "\n",
    "Write a Python program to create a new dictionary by extracting the mentioned keys from the given dictionary:\n",
    "* Make a new dictionary called: `string_dict`, which should only contain the keys of `example_dict` whose value type is a string.\n",
    "* Open a file `output.csv` in your current directory and print out the contents of your new dictionary in csv format.\n",
    "* Each key-value pair should be in a different row of the file. Each key and value separated by a comma.\n",
    "\n",
    "**Notes:**\n",
    "You can use DictWrite optionally to complete this task.\n",
    "https://docs.python.org/3/library/csv.html#csv.DictWriter\n",
    "\n",
    "**Example:**  \n",
    "*Given:*\n",
    "<pre>\n",
    "\n",
    "example_dict = {\n",
    "    \"name: \"Kosmas\",\n",
    "    \"grades\": [7, 6, 7, 8],\n",
    "    \"age\": 102,\n",
    "    \"blood_type\": \"O\"}\n",
    "\n",
    "</pre>\n",
    "*Input:*  \n",
    "\n",
    "<pre>\n",
    "example_dict\n",
    "\n",
    "</pre>\n",
    "\n",
    "*Output:*  \n",
    "<pre>\n",
    "{'name': 'Kosmas', 'blood_type': 'O'}\n",
    "\n",
    "File:\n",
    "    name,Kosmas\n",
    "    blood_type,O\n",
    "\n",
    "</pre>"
   ]
  },
  {
   "cell_type": "code",
   "execution_count": 13,
   "id": "e889dc27",
   "metadata": {},
   "outputs": [
    {
     "name": "stdout",
     "output_type": "stream",
     "text": [
      "{'name': 'Kosmas', 'blood_type': 'O'}\n"
     ]
    }
   ],
   "source": [
    "# Optional definitions\n",
    "example_dict = {\n",
    "    \"name\": \"Kosmas\",\n",
    "    \"grades\": [7, 6, 7, 8],\n",
    "    \"age\": 102,\n",
    "    \"blood_type\": \"O\"}\n",
    "\n",
    "#// BEGIN_TODO\n",
    "string_dict = dict()\n",
    "\n",
    "for item in example_dict.items():\n",
    "    if type(item[-1]) == str:\n",
    "        string_dict[item[0]] = item[-1]\n",
    "\n",
    "print(string_dict)\n",
    "        \n",
    "with open('output.csv', 'w') as f:\n",
    "    [f.write('{0},{1}\\n'.format(key, value)) for key, value in string_dict.items()]\n",
    "#// END_TODO"
   ]
  }
 ],
 "metadata": {
  "kernelspec": {
   "display_name": "Python 3 (ipykernel)",
   "language": "python",
   "name": "python3"
  },
  "language_info": {
   "codemirror_mode": {
    "name": "ipython",
    "version": 3
   },
   "file_extension": ".py",
   "mimetype": "text/x-python",
   "name": "python",
   "nbconvert_exporter": "python",
   "pygments_lexer": "ipython3",
   "version": "3.9.7"
  }
 },
 "nbformat": 4,
 "nbformat_minor": 5
}
