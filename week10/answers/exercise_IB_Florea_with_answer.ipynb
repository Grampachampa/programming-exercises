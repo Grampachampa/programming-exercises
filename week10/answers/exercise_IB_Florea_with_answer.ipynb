{
 "cells": [
  {
   "cell_type": "markdown",
   "metadata": {},
   "source": [
    "Exercise (Classes, Dictionaries)\n",
    "\n",
    "Create a class named Student. Define the attributes id, name, courses_final_grades. id is a unique student number, name should be the name of the student and courses_final_grades a dictionary where the keys are the courses taken by the student and the values are the final grades. Create a list of three instances of the class Student where each student takes the same three courses. Find the course for which the average of all student grades for that course is the highest.\n",
    "\n",
    "Example:\n",
    "\n",
    "student1 = Student(id = 1, name = \"John One\", courses_final_grades = {'Math': 10, \"Language\": 10, \"Painting\": 10})\n",
    "\n",
    "student2 = Student(id = 2, name = \"John Two\", courses_final_grades = {'Math': 10, \"Language\": 9, \"Painting\": 1})\n",
    "\n",
    "student3 = Student(id = 3, name = \"John Three\", courses_final_grades = {'Math': 9, \"Language\": 1, \"Painting\": 10})\n",
    "\n",
    "Should output:\n",
    "\n",
    "The course with the highest average grade is Painting and the highest average grade is 7.0."
   ]
  },
  {
   "cell_type": "code",
   "execution_count": 2,
   "metadata": {},
   "outputs": [
    {
     "name": "stdout",
     "output_type": "stream",
     "text": [
      "The course with the highest average grade is Painting and the highest average grade is 7.0.\n"
     ]
    }
   ],
   "source": [
    "class Student:\n",
    "    \"\"\"\n",
    "    Stores data about a student.\n",
    "    :param id: a unique id of type int\n",
    "    :param name: a string with the name of a student\n",
    "    :param courses_final_grades: a dictionary with course name - grade pairs\n",
    "    \"\"\"\n",
    "    def __init__(self, id: int, name: str, courses_final_grades: dict[str, int]) -> None:\n",
    "        \"\"\"\n",
    "        constructor for the class Student\n",
    "        :param id: a unique id of type int\n",
    "        :param name: a string with the name of a student\n",
    "        :param courses_final_grades: a dictionary with string course name - int grade pairs\n",
    "        \"\"\"\n",
    "        self.id = id\n",
    "        self.name = name\n",
    "        self.courses_final_grades = courses_final_grades\n",
    "\n",
    "student1: Student = Student(id = 1, name = \"John One\", courses_final_grades = {'Math': 10, \"Language\": 10, \"Painting\": 10})\n",
    "student2: Student = Student(id = 2, name = \"John Two\", courses_final_grades = {'Math': 10, \"Language\": 9, \"Painting\": 1})\n",
    "student3: Student = Student(id = 3, name = \"John Three\", courses_final_grades = {'Math': 9, \"Language\": 1, \"Painting\": 10})\n",
    "\n",
    "student_list: list[Student] = [student1, student2, student3]\n",
    "\n",
    "sum_grades_dict: dict[str, float] = dict()\n",
    "\n",
    "for student in student_list:\n",
    "    for course in student.courses_final_grades:\n",
    "        if course in sum_grades_dict:\n",
    "            sum_grades_dict[course] += student.courses_final_grades[course]\n",
    "        else:\n",
    "            sum_grades_dict[course] = student.courses_final_grades[course]\n",
    "\n",
    "course_with_highest_grade: str = \"\"\n",
    "highest_average_grade: float = -1.0\n",
    "\n",
    "for course in sum_grades_dict:\n",
    "    if sum_grades_dict[course] > highest_average_grade:\n",
    "        course_with_highest_grade = course\n",
    "        highest__average_grade = sum_grades_dict[course] / 3\n",
    "\n",
    "print(\"The course with the highest average grade is {} and the highest \\\n",
    "average grade is {}.\".format(course_with_highest_grade, highest__average_grade))"
   ]
  }
 ],
 "metadata": {
  "kernelspec": {
   "display_name": "Python 3.10.5 64-bit",
   "language": "python",
   "name": "python3"
  },
  "language_info": {
   "codemirror_mode": {
    "name": "ipython",
    "version": 3
   },
   "file_extension": ".py",
   "mimetype": "text/x-python",
   "name": "python",
   "nbconvert_exporter": "python",
   "pygments_lexer": "ipython3",
   "version": "3.10.5"
  },
  "orig_nbformat": 4,
  "vscode": {
   "interpreter": {
    "hash": "aee8b7b246df8f9039afb4144a1f6fd8d2ca17a180786b69acc140d282b71a49"
   }
  }
 },
 "nbformat": 4,
 "nbformat_minor": 2
}
