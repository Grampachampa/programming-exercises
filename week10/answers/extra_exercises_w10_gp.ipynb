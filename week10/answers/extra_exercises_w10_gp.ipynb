{
 "cells": [
  {
   "cell_type": "markdown",
   "id": "7f754285",
   "metadata": {},
   "source": [
    "# Supplementary Exercises Week 10 - Gergo Pandurcsek"
   ]
  },
  {
   "cell_type": "markdown",
   "id": "4e3df61e",
   "metadata": {},
   "source": [
    "## Sorting and parsing through a random list.\n",
    "\n",
    "We have a list of randomized elements with various datatypes, your task is to create a list of dictionaries, with keys as the datatypes that appear in the original list and values as dictionaries where the keys are the number of elements of that datatype and the value is a list of the original elements with that datatype. Print out the resulting final list. \n",
    "A visualized example : [{datatype : {length of values : list of values}}].\n",
    "\n",
    "\n",
    "**Notes:**\n",
    "To easily get the name of the datatype of an element, use: <pre> type(element).\\__name_\\_ </pre>\n",
    "\n",
    "**Example:**  \n",
    "*Given:*\n",
    "<pre>\n",
    "elements = [False, 23, 68, 74, 'paste', 'last', 'torpid', False, 61, True, 76, True, 16, 89, 'flash', 97, 'vengeful', 'eye', 'parched', False, 'earthy', 'colour', 'produce', True, False, True, True, 52, 20, True, False]\n",
    "</pre>\n",
    "*Input:*  \n",
    "\n",
    "<pre>\n",
    "\n",
    "\n",
    "</pre>\n",
    "\n",
    "*Output:*  \n",
    "<pre>\n",
    "[{'bool': {11: [False, False, True, True, False, True, False, True, True, True, False]}}, {'int': {10: [23, 68, 74, 61, 76, 16, 89, 97, 52, 20]}}, {'str': {10: ['paste', 'last', 'torpid', 'flash', 'vengeful', 'eye', 'parched', 'earthy', 'colour', 'produce']}}]\n",
    "</pre>\n",
    "\n",
    "*Structured representation of the final list for easier comprehension of the task:*  \n",
    "<pre>\n",
    "{'bool': {11: [False, False, True, True, False, True, False, True, True, True, False]}}\n",
    "{'int': {10: [23, 68, 74, 61, 76, 16, 89, 97, 52, 20]}}\n",
    "{'str': {10: ['paste', 'last', 'torpid', 'flash', 'vengeful', 'eye', 'parched', 'earthy', 'colour', 'produce']}}\n",
    "</pre>"
   ]
  },
  {
   "cell_type": "code",
   "execution_count": 36,
   "id": "e889dc27",
   "metadata": {},
   "outputs": [
    {
     "name": "stdout",
     "output_type": "stream",
     "text": [
      "[{'bool': {11: [False, False, True, True, False, True, False, True, True, True, False]}}, {'int': {10: [23, 68, 74, 61, 76, 16, 89, 97, 52, 20]}}, {'str': {10: ['paste', 'last', 'torpid', 'flash', 'vengeful', 'eye', 'parched', 'earthy', 'colour', 'produce']}}]\n"
     ]
    }
   ],
   "source": [
    "#optional definitions\n",
    "elements = [False, 23, 68, 74, 'paste', 'last', 'torpid', False, 61, True, 76, True, 16, 89, 'flash', 97, 'vengeful', 'eye', 'parched', False, 'earthy', 'colour', 'produce', True, False, True, True, 52, 20, True, False]\n",
    "\n",
    "#// BEGIN_TODO\n",
    "ordered_elements = []\n",
    "temp_dict = {}\n",
    "for element in elements:\n",
    "    if str(type(element).__name__) in temp_dict : \n",
    "        temp_dict[str(type(element).__name__)].append(element)\n",
    "    else : \n",
    "        temp_dict[str(type(element).__name__)] = [element]\n",
    "for key in temp_dict:\n",
    "    ordered_elements.append({key : {len(temp_dict[key]) : temp_dict[key]}})\n",
    "print(ordered_elements)\n",
    "#// END_TODO"
   ]
  }
 ],
 "metadata": {
  "kernelspec": {
   "display_name": "Python 3 (ipykernel)",
   "language": "python",
   "name": "python3"
  },
  "language_info": {
   "codemirror_mode": {
    "name": "ipython",
    "version": 3
   },
   "file_extension": ".py",
   "mimetype": "text/x-python",
   "name": "python",
   "nbconvert_exporter": "python",
   "pygments_lexer": "ipython3",
   "version": "3.8.10"
  }
 },
 "nbformat": 4,
 "nbformat_minor": 5
}
